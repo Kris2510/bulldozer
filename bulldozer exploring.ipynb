{
 "cells": [
  {
   "cell_type": "code",
   "execution_count": 1,
   "metadata": {},
   "outputs": [],
   "source": [
    "%load_ext autoreload\n",
    "%autoreload 2\n",
    "\n",
    "%matplotlib inline"
   ]
  },
  {
   "cell_type": "code",
   "execution_count": 1,
   "metadata": {},
   "outputs": [
    {
     "name": "stderr",
     "output_type": "stream",
     "text": [
      "/home/heatmap/anaconda3/envs/fastai-cpu/lib/python3.6/site-packages/sklearn/utils/deprecation.py:143: FutureWarning: The sklearn.ensemble.forest module is  deprecated in version 0.22 and will be removed in version 0.24. The corresponding classes / functions should instead be imported from sklearn.ensemble. Anything that cannot be imported from sklearn.ensemble is now part of the private API.\n",
      "  warnings.warn(message, FutureWarning)\n"
     ]
    }
   ],
   "source": [
    "\n",
    "\n",
    "from fastai.imports import *\n",
    "from fastai.structured import *\n",
    "\n",
    "from pandas.api.types import is_categorical_dtype\n",
    "from pandas.api.types import is_string_dtype, is_object_dtype\n",
    "from pandas_summary import DataFrameSummary\n",
    "from sklearn.ensemble import RandomForestRegressor\n",
    "from sklearn.ensemble import RandomForestClassifier\n",
    "from sklearn.preprocessing import OneHotEncoder\n",
    "from IPython.display import display\n",
    "import feather\n",
    "\n",
    "import seaborn as sns\n",
    "import matplotlib.pyplot as plt\n",
    "from pdpbox import pdp\n",
    "from plotnine import *\n",
    "\n",
    "from scipy.cluster import hierarchy as hc\n",
    "from sklearn import metrics\n",
    "from treeinterpreter import treeinterpreter as ti\n",
    "import xgboost as xgb\n"
   ]
  },
  {
   "cell_type": "markdown",
   "metadata": {},
   "source": [
    "# 1. Load data"
   ]
  },
  {
   "cell_type": "code",
   "execution_count": 2,
   "metadata": {},
   "outputs": [],
   "source": [
    "np.random.seed(42)"
   ]
  },
  {
   "cell_type": "code",
   "execution_count": 222,
   "metadata": {},
   "outputs": [],
   "source": [
    "PATH = 'data/bulldozer/'"
   ]
  },
  {
   "cell_type": "code",
   "execution_count": 223,
   "metadata": {},
   "outputs": [
    {
     "name": "stdout",
     "output_type": "stream",
     "text": [
      "'Data Dictionary.xlsx'\t\t    Test.csv\t        Train.zip\r\n",
      " Machine_Appendix.csv\t\t    Train.7z\t        Valid.7z\r\n",
      " median_benchmark.csv\t\t    TrainAndValid.7z    Valid.csv\r\n",
      " processed\t\t\t    TrainAndValid.csv   ValidSolution.csv\r\n",
      " random_forest_benchmark_test.csv   TrainAndValid.zip   Valid.zip\r\n",
      " raw\t\t\t\t    Train.csv\r\n"
     ]
    }
   ],
   "source": [
    "!ls {PATH}"
   ]
  },
  {
   "cell_type": "code",
   "execution_count": 224,
   "metadata": {},
   "outputs": [],
   "source": [
    "df_raw = pd.read_csv(f'{PATH}TrainAndValid.csv', low_memory=False, parse_dates=['saledate'])"
   ]
  },
  {
   "cell_type": "code",
   "execution_count": 225,
   "metadata": {},
   "outputs": [
    {
     "name": "stdout",
     "output_type": "stream",
     "text": [
      "<class 'pandas.core.frame.DataFrame'>\n",
      "RangeIndex: 412698 entries, 0 to 412697\n",
      "Data columns (total 53 columns):\n",
      " #   Column                    Non-Null Count   Dtype         \n",
      "---  ------                    --------------   -----         \n",
      " 0   SalesID                   412698 non-null  int64         \n",
      " 1   SalePrice                 412698 non-null  float64       \n",
      " 2   MachineID                 412698 non-null  int64         \n",
      " 3   ModelID                   412698 non-null  int64         \n",
      " 4   datasource                412698 non-null  int64         \n",
      " 5   auctioneerID              392562 non-null  float64       \n",
      " 6   YearMade                  412698 non-null  int64         \n",
      " 7   MachineHoursCurrentMeter  147504 non-null  float64       \n",
      " 8   UsageBand                 73670 non-null   object        \n",
      " 9   saledate                  412698 non-null  datetime64[ns]\n",
      " 10  fiModelDesc               412698 non-null  object        \n",
      " 11  fiBaseModel               412698 non-null  object        \n",
      " 12  fiSecondaryDesc           271971 non-null  object        \n",
      " 13  fiModelSeries             58667 non-null   object        \n",
      " 14  fiModelDescriptor         74816 non-null   object        \n",
      " 15  ProductSize               196093 non-null  object        \n",
      " 16  fiProductClassDesc        412698 non-null  object        \n",
      " 17  state                     412698 non-null  object        \n",
      " 18  ProductGroup              412698 non-null  object        \n",
      " 19  ProductGroupDesc          412698 non-null  object        \n",
      " 20  Drive_System              107087 non-null  object        \n",
      " 21  Enclosure                 412364 non-null  object        \n",
      " 22  Forks                     197715 non-null  object        \n",
      " 23  Pad_Type                  81096 non-null   object        \n",
      " 24  Ride_Control              152728 non-null  object        \n",
      " 25  Stick                     81096 non-null   object        \n",
      " 26  Transmission              188007 non-null  object        \n",
      " 27  Turbocharged              81096 non-null   object        \n",
      " 28  Blade_Extension           25983 non-null   object        \n",
      " 29  Blade_Width               25983 non-null   object        \n",
      " 30  Enclosure_Type            25983 non-null   object        \n",
      " 31  Engine_Horsepower         25983 non-null   object        \n",
      " 32  Hydraulics                330133 non-null  object        \n",
      " 33  Pushblock                 25983 non-null   object        \n",
      " 34  Ripper                    106945 non-null  object        \n",
      " 35  Scarifier                 25994 non-null   object        \n",
      " 36  Tip_Control               25983 non-null   object        \n",
      " 37  Tire_Size                 97638 non-null   object        \n",
      " 38  Coupler                   220679 non-null  object        \n",
      " 39  Coupler_System            44974 non-null   object        \n",
      " 40  Grouser_Tracks            44875 non-null   object        \n",
      " 41  Hydraulics_Flow           44875 non-null   object        \n",
      " 42  Track_Type                102193 non-null  object        \n",
      " 43  Undercarriage_Pad_Width   102916 non-null  object        \n",
      " 44  Stick_Length              102261 non-null  object        \n",
      " 45  Thumb                     102332 non-null  object        \n",
      " 46  Pattern_Changer           102261 non-null  object        \n",
      " 47  Grouser_Type              102193 non-null  object        \n",
      " 48  Backhoe_Mounting          80712 non-null   object        \n",
      " 49  Blade_Type                81875 non-null   object        \n",
      " 50  Travel_Controls           81877 non-null   object        \n",
      " 51  Differential_Type         71564 non-null   object        \n",
      " 52  Steering_Controls         71522 non-null   object        \n",
      "dtypes: datetime64[ns](1), float64(3), int64(5), object(44)\n",
      "memory usage: 166.9+ MB\n"
     ]
    }
   ],
   "source": [
    "df_raw.info()"
   ]
  },
  {
   "cell_type": "markdown",
   "metadata": {},
   "source": [
    "####  Safe data in the fast readable feather format "
   ]
  },
  {
   "cell_type": "code",
   "execution_count": 15,
   "metadata": {},
   "outputs": [],
   "source": [
    "os.makedirs('data/bulldozer', exist_ok=True)\n",
    "df_raw.to_feather('data/bulldozer/raw')"
   ]
  },
  {
   "cell_type": "code",
   "execution_count": 16,
   "metadata": {},
   "outputs": [
    {
     "name": "stdout",
     "output_type": "stream",
     "text": [
      "'Data Dictionary.xlsx'\t\t    Train.7z\t        Valid.7z\r\n",
      " Machine_Appendix.csv\t\t    TrainAndValid.7z    Valid.csv\r\n",
      " median_benchmark.csv\t\t    TrainAndValid.csv   ValidSolution.csv\r\n",
      " random_forest_benchmark_test.csv   TrainAndValid.zip   Valid.zip\r\n",
      " raw\t\t\t\t    Train.csv\r\n",
      " Test.csv\t\t\t    Train.zip\r\n"
     ]
    }
   ],
   "source": [
    "!ls {PATH}"
   ]
  },
  {
   "cell_type": "code",
   "execution_count": 3,
   "metadata": {},
   "outputs": [],
   "source": [
    "df_raw = feather.read_dataframe('data/bulldozer/raw')"
   ]
  },
  {
   "cell_type": "markdown",
   "metadata": {},
   "source": [
    "# 2. Preprocessing"
   ]
  },
  {
   "cell_type": "code",
   "execution_count": 264,
   "metadata": {},
   "outputs": [],
   "source": [
    "# create a copy of the raw data\n",
    "df_tmp = df_raw.copy()"
   ]
  },
  {
   "cell_type": "code",
   "execution_count": 265,
   "metadata": {},
   "outputs": [
    {
     "data": {
      "text/plain": [
       "(412698, 53)"
      ]
     },
     "execution_count": 265,
     "metadata": {},
     "output_type": "execute_result"
    }
   ],
   "source": [
    "df_tmp.shape"
   ]
  },
  {
   "cell_type": "code",
   "execution_count": 266,
   "metadata": {},
   "outputs": [
    {
     "data": {
      "text/html": [
       "<div>\n",
       "<style scoped>\n",
       "    .dataframe tbody tr th:only-of-type {\n",
       "        vertical-align: middle;\n",
       "    }\n",
       "\n",
       "    .dataframe tbody tr th {\n",
       "        vertical-align: top;\n",
       "    }\n",
       "\n",
       "    .dataframe thead th {\n",
       "        text-align: right;\n",
       "    }\n",
       "</style>\n",
       "<table border=\"1\" class=\"dataframe\">\n",
       "  <thead>\n",
       "    <tr style=\"text-align: right;\">\n",
       "      <th></th>\n",
       "      <th>SalesID</th>\n",
       "      <th>SalePrice</th>\n",
       "      <th>MachineID</th>\n",
       "      <th>ModelID</th>\n",
       "      <th>datasource</th>\n",
       "      <th>auctioneerID</th>\n",
       "      <th>YearMade</th>\n",
       "      <th>MachineHoursCurrentMeter</th>\n",
       "      <th>UsageBand</th>\n",
       "      <th>saledate</th>\n",
       "      <th>...</th>\n",
       "      <th>Undercarriage_Pad_Width</th>\n",
       "      <th>Stick_Length</th>\n",
       "      <th>Thumb</th>\n",
       "      <th>Pattern_Changer</th>\n",
       "      <th>Grouser_Type</th>\n",
       "      <th>Backhoe_Mounting</th>\n",
       "      <th>Blade_Type</th>\n",
       "      <th>Travel_Controls</th>\n",
       "      <th>Differential_Type</th>\n",
       "      <th>Steering_Controls</th>\n",
       "    </tr>\n",
       "  </thead>\n",
       "  <tbody>\n",
       "    <tr>\n",
       "      <th>0</th>\n",
       "      <td>1139246</td>\n",
       "      <td>66000.0</td>\n",
       "      <td>999089</td>\n",
       "      <td>3157</td>\n",
       "      <td>121</td>\n",
       "      <td>3.0</td>\n",
       "      <td>2004</td>\n",
       "      <td>68.0</td>\n",
       "      <td>Low</td>\n",
       "      <td>2006-11-16</td>\n",
       "      <td>...</td>\n",
       "      <td>None</td>\n",
       "      <td>None</td>\n",
       "      <td>None</td>\n",
       "      <td>None</td>\n",
       "      <td>None</td>\n",
       "      <td>None</td>\n",
       "      <td>None</td>\n",
       "      <td>None</td>\n",
       "      <td>Standard</td>\n",
       "      <td>Conventional</td>\n",
       "    </tr>\n",
       "    <tr>\n",
       "      <th>1</th>\n",
       "      <td>1139248</td>\n",
       "      <td>57000.0</td>\n",
       "      <td>117657</td>\n",
       "      <td>77</td>\n",
       "      <td>121</td>\n",
       "      <td>3.0</td>\n",
       "      <td>1996</td>\n",
       "      <td>4640.0</td>\n",
       "      <td>Low</td>\n",
       "      <td>2004-03-26</td>\n",
       "      <td>...</td>\n",
       "      <td>None</td>\n",
       "      <td>None</td>\n",
       "      <td>None</td>\n",
       "      <td>None</td>\n",
       "      <td>None</td>\n",
       "      <td>None</td>\n",
       "      <td>None</td>\n",
       "      <td>None</td>\n",
       "      <td>Standard</td>\n",
       "      <td>Conventional</td>\n",
       "    </tr>\n",
       "    <tr>\n",
       "      <th>2</th>\n",
       "      <td>1139249</td>\n",
       "      <td>10000.0</td>\n",
       "      <td>434808</td>\n",
       "      <td>7009</td>\n",
       "      <td>121</td>\n",
       "      <td>3.0</td>\n",
       "      <td>2001</td>\n",
       "      <td>2838.0</td>\n",
       "      <td>High</td>\n",
       "      <td>2004-02-26</td>\n",
       "      <td>...</td>\n",
       "      <td>None</td>\n",
       "      <td>None</td>\n",
       "      <td>None</td>\n",
       "      <td>None</td>\n",
       "      <td>None</td>\n",
       "      <td>None</td>\n",
       "      <td>None</td>\n",
       "      <td>None</td>\n",
       "      <td>None</td>\n",
       "      <td>None</td>\n",
       "    </tr>\n",
       "    <tr>\n",
       "      <th>3</th>\n",
       "      <td>1139251</td>\n",
       "      <td>38500.0</td>\n",
       "      <td>1026470</td>\n",
       "      <td>332</td>\n",
       "      <td>121</td>\n",
       "      <td>3.0</td>\n",
       "      <td>2001</td>\n",
       "      <td>3486.0</td>\n",
       "      <td>High</td>\n",
       "      <td>2011-05-19</td>\n",
       "      <td>...</td>\n",
       "      <td>None</td>\n",
       "      <td>None</td>\n",
       "      <td>None</td>\n",
       "      <td>None</td>\n",
       "      <td>None</td>\n",
       "      <td>None</td>\n",
       "      <td>None</td>\n",
       "      <td>None</td>\n",
       "      <td>None</td>\n",
       "      <td>None</td>\n",
       "    </tr>\n",
       "    <tr>\n",
       "      <th>4</th>\n",
       "      <td>1139253</td>\n",
       "      <td>11000.0</td>\n",
       "      <td>1057373</td>\n",
       "      <td>17311</td>\n",
       "      <td>121</td>\n",
       "      <td>3.0</td>\n",
       "      <td>2007</td>\n",
       "      <td>722.0</td>\n",
       "      <td>Medium</td>\n",
       "      <td>2009-07-23</td>\n",
       "      <td>...</td>\n",
       "      <td>None</td>\n",
       "      <td>None</td>\n",
       "      <td>None</td>\n",
       "      <td>None</td>\n",
       "      <td>None</td>\n",
       "      <td>None</td>\n",
       "      <td>None</td>\n",
       "      <td>None</td>\n",
       "      <td>None</td>\n",
       "      <td>None</td>\n",
       "    </tr>\n",
       "  </tbody>\n",
       "</table>\n",
       "<p>5 rows × 53 columns</p>\n",
       "</div>"
      ],
      "text/plain": [
       "   SalesID  SalePrice  MachineID  ModelID  datasource  auctioneerID  YearMade  \\\n",
       "0  1139246    66000.0     999089     3157         121           3.0      2004   \n",
       "1  1139248    57000.0     117657       77         121           3.0      1996   \n",
       "2  1139249    10000.0     434808     7009         121           3.0      2001   \n",
       "3  1139251    38500.0    1026470      332         121           3.0      2001   \n",
       "4  1139253    11000.0    1057373    17311         121           3.0      2007   \n",
       "\n",
       "   MachineHoursCurrentMeter UsageBand   saledate  ... Undercarriage_Pad_Width  \\\n",
       "0                      68.0       Low 2006-11-16  ...                    None   \n",
       "1                    4640.0       Low 2004-03-26  ...                    None   \n",
       "2                    2838.0      High 2004-02-26  ...                    None   \n",
       "3                    3486.0      High 2011-05-19  ...                    None   \n",
       "4                     722.0    Medium 2009-07-23  ...                    None   \n",
       "\n",
       "  Stick_Length Thumb Pattern_Changer Grouser_Type Backhoe_Mounting Blade_Type  \\\n",
       "0         None  None            None         None             None       None   \n",
       "1         None  None            None         None             None       None   \n",
       "2         None  None            None         None             None       None   \n",
       "3         None  None            None         None             None       None   \n",
       "4         None  None            None         None             None       None   \n",
       "\n",
       "  Travel_Controls Differential_Type Steering_Controls  \n",
       "0            None          Standard      Conventional  \n",
       "1            None          Standard      Conventional  \n",
       "2            None              None              None  \n",
       "3            None              None              None  \n",
       "4            None              None              None  \n",
       "\n",
       "[5 rows x 53 columns]"
      ]
     },
     "execution_count": 266,
     "metadata": {},
     "output_type": "execute_result"
    }
   ],
   "source": [
    "df_tmp.head()"
   ]
  },
  {
   "cell_type": "code",
   "execution_count": 74,
   "metadata": {},
   "outputs": [],
   "source": [
    "def display_all(df):\n",
    "    with pd.option_context(\"display.max_rows\", 1000, \"display.max_columns\", 1000): \n",
    "        display(df)"
   ]
  },
  {
   "cell_type": "code",
   "execution_count": 268,
   "metadata": {},
   "outputs": [
    {
     "data": {
      "text/html": [
       "<div>\n",
       "<style scoped>\n",
       "    .dataframe tbody tr th:only-of-type {\n",
       "        vertical-align: middle;\n",
       "    }\n",
       "\n",
       "    .dataframe tbody tr th {\n",
       "        vertical-align: top;\n",
       "    }\n",
       "\n",
       "    .dataframe thead th {\n",
       "        text-align: right;\n",
       "    }\n",
       "</style>\n",
       "<table border=\"1\" class=\"dataframe\">\n",
       "  <thead>\n",
       "    <tr style=\"text-align: right;\">\n",
       "      <th></th>\n",
       "      <th>0</th>\n",
       "      <th>1</th>\n",
       "      <th>2</th>\n",
       "      <th>3</th>\n",
       "      <th>4</th>\n",
       "    </tr>\n",
       "  </thead>\n",
       "  <tbody>\n",
       "    <tr>\n",
       "      <th>SalesID</th>\n",
       "      <td>1139246</td>\n",
       "      <td>1139248</td>\n",
       "      <td>1139249</td>\n",
       "      <td>1139251</td>\n",
       "      <td>1139253</td>\n",
       "    </tr>\n",
       "    <tr>\n",
       "      <th>SalePrice</th>\n",
       "      <td>66000</td>\n",
       "      <td>57000</td>\n",
       "      <td>10000</td>\n",
       "      <td>38500</td>\n",
       "      <td>11000</td>\n",
       "    </tr>\n",
       "    <tr>\n",
       "      <th>MachineID</th>\n",
       "      <td>999089</td>\n",
       "      <td>117657</td>\n",
       "      <td>434808</td>\n",
       "      <td>1026470</td>\n",
       "      <td>1057373</td>\n",
       "    </tr>\n",
       "    <tr>\n",
       "      <th>ModelID</th>\n",
       "      <td>3157</td>\n",
       "      <td>77</td>\n",
       "      <td>7009</td>\n",
       "      <td>332</td>\n",
       "      <td>17311</td>\n",
       "    </tr>\n",
       "    <tr>\n",
       "      <th>datasource</th>\n",
       "      <td>121</td>\n",
       "      <td>121</td>\n",
       "      <td>121</td>\n",
       "      <td>121</td>\n",
       "      <td>121</td>\n",
       "    </tr>\n",
       "    <tr>\n",
       "      <th>auctioneerID</th>\n",
       "      <td>3</td>\n",
       "      <td>3</td>\n",
       "      <td>3</td>\n",
       "      <td>3</td>\n",
       "      <td>3</td>\n",
       "    </tr>\n",
       "    <tr>\n",
       "      <th>YearMade</th>\n",
       "      <td>2004</td>\n",
       "      <td>1996</td>\n",
       "      <td>2001</td>\n",
       "      <td>2001</td>\n",
       "      <td>2007</td>\n",
       "    </tr>\n",
       "    <tr>\n",
       "      <th>MachineHoursCurrentMeter</th>\n",
       "      <td>68</td>\n",
       "      <td>4640</td>\n",
       "      <td>2838</td>\n",
       "      <td>3486</td>\n",
       "      <td>722</td>\n",
       "    </tr>\n",
       "    <tr>\n",
       "      <th>UsageBand</th>\n",
       "      <td>Low</td>\n",
       "      <td>Low</td>\n",
       "      <td>High</td>\n",
       "      <td>High</td>\n",
       "      <td>Medium</td>\n",
       "    </tr>\n",
       "    <tr>\n",
       "      <th>saledate</th>\n",
       "      <td>2006-11-16 00:00:00</td>\n",
       "      <td>2004-03-26 00:00:00</td>\n",
       "      <td>2004-02-26 00:00:00</td>\n",
       "      <td>2011-05-19 00:00:00</td>\n",
       "      <td>2009-07-23 00:00:00</td>\n",
       "    </tr>\n",
       "    <tr>\n",
       "      <th>fiModelDesc</th>\n",
       "      <td>521D</td>\n",
       "      <td>950FII</td>\n",
       "      <td>226</td>\n",
       "      <td>PC120-6E</td>\n",
       "      <td>S175</td>\n",
       "    </tr>\n",
       "    <tr>\n",
       "      <th>fiBaseModel</th>\n",
       "      <td>521</td>\n",
       "      <td>950</td>\n",
       "      <td>226</td>\n",
       "      <td>PC120</td>\n",
       "      <td>S175</td>\n",
       "    </tr>\n",
       "    <tr>\n",
       "      <th>fiSecondaryDesc</th>\n",
       "      <td>D</td>\n",
       "      <td>F</td>\n",
       "      <td>None</td>\n",
       "      <td>None</td>\n",
       "      <td>None</td>\n",
       "    </tr>\n",
       "    <tr>\n",
       "      <th>fiModelSeries</th>\n",
       "      <td>None</td>\n",
       "      <td>II</td>\n",
       "      <td>None</td>\n",
       "      <td>-6E</td>\n",
       "      <td>None</td>\n",
       "    </tr>\n",
       "    <tr>\n",
       "      <th>fiModelDescriptor</th>\n",
       "      <td>None</td>\n",
       "      <td>None</td>\n",
       "      <td>None</td>\n",
       "      <td>None</td>\n",
       "      <td>None</td>\n",
       "    </tr>\n",
       "    <tr>\n",
       "      <th>ProductSize</th>\n",
       "      <td>None</td>\n",
       "      <td>Medium</td>\n",
       "      <td>None</td>\n",
       "      <td>Small</td>\n",
       "      <td>None</td>\n",
       "    </tr>\n",
       "    <tr>\n",
       "      <th>fiProductClassDesc</th>\n",
       "      <td>Wheel Loader - 110.0 to 120.0 Horsepower</td>\n",
       "      <td>Wheel Loader - 150.0 to 175.0 Horsepower</td>\n",
       "      <td>Skid Steer Loader - 1351.0 to 1601.0 Lb Operat...</td>\n",
       "      <td>Hydraulic Excavator, Track - 12.0 to 14.0 Metr...</td>\n",
       "      <td>Skid Steer Loader - 1601.0 to 1751.0 Lb Operat...</td>\n",
       "    </tr>\n",
       "    <tr>\n",
       "      <th>state</th>\n",
       "      <td>Alabama</td>\n",
       "      <td>North Carolina</td>\n",
       "      <td>New York</td>\n",
       "      <td>Texas</td>\n",
       "      <td>New York</td>\n",
       "    </tr>\n",
       "    <tr>\n",
       "      <th>ProductGroup</th>\n",
       "      <td>WL</td>\n",
       "      <td>WL</td>\n",
       "      <td>SSL</td>\n",
       "      <td>TEX</td>\n",
       "      <td>SSL</td>\n",
       "    </tr>\n",
       "    <tr>\n",
       "      <th>ProductGroupDesc</th>\n",
       "      <td>Wheel Loader</td>\n",
       "      <td>Wheel Loader</td>\n",
       "      <td>Skid Steer Loaders</td>\n",
       "      <td>Track Excavators</td>\n",
       "      <td>Skid Steer Loaders</td>\n",
       "    </tr>\n",
       "    <tr>\n",
       "      <th>Drive_System</th>\n",
       "      <td>None</td>\n",
       "      <td>None</td>\n",
       "      <td>None</td>\n",
       "      <td>None</td>\n",
       "      <td>None</td>\n",
       "    </tr>\n",
       "    <tr>\n",
       "      <th>Enclosure</th>\n",
       "      <td>EROPS w AC</td>\n",
       "      <td>EROPS w AC</td>\n",
       "      <td>OROPS</td>\n",
       "      <td>EROPS w AC</td>\n",
       "      <td>EROPS</td>\n",
       "    </tr>\n",
       "    <tr>\n",
       "      <th>Forks</th>\n",
       "      <td>None or Unspecified</td>\n",
       "      <td>None or Unspecified</td>\n",
       "      <td>None or Unspecified</td>\n",
       "      <td>None</td>\n",
       "      <td>None or Unspecified</td>\n",
       "    </tr>\n",
       "    <tr>\n",
       "      <th>Pad_Type</th>\n",
       "      <td>None</td>\n",
       "      <td>None</td>\n",
       "      <td>None</td>\n",
       "      <td>None</td>\n",
       "      <td>None</td>\n",
       "    </tr>\n",
       "    <tr>\n",
       "      <th>Ride_Control</th>\n",
       "      <td>None or Unspecified</td>\n",
       "      <td>None or Unspecified</td>\n",
       "      <td>None</td>\n",
       "      <td>None</td>\n",
       "      <td>None</td>\n",
       "    </tr>\n",
       "    <tr>\n",
       "      <th>Stick</th>\n",
       "      <td>None</td>\n",
       "      <td>None</td>\n",
       "      <td>None</td>\n",
       "      <td>None</td>\n",
       "      <td>None</td>\n",
       "    </tr>\n",
       "    <tr>\n",
       "      <th>Transmission</th>\n",
       "      <td>None</td>\n",
       "      <td>None</td>\n",
       "      <td>None</td>\n",
       "      <td>None</td>\n",
       "      <td>None</td>\n",
       "    </tr>\n",
       "    <tr>\n",
       "      <th>Turbocharged</th>\n",
       "      <td>None</td>\n",
       "      <td>None</td>\n",
       "      <td>None</td>\n",
       "      <td>None</td>\n",
       "      <td>None</td>\n",
       "    </tr>\n",
       "    <tr>\n",
       "      <th>Blade_Extension</th>\n",
       "      <td>None</td>\n",
       "      <td>None</td>\n",
       "      <td>None</td>\n",
       "      <td>None</td>\n",
       "      <td>None</td>\n",
       "    </tr>\n",
       "    <tr>\n",
       "      <th>Blade_Width</th>\n",
       "      <td>None</td>\n",
       "      <td>None</td>\n",
       "      <td>None</td>\n",
       "      <td>None</td>\n",
       "      <td>None</td>\n",
       "    </tr>\n",
       "    <tr>\n",
       "      <th>Enclosure_Type</th>\n",
       "      <td>None</td>\n",
       "      <td>None</td>\n",
       "      <td>None</td>\n",
       "      <td>None</td>\n",
       "      <td>None</td>\n",
       "    </tr>\n",
       "    <tr>\n",
       "      <th>Engine_Horsepower</th>\n",
       "      <td>None</td>\n",
       "      <td>None</td>\n",
       "      <td>None</td>\n",
       "      <td>None</td>\n",
       "      <td>None</td>\n",
       "    </tr>\n",
       "    <tr>\n",
       "      <th>Hydraulics</th>\n",
       "      <td>2 Valve</td>\n",
       "      <td>2 Valve</td>\n",
       "      <td>Auxiliary</td>\n",
       "      <td>2 Valve</td>\n",
       "      <td>Auxiliary</td>\n",
       "    </tr>\n",
       "    <tr>\n",
       "      <th>Pushblock</th>\n",
       "      <td>None</td>\n",
       "      <td>None</td>\n",
       "      <td>None</td>\n",
       "      <td>None</td>\n",
       "      <td>None</td>\n",
       "    </tr>\n",
       "    <tr>\n",
       "      <th>Ripper</th>\n",
       "      <td>None</td>\n",
       "      <td>None</td>\n",
       "      <td>None</td>\n",
       "      <td>None</td>\n",
       "      <td>None</td>\n",
       "    </tr>\n",
       "    <tr>\n",
       "      <th>Scarifier</th>\n",
       "      <td>None</td>\n",
       "      <td>None</td>\n",
       "      <td>None</td>\n",
       "      <td>None</td>\n",
       "      <td>None</td>\n",
       "    </tr>\n",
       "    <tr>\n",
       "      <th>Tip_Control</th>\n",
       "      <td>None</td>\n",
       "      <td>None</td>\n",
       "      <td>None</td>\n",
       "      <td>None</td>\n",
       "      <td>None</td>\n",
       "    </tr>\n",
       "    <tr>\n",
       "      <th>Tire_Size</th>\n",
       "      <td>None or Unspecified</td>\n",
       "      <td>23.5</td>\n",
       "      <td>None</td>\n",
       "      <td>None</td>\n",
       "      <td>None</td>\n",
       "    </tr>\n",
       "    <tr>\n",
       "      <th>Coupler</th>\n",
       "      <td>None or Unspecified</td>\n",
       "      <td>None or Unspecified</td>\n",
       "      <td>None or Unspecified</td>\n",
       "      <td>None or Unspecified</td>\n",
       "      <td>None or Unspecified</td>\n",
       "    </tr>\n",
       "    <tr>\n",
       "      <th>Coupler_System</th>\n",
       "      <td>None</td>\n",
       "      <td>None</td>\n",
       "      <td>None or Unspecified</td>\n",
       "      <td>None</td>\n",
       "      <td>None or Unspecified</td>\n",
       "    </tr>\n",
       "    <tr>\n",
       "      <th>Grouser_Tracks</th>\n",
       "      <td>None</td>\n",
       "      <td>None</td>\n",
       "      <td>None or Unspecified</td>\n",
       "      <td>None</td>\n",
       "      <td>None or Unspecified</td>\n",
       "    </tr>\n",
       "    <tr>\n",
       "      <th>Hydraulics_Flow</th>\n",
       "      <td>None</td>\n",
       "      <td>None</td>\n",
       "      <td>Standard</td>\n",
       "      <td>None</td>\n",
       "      <td>Standard</td>\n",
       "    </tr>\n",
       "    <tr>\n",
       "      <th>Track_Type</th>\n",
       "      <td>None</td>\n",
       "      <td>None</td>\n",
       "      <td>None</td>\n",
       "      <td>None</td>\n",
       "      <td>None</td>\n",
       "    </tr>\n",
       "    <tr>\n",
       "      <th>Undercarriage_Pad_Width</th>\n",
       "      <td>None</td>\n",
       "      <td>None</td>\n",
       "      <td>None</td>\n",
       "      <td>None</td>\n",
       "      <td>None</td>\n",
       "    </tr>\n",
       "    <tr>\n",
       "      <th>Stick_Length</th>\n",
       "      <td>None</td>\n",
       "      <td>None</td>\n",
       "      <td>None</td>\n",
       "      <td>None</td>\n",
       "      <td>None</td>\n",
       "    </tr>\n",
       "    <tr>\n",
       "      <th>Thumb</th>\n",
       "      <td>None</td>\n",
       "      <td>None</td>\n",
       "      <td>None</td>\n",
       "      <td>None</td>\n",
       "      <td>None</td>\n",
       "    </tr>\n",
       "    <tr>\n",
       "      <th>Pattern_Changer</th>\n",
       "      <td>None</td>\n",
       "      <td>None</td>\n",
       "      <td>None</td>\n",
       "      <td>None</td>\n",
       "      <td>None</td>\n",
       "    </tr>\n",
       "    <tr>\n",
       "      <th>Grouser_Type</th>\n",
       "      <td>None</td>\n",
       "      <td>None</td>\n",
       "      <td>None</td>\n",
       "      <td>None</td>\n",
       "      <td>None</td>\n",
       "    </tr>\n",
       "    <tr>\n",
       "      <th>Backhoe_Mounting</th>\n",
       "      <td>None</td>\n",
       "      <td>None</td>\n",
       "      <td>None</td>\n",
       "      <td>None</td>\n",
       "      <td>None</td>\n",
       "    </tr>\n",
       "    <tr>\n",
       "      <th>Blade_Type</th>\n",
       "      <td>None</td>\n",
       "      <td>None</td>\n",
       "      <td>None</td>\n",
       "      <td>None</td>\n",
       "      <td>None</td>\n",
       "    </tr>\n",
       "    <tr>\n",
       "      <th>Travel_Controls</th>\n",
       "      <td>None</td>\n",
       "      <td>None</td>\n",
       "      <td>None</td>\n",
       "      <td>None</td>\n",
       "      <td>None</td>\n",
       "    </tr>\n",
       "    <tr>\n",
       "      <th>Differential_Type</th>\n",
       "      <td>Standard</td>\n",
       "      <td>Standard</td>\n",
       "      <td>None</td>\n",
       "      <td>None</td>\n",
       "      <td>None</td>\n",
       "    </tr>\n",
       "    <tr>\n",
       "      <th>Steering_Controls</th>\n",
       "      <td>Conventional</td>\n",
       "      <td>Conventional</td>\n",
       "      <td>None</td>\n",
       "      <td>None</td>\n",
       "      <td>None</td>\n",
       "    </tr>\n",
       "  </tbody>\n",
       "</table>\n",
       "</div>"
      ],
      "text/plain": [
       "                                                                 0  \\\n",
       "SalesID                                                    1139246   \n",
       "SalePrice                                                    66000   \n",
       "MachineID                                                   999089   \n",
       "ModelID                                                       3157   \n",
       "datasource                                                     121   \n",
       "auctioneerID                                                     3   \n",
       "YearMade                                                      2004   \n",
       "MachineHoursCurrentMeter                                        68   \n",
       "UsageBand                                                      Low   \n",
       "saledate                                       2006-11-16 00:00:00   \n",
       "fiModelDesc                                                   521D   \n",
       "fiBaseModel                                                    521   \n",
       "fiSecondaryDesc                                                  D   \n",
       "fiModelSeries                                                 None   \n",
       "fiModelDescriptor                                             None   \n",
       "ProductSize                                                   None   \n",
       "fiProductClassDesc        Wheel Loader - 110.0 to 120.0 Horsepower   \n",
       "state                                                      Alabama   \n",
       "ProductGroup                                                    WL   \n",
       "ProductGroupDesc                                      Wheel Loader   \n",
       "Drive_System                                                  None   \n",
       "Enclosure                                               EROPS w AC   \n",
       "Forks                                          None or Unspecified   \n",
       "Pad_Type                                                      None   \n",
       "Ride_Control                                   None or Unspecified   \n",
       "Stick                                                         None   \n",
       "Transmission                                                  None   \n",
       "Turbocharged                                                  None   \n",
       "Blade_Extension                                               None   \n",
       "Blade_Width                                                   None   \n",
       "Enclosure_Type                                                None   \n",
       "Engine_Horsepower                                             None   \n",
       "Hydraulics                                                 2 Valve   \n",
       "Pushblock                                                     None   \n",
       "Ripper                                                        None   \n",
       "Scarifier                                                     None   \n",
       "Tip_Control                                                   None   \n",
       "Tire_Size                                      None or Unspecified   \n",
       "Coupler                                        None or Unspecified   \n",
       "Coupler_System                                                None   \n",
       "Grouser_Tracks                                                None   \n",
       "Hydraulics_Flow                                               None   \n",
       "Track_Type                                                    None   \n",
       "Undercarriage_Pad_Width                                       None   \n",
       "Stick_Length                                                  None   \n",
       "Thumb                                                         None   \n",
       "Pattern_Changer                                               None   \n",
       "Grouser_Type                                                  None   \n",
       "Backhoe_Mounting                                              None   \n",
       "Blade_Type                                                    None   \n",
       "Travel_Controls                                               None   \n",
       "Differential_Type                                         Standard   \n",
       "Steering_Controls                                     Conventional   \n",
       "\n",
       "                                                                 1  \\\n",
       "SalesID                                                    1139248   \n",
       "SalePrice                                                    57000   \n",
       "MachineID                                                   117657   \n",
       "ModelID                                                         77   \n",
       "datasource                                                     121   \n",
       "auctioneerID                                                     3   \n",
       "YearMade                                                      1996   \n",
       "MachineHoursCurrentMeter                                      4640   \n",
       "UsageBand                                                      Low   \n",
       "saledate                                       2004-03-26 00:00:00   \n",
       "fiModelDesc                                                 950FII   \n",
       "fiBaseModel                                                    950   \n",
       "fiSecondaryDesc                                                  F   \n",
       "fiModelSeries                                                   II   \n",
       "fiModelDescriptor                                             None   \n",
       "ProductSize                                                 Medium   \n",
       "fiProductClassDesc        Wheel Loader - 150.0 to 175.0 Horsepower   \n",
       "state                                               North Carolina   \n",
       "ProductGroup                                                    WL   \n",
       "ProductGroupDesc                                      Wheel Loader   \n",
       "Drive_System                                                  None   \n",
       "Enclosure                                               EROPS w AC   \n",
       "Forks                                          None or Unspecified   \n",
       "Pad_Type                                                      None   \n",
       "Ride_Control                                   None or Unspecified   \n",
       "Stick                                                         None   \n",
       "Transmission                                                  None   \n",
       "Turbocharged                                                  None   \n",
       "Blade_Extension                                               None   \n",
       "Blade_Width                                                   None   \n",
       "Enclosure_Type                                                None   \n",
       "Engine_Horsepower                                             None   \n",
       "Hydraulics                                                 2 Valve   \n",
       "Pushblock                                                     None   \n",
       "Ripper                                                        None   \n",
       "Scarifier                                                     None   \n",
       "Tip_Control                                                   None   \n",
       "Tire_Size                                                     23.5   \n",
       "Coupler                                        None or Unspecified   \n",
       "Coupler_System                                                None   \n",
       "Grouser_Tracks                                                None   \n",
       "Hydraulics_Flow                                               None   \n",
       "Track_Type                                                    None   \n",
       "Undercarriage_Pad_Width                                       None   \n",
       "Stick_Length                                                  None   \n",
       "Thumb                                                         None   \n",
       "Pattern_Changer                                               None   \n",
       "Grouser_Type                                                  None   \n",
       "Backhoe_Mounting                                              None   \n",
       "Blade_Type                                                    None   \n",
       "Travel_Controls                                               None   \n",
       "Differential_Type                                         Standard   \n",
       "Steering_Controls                                     Conventional   \n",
       "\n",
       "                                                                          2  \\\n",
       "SalesID                                                             1139249   \n",
       "SalePrice                                                             10000   \n",
       "MachineID                                                            434808   \n",
       "ModelID                                                                7009   \n",
       "datasource                                                              121   \n",
       "auctioneerID                                                              3   \n",
       "YearMade                                                               2001   \n",
       "MachineHoursCurrentMeter                                               2838   \n",
       "UsageBand                                                              High   \n",
       "saledate                                                2004-02-26 00:00:00   \n",
       "fiModelDesc                                                             226   \n",
       "fiBaseModel                                                             226   \n",
       "fiSecondaryDesc                                                        None   \n",
       "fiModelSeries                                                          None   \n",
       "fiModelDescriptor                                                      None   \n",
       "ProductSize                                                            None   \n",
       "fiProductClassDesc        Skid Steer Loader - 1351.0 to 1601.0 Lb Operat...   \n",
       "state                                                              New York   \n",
       "ProductGroup                                                            SSL   \n",
       "ProductGroupDesc                                         Skid Steer Loaders   \n",
       "Drive_System                                                           None   \n",
       "Enclosure                                                             OROPS   \n",
       "Forks                                                   None or Unspecified   \n",
       "Pad_Type                                                               None   \n",
       "Ride_Control                                                           None   \n",
       "Stick                                                                  None   \n",
       "Transmission                                                           None   \n",
       "Turbocharged                                                           None   \n",
       "Blade_Extension                                                        None   \n",
       "Blade_Width                                                            None   \n",
       "Enclosure_Type                                                         None   \n",
       "Engine_Horsepower                                                      None   \n",
       "Hydraulics                                                        Auxiliary   \n",
       "Pushblock                                                              None   \n",
       "Ripper                                                                 None   \n",
       "Scarifier                                                              None   \n",
       "Tip_Control                                                            None   \n",
       "Tire_Size                                                              None   \n",
       "Coupler                                                 None or Unspecified   \n",
       "Coupler_System                                          None or Unspecified   \n",
       "Grouser_Tracks                                          None or Unspecified   \n",
       "Hydraulics_Flow                                                    Standard   \n",
       "Track_Type                                                             None   \n",
       "Undercarriage_Pad_Width                                                None   \n",
       "Stick_Length                                                           None   \n",
       "Thumb                                                                  None   \n",
       "Pattern_Changer                                                        None   \n",
       "Grouser_Type                                                           None   \n",
       "Backhoe_Mounting                                                       None   \n",
       "Blade_Type                                                             None   \n",
       "Travel_Controls                                                        None   \n",
       "Differential_Type                                                      None   \n",
       "Steering_Controls                                                      None   \n",
       "\n",
       "                                                                          3  \\\n",
       "SalesID                                                             1139251   \n",
       "SalePrice                                                             38500   \n",
       "MachineID                                                           1026470   \n",
       "ModelID                                                                 332   \n",
       "datasource                                                              121   \n",
       "auctioneerID                                                              3   \n",
       "YearMade                                                               2001   \n",
       "MachineHoursCurrentMeter                                               3486   \n",
       "UsageBand                                                              High   \n",
       "saledate                                                2011-05-19 00:00:00   \n",
       "fiModelDesc                                                        PC120-6E   \n",
       "fiBaseModel                                                           PC120   \n",
       "fiSecondaryDesc                                                        None   \n",
       "fiModelSeries                                                           -6E   \n",
       "fiModelDescriptor                                                      None   \n",
       "ProductSize                                                           Small   \n",
       "fiProductClassDesc        Hydraulic Excavator, Track - 12.0 to 14.0 Metr...   \n",
       "state                                                                 Texas   \n",
       "ProductGroup                                                            TEX   \n",
       "ProductGroupDesc                                           Track Excavators   \n",
       "Drive_System                                                           None   \n",
       "Enclosure                                                        EROPS w AC   \n",
       "Forks                                                                  None   \n",
       "Pad_Type                                                               None   \n",
       "Ride_Control                                                           None   \n",
       "Stick                                                                  None   \n",
       "Transmission                                                           None   \n",
       "Turbocharged                                                           None   \n",
       "Blade_Extension                                                        None   \n",
       "Blade_Width                                                            None   \n",
       "Enclosure_Type                                                         None   \n",
       "Engine_Horsepower                                                      None   \n",
       "Hydraulics                                                          2 Valve   \n",
       "Pushblock                                                              None   \n",
       "Ripper                                                                 None   \n",
       "Scarifier                                                              None   \n",
       "Tip_Control                                                            None   \n",
       "Tire_Size                                                              None   \n",
       "Coupler                                                 None or Unspecified   \n",
       "Coupler_System                                                         None   \n",
       "Grouser_Tracks                                                         None   \n",
       "Hydraulics_Flow                                                        None   \n",
       "Track_Type                                                             None   \n",
       "Undercarriage_Pad_Width                                                None   \n",
       "Stick_Length                                                           None   \n",
       "Thumb                                                                  None   \n",
       "Pattern_Changer                                                        None   \n",
       "Grouser_Type                                                           None   \n",
       "Backhoe_Mounting                                                       None   \n",
       "Blade_Type                                                             None   \n",
       "Travel_Controls                                                        None   \n",
       "Differential_Type                                                      None   \n",
       "Steering_Controls                                                      None   \n",
       "\n",
       "                                                                          4  \n",
       "SalesID                                                             1139253  \n",
       "SalePrice                                                             11000  \n",
       "MachineID                                                           1057373  \n",
       "ModelID                                                               17311  \n",
       "datasource                                                              121  \n",
       "auctioneerID                                                              3  \n",
       "YearMade                                                               2007  \n",
       "MachineHoursCurrentMeter                                                722  \n",
       "UsageBand                                                            Medium  \n",
       "saledate                                                2009-07-23 00:00:00  \n",
       "fiModelDesc                                                            S175  \n",
       "fiBaseModel                                                            S175  \n",
       "fiSecondaryDesc                                                        None  \n",
       "fiModelSeries                                                          None  \n",
       "fiModelDescriptor                                                      None  \n",
       "ProductSize                                                            None  \n",
       "fiProductClassDesc        Skid Steer Loader - 1601.0 to 1751.0 Lb Operat...  \n",
       "state                                                              New York  \n",
       "ProductGroup                                                            SSL  \n",
       "ProductGroupDesc                                         Skid Steer Loaders  \n",
       "Drive_System                                                           None  \n",
       "Enclosure                                                             EROPS  \n",
       "Forks                                                   None or Unspecified  \n",
       "Pad_Type                                                               None  \n",
       "Ride_Control                                                           None  \n",
       "Stick                                                                  None  \n",
       "Transmission                                                           None  \n",
       "Turbocharged                                                           None  \n",
       "Blade_Extension                                                        None  \n",
       "Blade_Width                                                            None  \n",
       "Enclosure_Type                                                         None  \n",
       "Engine_Horsepower                                                      None  \n",
       "Hydraulics                                                        Auxiliary  \n",
       "Pushblock                                                              None  \n",
       "Ripper                                                                 None  \n",
       "Scarifier                                                              None  \n",
       "Tip_Control                                                            None  \n",
       "Tire_Size                                                              None  \n",
       "Coupler                                                 None or Unspecified  \n",
       "Coupler_System                                          None or Unspecified  \n",
       "Grouser_Tracks                                          None or Unspecified  \n",
       "Hydraulics_Flow                                                    Standard  \n",
       "Track_Type                                                             None  \n",
       "Undercarriage_Pad_Width                                                None  \n",
       "Stick_Length                                                           None  \n",
       "Thumb                                                                  None  \n",
       "Pattern_Changer                                                        None  \n",
       "Grouser_Type                                                           None  \n",
       "Backhoe_Mounting                                                       None  \n",
       "Blade_Type                                                             None  \n",
       "Travel_Controls                                                        None  \n",
       "Differential_Type                                                      None  \n",
       "Steering_Controls                                                      None  "
      ]
     },
     "metadata": {},
     "output_type": "display_data"
    }
   ],
   "source": [
    "display_all(df_tmp.head().T)"
   ]
  },
  {
   "cell_type": "markdown",
   "metadata": {},
   "source": [
    "## 2.1 Dates"
   ]
  },
  {
   "cell_type": "code",
   "execution_count": 269,
   "metadata": {},
   "outputs": [
    {
     "data": {
      "text/plain": [
       "0        2006-11-16\n",
       "1        2004-03-26\n",
       "2        2004-02-26\n",
       "3        2011-05-19\n",
       "4        2009-07-23\n",
       "            ...    \n",
       "412693   2012-03-07\n",
       "412694   2012-01-28\n",
       "412695   2012-01-28\n",
       "412696   2012-03-07\n",
       "412697   2012-01-28\n",
       "Name: saledate, Length: 412698, dtype: datetime64[ns]"
      ]
     },
     "execution_count": 269,
     "metadata": {},
     "output_type": "execute_result"
    }
   ],
   "source": [
    "df_tmp.saledate"
   ]
  },
  {
   "cell_type": "code",
   "execution_count": 270,
   "metadata": {},
   "outputs": [],
   "source": [
    "def prep_date(df, date_col):\n",
    "    df[\"saleYear\"] = df[date_col].dt.year\n",
    "    df[\"saleMonth\"] = df[date_col].dt.month\n",
    "    df[\"saleDay\"] = df[date_col].dt.day\n",
    "    df[\"saleDayofweek\"] = df[date_col].dt.dayofweek\n",
    "    df[\"saleWeekofyear\"] = df[date_col].dt.weekofyear\n",
    "    df[\"saleDayofyear\"] = df[date_col].dt.dayofyear\n",
    "    df[\"saleQuarter\"] = df[date_col].dt.quarter\n",
    "    df[\"saleIsWeekend\"] = np.where((df[date_col].dt.day_name == ['Sunday', 'Saturday']),1,0)\n",
    "    df[\"saleIsQuarterStart\"] = np.where(df[date_col].dt.month.isin([1, 4, 7, 10]),1 ,0)\n",
    "    df[\"saleIsQuarterEnd\"] = np.where(df[date_col].dt.month.isin([3, 6, 9, 12]),1 ,0)\n",
    "    df.drop(date_col, axis=1, inplace=True)\n",
    "    \n",
    "    return df"
   ]
  },
  {
   "cell_type": "code",
   "execution_count": 271,
   "metadata": {},
   "outputs": [],
   "source": [
    "df_tmp= prep_date(df_tmp, 'saledate')"
   ]
  },
  {
   "cell_type": "code",
   "execution_count": 272,
   "metadata": {},
   "outputs": [
    {
     "data": {
      "text/html": [
       "<div>\n",
       "<style scoped>\n",
       "    .dataframe tbody tr th:only-of-type {\n",
       "        vertical-align: middle;\n",
       "    }\n",
       "\n",
       "    .dataframe tbody tr th {\n",
       "        vertical-align: top;\n",
       "    }\n",
       "\n",
       "    .dataframe thead th {\n",
       "        text-align: right;\n",
       "    }\n",
       "</style>\n",
       "<table border=\"1\" class=\"dataframe\">\n",
       "  <thead>\n",
       "    <tr style=\"text-align: right;\">\n",
       "      <th></th>\n",
       "      <th>SalesID</th>\n",
       "      <th>SalePrice</th>\n",
       "      <th>MachineID</th>\n",
       "      <th>ModelID</th>\n",
       "      <th>datasource</th>\n",
       "      <th>auctioneerID</th>\n",
       "      <th>YearMade</th>\n",
       "      <th>MachineHoursCurrentMeter</th>\n",
       "      <th>UsageBand</th>\n",
       "      <th>fiModelDesc</th>\n",
       "      <th>...</th>\n",
       "      <th>saleYear</th>\n",
       "      <th>saleMonth</th>\n",
       "      <th>saleDay</th>\n",
       "      <th>saleDayofweek</th>\n",
       "      <th>saleWeekofyear</th>\n",
       "      <th>saleDayofyear</th>\n",
       "      <th>saleQuarter</th>\n",
       "      <th>saleIsWeekend</th>\n",
       "      <th>saleIsQuarterStart</th>\n",
       "      <th>saleIsQuarterEnd</th>\n",
       "    </tr>\n",
       "  </thead>\n",
       "  <tbody>\n",
       "    <tr>\n",
       "      <th>0</th>\n",
       "      <td>1139246</td>\n",
       "      <td>66000.0</td>\n",
       "      <td>999089</td>\n",
       "      <td>3157</td>\n",
       "      <td>121</td>\n",
       "      <td>3.0</td>\n",
       "      <td>2004</td>\n",
       "      <td>68.0</td>\n",
       "      <td>Low</td>\n",
       "      <td>521D</td>\n",
       "      <td>...</td>\n",
       "      <td>2006</td>\n",
       "      <td>11</td>\n",
       "      <td>16</td>\n",
       "      <td>3</td>\n",
       "      <td>46</td>\n",
       "      <td>320</td>\n",
       "      <td>4</td>\n",
       "      <td>0</td>\n",
       "      <td>0</td>\n",
       "      <td>0</td>\n",
       "    </tr>\n",
       "    <tr>\n",
       "      <th>1</th>\n",
       "      <td>1139248</td>\n",
       "      <td>57000.0</td>\n",
       "      <td>117657</td>\n",
       "      <td>77</td>\n",
       "      <td>121</td>\n",
       "      <td>3.0</td>\n",
       "      <td>1996</td>\n",
       "      <td>4640.0</td>\n",
       "      <td>Low</td>\n",
       "      <td>950FII</td>\n",
       "      <td>...</td>\n",
       "      <td>2004</td>\n",
       "      <td>3</td>\n",
       "      <td>26</td>\n",
       "      <td>4</td>\n",
       "      <td>13</td>\n",
       "      <td>86</td>\n",
       "      <td>1</td>\n",
       "      <td>0</td>\n",
       "      <td>0</td>\n",
       "      <td>1</td>\n",
       "    </tr>\n",
       "    <tr>\n",
       "      <th>2</th>\n",
       "      <td>1139249</td>\n",
       "      <td>10000.0</td>\n",
       "      <td>434808</td>\n",
       "      <td>7009</td>\n",
       "      <td>121</td>\n",
       "      <td>3.0</td>\n",
       "      <td>2001</td>\n",
       "      <td>2838.0</td>\n",
       "      <td>High</td>\n",
       "      <td>226</td>\n",
       "      <td>...</td>\n",
       "      <td>2004</td>\n",
       "      <td>2</td>\n",
       "      <td>26</td>\n",
       "      <td>3</td>\n",
       "      <td>9</td>\n",
       "      <td>57</td>\n",
       "      <td>1</td>\n",
       "      <td>0</td>\n",
       "      <td>0</td>\n",
       "      <td>0</td>\n",
       "    </tr>\n",
       "    <tr>\n",
       "      <th>3</th>\n",
       "      <td>1139251</td>\n",
       "      <td>38500.0</td>\n",
       "      <td>1026470</td>\n",
       "      <td>332</td>\n",
       "      <td>121</td>\n",
       "      <td>3.0</td>\n",
       "      <td>2001</td>\n",
       "      <td>3486.0</td>\n",
       "      <td>High</td>\n",
       "      <td>PC120-6E</td>\n",
       "      <td>...</td>\n",
       "      <td>2011</td>\n",
       "      <td>5</td>\n",
       "      <td>19</td>\n",
       "      <td>3</td>\n",
       "      <td>20</td>\n",
       "      <td>139</td>\n",
       "      <td>2</td>\n",
       "      <td>0</td>\n",
       "      <td>0</td>\n",
       "      <td>0</td>\n",
       "    </tr>\n",
       "    <tr>\n",
       "      <th>4</th>\n",
       "      <td>1139253</td>\n",
       "      <td>11000.0</td>\n",
       "      <td>1057373</td>\n",
       "      <td>17311</td>\n",
       "      <td>121</td>\n",
       "      <td>3.0</td>\n",
       "      <td>2007</td>\n",
       "      <td>722.0</td>\n",
       "      <td>Medium</td>\n",
       "      <td>S175</td>\n",
       "      <td>...</td>\n",
       "      <td>2009</td>\n",
       "      <td>7</td>\n",
       "      <td>23</td>\n",
       "      <td>3</td>\n",
       "      <td>30</td>\n",
       "      <td>204</td>\n",
       "      <td>3</td>\n",
       "      <td>0</td>\n",
       "      <td>1</td>\n",
       "      <td>0</td>\n",
       "    </tr>\n",
       "  </tbody>\n",
       "</table>\n",
       "<p>5 rows × 62 columns</p>\n",
       "</div>"
      ],
      "text/plain": [
       "   SalesID  SalePrice  MachineID  ModelID  datasource  auctioneerID  YearMade  \\\n",
       "0  1139246    66000.0     999089     3157         121           3.0      2004   \n",
       "1  1139248    57000.0     117657       77         121           3.0      1996   \n",
       "2  1139249    10000.0     434808     7009         121           3.0      2001   \n",
       "3  1139251    38500.0    1026470      332         121           3.0      2001   \n",
       "4  1139253    11000.0    1057373    17311         121           3.0      2007   \n",
       "\n",
       "   MachineHoursCurrentMeter UsageBand fiModelDesc  ... saleYear saleMonth  \\\n",
       "0                      68.0       Low        521D  ...     2006        11   \n",
       "1                    4640.0       Low      950FII  ...     2004         3   \n",
       "2                    2838.0      High         226  ...     2004         2   \n",
       "3                    3486.0      High    PC120-6E  ...     2011         5   \n",
       "4                     722.0    Medium        S175  ...     2009         7   \n",
       "\n",
       "  saleDay saleDayofweek saleWeekofyear saleDayofyear saleQuarter  \\\n",
       "0      16             3             46           320           4   \n",
       "1      26             4             13            86           1   \n",
       "2      26             3              9            57           1   \n",
       "3      19             3             20           139           2   \n",
       "4      23             3             30           204           3   \n",
       "\n",
       "  saleIsWeekend saleIsQuarterStart saleIsQuarterEnd  \n",
       "0             0                  0                0  \n",
       "1             0                  0                1  \n",
       "2             0                  0                0  \n",
       "3             0                  0                0  \n",
       "4             0                  1                0  \n",
       "\n",
       "[5 rows x 62 columns]"
      ]
     },
     "execution_count": 272,
     "metadata": {},
     "output_type": "execute_result"
    }
   ],
   "source": [
    "df_tmp.head()"
   ]
  },
  {
   "cell_type": "markdown",
   "metadata": {},
   "source": [
    "## 2.2 Missing Values in numeric fields"
   ]
  },
  {
   "cell_type": "code",
   "execution_count": 273,
   "metadata": {},
   "outputs": [
    {
     "name": "stdout",
     "output_type": "stream",
     "text": [
      "auctioneerID\n",
      "MachineHoursCurrentMeter\n"
     ]
    }
   ],
   "source": [
    "for label, content in df_tmp.items():\n",
    "    if pd.api.types.is_numeric_dtype(content):\n",
    "        if pd.isnull(content).sum():\n",
    "            print(label)"
   ]
  },
  {
   "cell_type": "code",
   "execution_count": 274,
   "metadata": {},
   "outputs": [
    {
     "data": {
      "text/plain": [
       "count    392562.000000\n",
       "mean          6.585268\n",
       "std          17.158409\n",
       "min           0.000000\n",
       "25%           1.000000\n",
       "50%           2.000000\n",
       "75%           4.000000\n",
       "max          99.000000\n",
       "Name: auctioneerID, dtype: float64"
      ]
     },
     "execution_count": 274,
     "metadata": {},
     "output_type": "execute_result"
    }
   ],
   "source": [
    "df_tmp.auctioneerID.describe()"
   ]
  },
  {
   "cell_type": "markdown",
   "metadata": {},
   "source": [
    "AuctioneerID clearly looks like a nominal variable with a specific ID for an Auctioneer . Imputing it with the median would make no sense in this case so we transform it into a string which will later be transformed into a categorical variable."
   ]
  },
  {
   "cell_type": "code",
   "execution_count": 275,
   "metadata": {},
   "outputs": [],
   "source": [
    "df_tmp['auctioneerID'] = df_tmp['auctioneerID'].astype(str)"
   ]
  },
  {
   "cell_type": "code",
   "execution_count": 276,
   "metadata": {},
   "outputs": [
    {
     "data": {
      "text/plain": [
       "count    1.475040e+05\n",
       "mean     3.522988e+03\n",
       "std      2.716993e+04\n",
       "min      0.000000e+00\n",
       "25%      0.000000e+00\n",
       "50%      0.000000e+00\n",
       "75%      3.209000e+03\n",
       "max      2.483300e+06\n",
       "Name: MachineHoursCurrentMeter, dtype: float64"
      ]
     },
     "execution_count": 276,
     "metadata": {},
     "output_type": "execute_result"
    }
   ],
   "source": [
    "df_tmp['MachineHoursCurrentMeter'].describe()"
   ]
  },
  {
   "cell_type": "code",
   "execution_count": 37,
   "metadata": {},
   "outputs": [],
   "source": [
    "def fix_na_num (df, col):\n",
    "    df[col+'_na'] = pd.isnull(df[col]) \n",
    "    df[col].fillna(df[col].median(), inplace=True)"
   ]
  },
  {
   "cell_type": "code",
   "execution_count": 278,
   "metadata": {},
   "outputs": [],
   "source": [
    "fix_na_num(df_tmp, 'MachineHoursCurrentMeter')"
   ]
  },
  {
   "cell_type": "code",
   "execution_count": 279,
   "metadata": {},
   "outputs": [
    {
     "data": {
      "text/plain": [
       "False    412698\n",
       "Name: MachineHoursCurrentMeter, dtype: int64"
      ]
     },
     "execution_count": 279,
     "metadata": {},
     "output_type": "execute_result"
    }
   ],
   "source": [
    "df_tmp.MachineHoursCurrentMeter.isnull().value_counts()"
   ]
  },
  {
   "cell_type": "markdown",
   "metadata": {},
   "source": [
    "## 2.3 Missing Values in categorical fields"
   ]
  },
  {
   "cell_type": "code",
   "execution_count": 280,
   "metadata": {},
   "outputs": [
    {
     "name": "stdout",
     "output_type": "stream",
     "text": [
      "auctioneerID\n",
      "['3.0' '1.0' '2.0' '11.0' '4.0' '7.0' '99.0' '6.0' '5.0' '18.0' '17.0' '22.0' '20.0' '14.0' '16.0' '21.0'\n",
      " '9.0' '13.0' '12.0' '23.0' '10.0' '15.0' '19.0' '8.0' '28.0' '25.0' '27.0' '24.0' 'nan' '0.0' '26.0']\n",
      "UsageBand\n",
      "['Low' 'High' 'Medium' None]\n",
      "fiModelDesc\n",
      "['521D' '950FII' '226' ... '716AVHP' '530E' '55N2']\n",
      "fiBaseModel\n",
      "['521' '950' '226' ... '336' 'WLK15' 'R964']\n",
      "fiSecondaryDesc\n",
      "['D' 'F' None 'G' 'E' 'HAG' 'B' 'NX' 'SUPER K' 'STD' 'BL' 'Z' 'C' 'XT' 'A' 'H' 'MR' 'PT' 'L' 'M' 'J' 'SE'\n",
      " 'SXT' 'HD' 'LC' 'SUPER M' 'LX' 'SUPER L' 'LE' 'K' 'S' 'R' 'P' 'SG' 'US' 'UU' 'WX' 'PX' 'N' 'ZTM' 'SUPER E'\n",
      " 'XL' 'MXT' 'EX' '-2' 'LCM' 'GT' 'TM' 'HZ' 'AX' 'DXT' '3' 'SR' '7' 'ZTS' 'B     ' 'T' 'UR' '-3' 'V' 'ZT' '1'\n",
      " 'SUPER M PLUS' 'BZD' 'DZ' 'WD' 'LGP' 'SRLC' 'CH' 'CS' 'M      ' 'ZHS G' 'Q' 'MRX' 'FR' 'UNA' 'R-2' 'PS' 'AG'\n",
      " 'URG' 'NE' 'U' '2' 'SB' 'TX' 'TTL' 'JX' 'LT' 'MSR SPIN ACE' 'HF' 'HDSL' 'LCD' 'X' 'LS' 'EST' 'LR' 'TC'\n",
      " 'BLGP' 'USR' 'RC' 'SJ' 'ZF' 'SUPER LE' 'MT' 'SUPER R' 'C      ' 'BEC' 'DC' 'CE' 'AB' 'MU' 'USRK' 'W' '-7'\n",
      " 'SL' 'SU' '0.7' 'THF' 'ZX' 'NL' 'CX' 'SRDZ' 'H90' 'AW' 'SP' 'EL' 'PL' '#NAME?' 'ESS' 'CM' 'CL' 'EW' 'ZHS'\n",
      " 'CR' 'CKB' 'CK' 'DX' 'SX' 'HL' 'HDS' 'DT' 'LCH' '5' 'H      ' 'SUPER' 'IV' 'XP' 'LD' 'LC7A' 'SF' 'PG'\n",
      " 'SPIN ACE' 'HX' 'EG' 'HLGP' 'WT' 'XLT' 'MSR' 'BLGPPS' 'AA' 'BZ' 'TP' 'CLR' 'MC' 'HLS' 'DL' 'USBL' 'LCLR'\n",
      " 'LC7LR' 'NC' '-5' '-5L' 'PTC' '-6' ' MSR SPIN ACE' 'NLC' 'BH' 'BLT']\n",
      "fiModelSeries\n",
      "[None 'II' '-6E' 'LC' '-5' 'III' '-1' '5' '-2' '1' '#NAME?' '-3L' '-20' '3' '15' '-12' '6' '-6' 'V' '-3'\n",
      " '-3PT' '-21' '-7' '7' '-3MC' 'IV' '-21A' '-3LC' '-5L' '5N' '-5H' '-1L' '-8' '4' '2' '-18' '-15' '2T' '18'\n",
      " 'E' '-3C' '-6B' '7.00E+00' 'A' '-3LK' 'ZTS' '-2N' '12' 'V-2' 'XT' '-7E' '-2C' '-8E' '-6LC' '-3H' '16' 'IV-2'\n",
      " '-6K' '6F' '22' '3A' 'VHP' 'LGP' 'LT' '14FT' 'EX' '-6C' '3C' '-7K' '17' '1970' '-2LC' 'M' 'D' 'ZX' 'LV'\n",
      " '-5LC' '-5E' '6.00E+00' '-17' '-16' '-4' '8' '-7B' '-1C' '-11' 'L' '-6A' 'LL' 'G' 'WX' '-2A' '-5F' '-3M'\n",
      " 'D7' '7A' ' III' 'AWS' '2B' '20' '-5A' '-6LK' '-2E' 'VI' 'H' '-1B' '-3EO' 'TC' 'Elite' 'WT' 'XLT' 'SeriesII'\n",
      " '-1.50E+01' 'GALEO' '6L' '6LE' '6LK' '21KomStatII' '21KomStat' '7L' 'Q' 'ZHS' 'FASTRRACK' 'VII']\n",
      "fiModelDescriptor\n",
      "[None 'LC' '6' 'L' 'LT' 'CR' 'SB' 'XL' 'LGP' 'VHP' '7' 'Z' '2.00E+00' 'MC' 'H' 'E' '3' 'LK' '5' 'K' '8' 'HT'\n",
      " 'LX' 'XLT' 'XW' 'HSD' '2' 'XR' 'TC' 'LCR' 'TLB' 'WT' 'TURBO' 'U' '4WD' 'XT' 'LRC' 'ZTS' 'RTS' 'TP' 'LE'\n",
      " 'LRR' 'SA' '3C' 'SR' 'XP' '1' 'BE' '3NO' 'CRSB' 'N' 'SSR' 'DHP' 'LM' ' SUPER' 'KA' 'H5' 'II' 'MH' 'P' 'LU'\n",
      " 'DT' 'XTV' 'LR' 'ZX' 'LL' 'V' 'DELUXE' 'USLC' 'SU' 'SRDZ' 'C' 'PRO' 'PLUS' 'SITEMASTER' 'DINGO' '3.00E+00'\n",
      " ' XLT' 'LN' 'AE0' 'SERIES3' '7.00E+00' 'ESL' 'A' 'G' 'B' 'DLL' 'CK' 'NSUC' 'LS' 'SLGP' 'RR' 'WLT' 'LCRTS'\n",
      " 'X' 'LCH' 'T' 'NLC' 'SM' 'SE' 'TM' 'SRLC' 'CUSTOM' 'HD' 'DW' 'LC8' ' LGP' 'TK' 'HF' 'SUPER K' 'IV' ' XT'\n",
      " 'IT' 'XLVP' 'LGPVP' 'K5' '3L' '7A' 'XD' 'DA' 'Y' 'S' 'M' '6K' 'LITRONIC' 'KBNA' ' 14FT' '2N' 'III' 'ME'\n",
      " 'High Lift' 'HighLift' 'VHP/AWD' 'K3' '4x4x4' ' ZX' '(BLADE RUNNER)' 'AVANCE' 'GALEO' 'LongReach' 'SL']\n",
      "ProductSize\n",
      "[None 'Medium' 'Small' 'Large / Medium' 'Mini' 'Large' 'Compact']\n",
      "fiProductClassDesc\n",
      "['Wheel Loader - 110.0 to 120.0 Horsepower' 'Wheel Loader - 150.0 to 175.0 Horsepower'\n",
      " 'Skid Steer Loader - 1351.0 to 1601.0 Lb Operating Capacity'\n",
      " 'Hydraulic Excavator, Track - 12.0 to 14.0 Metric Tons'\n",
      " 'Skid Steer Loader - 1601.0 to 1751.0 Lb Operating Capacity'\n",
      " 'Backhoe Loader - 14.0 to 15.0 Ft Standard Digging Depth'\n",
      " 'Hydraulic Excavator, Track - 21.0 to 24.0 Metric Tons'\n",
      " 'Hydraulic Excavator, Track - 3.0 to 4.0 Metric Tons' 'Wheel Loader - 350.0 to 500.0 Horsepower'\n",
      " 'Track Type Tractor, Dozer - 20.0 to 75.0 Horsepower'\n",
      " 'Hydraulic Excavator, Track - 19.0 to 21.0 Metric Tons'\n",
      " 'Hydraulic Excavator, Track - 4.0 to 5.0 Metric Tons' 'Hydraulic Excavator, Track - 2.0 to 3.0 Metric Tons'\n",
      " 'Hydraulic Excavator, Track - 24.0 to 28.0 Metric Tons' 'Motorgrader - 45.0 to 130.0 Horsepower'\n",
      " 'Wheel Loader - 200.0 to 225.0 Horsepower' 'Hydraulic Excavator, Track - 50.0 to 66.0 Metric Tons'\n",
      " 'Hydraulic Excavator, Track - 40.0 to 50.0 Metric Tons'\n",
      " 'Hydraulic Excavator, Track - 33.0 to 40.0 Metric Tons'\n",
      " 'Skid Steer Loader - 2201.0 to 2701.0 Lb Operating Capacity' 'Wheel Loader - 120.0 to 135.0 Horsepower'\n",
      " 'Track Type Tractor, Dozer - 130.0 to 160.0 Horsepower' 'Wheel Loader - 275.0 to 350.0 Horsepower'\n",
      " 'Motorgrader - 145.0 to 170.0 Horsepower' 'Hydraulic Excavator, Track - 6.0 to 8.0 Metric Tons'\n",
      " 'Wheel Loader - 60.0 to 80.0 Horsepower' 'Skid Steer Loader - 701.0 to 976.0 Lb Operating Capacity'\n",
      " 'Hydraulic Excavator, Track - 8.0 to 11.0 Metric Tons'\n",
      " 'Skid Steer Loader - 1751.0 to 2201.0 Lb Operating Capacity' 'Motorgrader - 170.0 to 200.0 Horsepower'\n",
      " 'Skid Steer Loader - 1251.0 to 1351.0 Lb Operating Capacity'\n",
      " 'Hydraulic Excavator, Track - 16.0 to 19.0 Metric Tons'\n",
      " 'Hydraulic Excavator, Track - 0.0 to 2.0 Metric Tons'\n",
      " 'Backhoe Loader - 15.0 to 16.0 Ft Standard Digging Depth' 'Motorgrader - 130.0 to 145.0 Horsepower'\n",
      " 'Track Type Tractor, Dozer - 75.0 to 85.0 Horsepower'\n",
      " 'Hydraulic Excavator, Track - 14.0 to 16.0 Metric Tons'\n",
      " 'Track Type Tractor, Dozer - 85.0 to 105.0 Horsepower' 'Backhoe Loader - 16.0 + Ft Standard Digging Depth'\n",
      " 'Hydraulic Excavator, Track - 28.0 to 33.0 Metric Tons'\n",
      " 'Track Type Tractor, Dozer - 105.0 to 130.0 Horsepower'\n",
      " 'Track Type Tractor, Dozer - 160.0 to 190.0 Horsepower'\n",
      " 'Backhoe Loader - 0.0 to 14.0 Ft Standard Digging Depth'\n",
      " 'Skid Steer Loader - 0.0 to 701.0 Lb Operating Capacity'\n",
      " 'Track Type Tractor, Dozer - 190.0 to 260.0 Horsepower' 'Wheel Loader - 135.0 to 150.0 Horsepower'\n",
      " 'Wheel Loader - 175.0 to 200.0 Horsepower' 'Wheel Loader - 225.0 to 250.0 Horsepower'\n",
      " 'Skid Steer Loader - 2701.0+ Lb Operating Capacity' 'Wheel Loader - 90.0 to 100.0 Horsepower'\n",
      " 'Track Type Tractor, Dozer - 260.0 + Horsepower' 'Motorgrader - 200.0 + Horsepower'\n",
      " 'Hydraulic Excavator, Track - 5.0 to 6.0 Metric Tons' 'Wheel Loader - 250.0 to 275.0 Horsepower'\n",
      " 'Wheel Loader - 40.0 to 60.0 Horsepower' 'Backhoe Loader - Unidentified' 'Skid Steer Loader - Unidentified'\n",
      " 'Hydraulic Excavator, Track - 66.0 to 90.0 Metric Tons' 'Wheel Loader - 100.0 to 110.0 Horsepower'\n",
      " 'Skid Steer Loader - 976.0 to 1251.0 Lb Operating Capacity' 'Wheel Loader - 500.0 to 1000.0 Horsepower'\n",
      " 'Wheel Loader - 80.0 to 90.0 Horsepower' 'Hydraulic Excavator, Track - Unidentified'\n",
      " 'Hydraulic Excavator, Track - 11.0 to 12.0 Metric Tons'\n",
      " 'Hydraulic Excavator, Track - 90.0 to 150.0 Metric Tons'\n",
      " 'Hydraulic Excavator, Track - 4.0 to 6.0 Metric Tons'\n",
      " 'Hydraulic Excavator, Track - 150.0 to 300.0 Metric Tons' 'Wheel Loader - Unidentified'\n",
      " 'Wheel Loader - 0.0 to 40.0 Horsepower' 'Hydraulic Excavator, Track - 300.0 + Metric Tons'\n",
      " 'Track Type Tractor, Dozer - Unidentified' 'Wheel Loader - 1000.0 + Horsepower'\n",
      " 'Hydraulic Excavator, Track - Unidentified (Compact Construction)' 'Motorgrader - Unidentified']\n",
      "state\n",
      "['Alabama' 'North Carolina' 'New York' 'Texas' 'Arizona' 'Florida' 'Illinois' 'Oregon' 'Ohio' 'Arkansas'\n",
      " 'Wisconsin' 'Kansas' 'Nevada' 'Iowa' 'Maine' 'Massachusetts' 'California' 'Louisiana' 'Minnesota'\n",
      " 'New Hampshire' 'Idaho' 'Michigan' 'Mississippi' 'Georgia' 'Missouri' 'South Carolina' 'Utah' 'Tennessee'\n",
      " 'Washington' 'Virginia' 'South Dakota' 'West Virginia' 'Oklahoma' 'Pennsylvania' 'Wyoming' 'North Dakota'\n",
      " 'New Jersey' 'Kentucky' 'Montana' 'Alaska' 'Nebraska' 'Maryland' 'Hawaii' 'Colorado' 'New Mexico' 'Indiana'\n",
      " 'Connecticut' 'Delaware' 'Rhode Island' 'Vermont' 'Washington DC' 'Puerto Rico' 'Unspecified']\n",
      "ProductGroup\n",
      "['WL' 'SSL' 'TEX' 'BL' 'TTT' 'MG']\n",
      "ProductGroupDesc\n",
      "['Wheel Loader' 'Skid Steer Loaders' 'Track Excavators' 'Backhoe Loaders' 'Track Type Tractors'\n",
      " 'Motor Graders']\n",
      "Drive_System\n",
      "[None 'Four Wheel Drive' 'Two Wheel Drive' 'No' 'All Wheel Drive']\n",
      "Enclosure\n",
      "['EROPS w AC' 'OROPS' 'EROPS' None 'EROPS AC' 'NO ROPS' 'None or Unspecified']\n",
      "Forks\n",
      "['None or Unspecified' None 'Yes']\n",
      "Pad_Type\n",
      "[None 'None or Unspecified' 'Reversible' 'Street' 'Grouser']\n",
      "Ride_Control\n",
      "['None or Unspecified' None 'No' 'Yes']\n",
      "Stick\n",
      "[None 'Extended' 'Standard']\n",
      "Transmission\n",
      "[None 'Powershuttle' 'Standard' 'Powershift' 'None or Unspecified' 'Hydrostatic' 'Autoshift' 'Direct Drive'\n",
      " 'AutoShift']\n",
      "Turbocharged\n",
      "[None 'None or Unspecified' 'Yes']\n",
      "Blade_Extension\n",
      "[None 'Yes' 'None or Unspecified']\n",
      "Blade_Width\n",
      "[None 'None or Unspecified' \"12'\" \"14'\" \"13'\" \"16'\" \"<12'\"]\n",
      "Enclosure_Type\n",
      "[None 'None or Unspecified' 'Low Profile' 'High Profile']\n",
      "Engine_Horsepower\n",
      "[None 'No' 'Variable']\n",
      "Hydraulics\n",
      "['2 Valve' 'Auxiliary' None 'Standard' 'Base + 1 Function' 'Base + 3 Function' '4 Valve' '3 Valve'\n",
      " 'Base + 2 Function' 'Base + 4 Function' 'None or Unspecified' 'Base + 5 Function' 'Base + 6 Function']\n",
      "Pushblock\n"
     ]
    },
    {
     "name": "stdout",
     "output_type": "stream",
     "text": [
      "[None 'None or Unspecified' 'Yes']\n",
      "Ripper\n",
      "[None 'None or Unspecified' 'Yes' 'Single Shank' 'Multi Shank']\n",
      "Scarifier\n",
      "[None 'Yes' 'None or Unspecified']\n",
      "Tip_Control\n",
      "[None 'Sideshift & Tip' 'None or Unspecified' 'Tip']\n",
      "Tire_Size\n",
      "['None or Unspecified' '23.5' None '13\"' '26.5' '29.5' '14\"' '20.5' '17.5\"' '15.5\"' '20.5\"' '17.5' '7.0\"'\n",
      " '15.5' '23.5\"' '10\"' '23.1\"' '10 inch']\n",
      "Coupler\n",
      "['None or Unspecified' None 'Manual' 'Hydraulic']\n",
      "Coupler_System\n",
      "[None 'None or Unspecified' 'Yes']\n",
      "Grouser_Tracks\n",
      "[None 'None or Unspecified' 'Yes']\n",
      "Hydraulics_Flow\n",
      "[None 'Standard' 'High Flow' 'None or Unspecified']\n",
      "Track_Type\n",
      "[None 'Steel' 'Rubber']\n",
      "Undercarriage_Pad_Width\n",
      "[None 'None or Unspecified' '16 inch' '32 inch' '28 inch' '30 inch' '22 inch' '24 inch' '18 inch' '36 inch'\n",
      " '20 inch' '27 inch' '15 inch' '26 inch' '34 inch' '33 inch' '14 inch' '31 inch' '25 inch' '31.5 inch']\n",
      "Stick_Length\n",
      "[None 'None or Unspecified' '11\\' 0\"' '15\\' 9\"' '10\\' 2\"' '10\\' 6\"' '9\\' 10\"' '10\\' 10\"' '9\\' 6\"' '9\\' 7\"'\n",
      " '12\\' 8\"' '8\\' 2\"' '8\\' 6\"' '9\\' 8\"' '12\\' 10\"' '11\\' 10\"' '8\\' 10\"' '8\\' 4\"' '12\\' 4\"' '9\\' 5\"' '6\\' 3\"'\n",
      " '14\\' 1\"' '13\\' 7\"' '13\\' 10\"' '13\\' 9\"' '7\\' 10\"' '15\\' 4\"' '9\\' 2\"' '24\\' 3\"' '19\\' 8\"']\n",
      "Thumb\n",
      "[None 'None or Unspecified' 'Hydraulic' 'Manual']\n",
      "Pattern_Changer\n",
      "[None 'None or Unspecified' 'Yes' 'No']\n",
      "Grouser_Type\n",
      "[None 'Double' 'Triple' 'Single']\n",
      "Backhoe_Mounting\n",
      "[None 'None or Unspecified' 'Yes']\n",
      "Blade_Type\n",
      "[None 'PAT' 'None or Unspecified' 'Semi U' 'VPAT' 'Straight' 'Angle' 'No' 'U' 'Landfill' 'Coal']\n",
      "Travel_Controls\n",
      "[None 'None or Unspecified' 'Differential Steer' 'Lever' 'Finger Tip' '2 Pedal' 'Pedal' '1 Speed']\n",
      "Differential_Type\n",
      "['Standard' None 'Limited Slip' 'No Spin' 'Locking']\n",
      "Steering_Controls\n",
      "['Conventional' None 'Command Control' 'Four Wheel Standard' 'Wheel' 'No']\n"
     ]
    }
   ],
   "source": [
    "for label, content in df_tmp.items():\n",
    "    if pd.api.types.is_string_dtype(content):\n",
    "        print(label)\n",
    "        print(content.unique())"
   ]
  },
  {
   "cell_type": "code",
   "execution_count": 36,
   "metadata": {},
   "outputs": [],
   "source": [
    "def string_norm(df):\n",
    "    for col in df.columns:\n",
    "        if is_string_dtype(df[col]) or is_object_dtype(df[col]):\n",
    "            df[col] = df[col].str.lower()\n",
    "            df[col] = df[col].fillna(np.nan) \n",
    "            df[col] = df[col].replace('none or unspecified', np.nan)\n",
    "            df[col] = df[col].replace('none', np.nan)\n",
    "            df[col] = df[col].replace('', np.nan)"
   ]
  },
  {
   "cell_type": "code",
   "execution_count": 282,
   "metadata": {},
   "outputs": [],
   "source": [
    "string_norm(df_tmp)"
   ]
  },
  {
   "cell_type": "markdown",
   "metadata": {},
   "source": [
    "Before we convert string columns to categories we can transform Tire_Size and Undercarriage_Pad_Width to numeric columns by removing \"the inches\"."
   ]
  },
  {
   "cell_type": "code",
   "execution_count": 35,
   "metadata": {},
   "outputs": [],
   "source": [
    "def remove_inch(df, colname):\n",
    "    df[colname] = df[colname].str.extract(r'([0-9.]*)', expand=True)\n",
    "    df[colname] = pd.to_numeric(df[colname])"
   ]
  },
  {
   "cell_type": "code",
   "execution_count": 284,
   "metadata": {},
   "outputs": [],
   "source": [
    "remove_inch(df_tmp, 'Tire_Size')\n",
    "remove_inch(df_tmp, 'Undercarriage_Pad_Width')\n",
    "fix_na_num(df_tmp, 'Tire_Size')\n",
    "fix_na_num(df_tmp, 'Undercarriage_Pad_Width')"
   ]
  },
  {
   "cell_type": "markdown",
   "metadata": {},
   "source": [
    "Now we can convert the string columns to categories."
   ]
  },
  {
   "cell_type": "code",
   "execution_count": 34,
   "metadata": {},
   "outputs": [],
   "source": [
    "def to_cat(df):\n",
    "    for col in df.columns:\n",
    "        if is_string_dtype(df[col]):\n",
    "            df[col] = df[col].astype('category').cat.as_ordered()\n",
    "\n",
    "def to_catcode(df):\n",
    "    for col in df.columns:\n",
    "        if is_categorical_dtype(df[col]):\n",
    "            df[col] = df[col].cat.codes + 1"
   ]
  },
  {
   "cell_type": "code",
   "execution_count": 286,
   "metadata": {},
   "outputs": [],
   "source": [
    "to_cat(df_tmp)"
   ]
  },
  {
   "cell_type": "code",
   "execution_count": 41,
   "metadata": {},
   "outputs": [],
   "source": [
    "#to_catcode(df_tmp)"
   ]
  },
  {
   "cell_type": "code",
   "execution_count": 287,
   "metadata": {},
   "outputs": [
    {
     "data": {
      "text/html": [
       "<div>\n",
       "<style scoped>\n",
       "    .dataframe tbody tr th:only-of-type {\n",
       "        vertical-align: middle;\n",
       "    }\n",
       "\n",
       "    .dataframe tbody tr th {\n",
       "        vertical-align: top;\n",
       "    }\n",
       "\n",
       "    .dataframe thead th {\n",
       "        text-align: right;\n",
       "    }\n",
       "</style>\n",
       "<table border=\"1\" class=\"dataframe\">\n",
       "  <thead>\n",
       "    <tr style=\"text-align: right;\">\n",
       "      <th></th>\n",
       "      <th>SalesID</th>\n",
       "      <th>SalePrice</th>\n",
       "      <th>MachineID</th>\n",
       "      <th>ModelID</th>\n",
       "      <th>datasource</th>\n",
       "      <th>auctioneerID</th>\n",
       "      <th>YearMade</th>\n",
       "      <th>MachineHoursCurrentMeter</th>\n",
       "      <th>UsageBand</th>\n",
       "      <th>fiModelDesc</th>\n",
       "      <th>...</th>\n",
       "      <th>saleDayofweek</th>\n",
       "      <th>saleWeekofyear</th>\n",
       "      <th>saleDayofyear</th>\n",
       "      <th>saleQuarter</th>\n",
       "      <th>saleIsWeekend</th>\n",
       "      <th>saleIsQuarterStart</th>\n",
       "      <th>saleIsQuarterEnd</th>\n",
       "      <th>MachineHoursCurrentMeter_na</th>\n",
       "      <th>Tire_Size_na</th>\n",
       "      <th>Undercarriage_Pad_Width_na</th>\n",
       "    </tr>\n",
       "  </thead>\n",
       "  <tbody>\n",
       "    <tr>\n",
       "      <th>0</th>\n",
       "      <td>1139246</td>\n",
       "      <td>66000.0</td>\n",
       "      <td>999089</td>\n",
       "      <td>3157</td>\n",
       "      <td>121</td>\n",
       "      <td>3.0</td>\n",
       "      <td>2004</td>\n",
       "      <td>68.0</td>\n",
       "      <td>low</td>\n",
       "      <td>521d</td>\n",
       "      <td>...</td>\n",
       "      <td>3</td>\n",
       "      <td>46</td>\n",
       "      <td>320</td>\n",
       "      <td>4</td>\n",
       "      <td>0</td>\n",
       "      <td>0</td>\n",
       "      <td>0</td>\n",
       "      <td>False</td>\n",
       "      <td>True</td>\n",
       "      <td>True</td>\n",
       "    </tr>\n",
       "    <tr>\n",
       "      <th>1</th>\n",
       "      <td>1139248</td>\n",
       "      <td>57000.0</td>\n",
       "      <td>117657</td>\n",
       "      <td>77</td>\n",
       "      <td>121</td>\n",
       "      <td>3.0</td>\n",
       "      <td>1996</td>\n",
       "      <td>4640.0</td>\n",
       "      <td>low</td>\n",
       "      <td>950fii</td>\n",
       "      <td>...</td>\n",
       "      <td>4</td>\n",
       "      <td>13</td>\n",
       "      <td>86</td>\n",
       "      <td>1</td>\n",
       "      <td>0</td>\n",
       "      <td>0</td>\n",
       "      <td>1</td>\n",
       "      <td>False</td>\n",
       "      <td>False</td>\n",
       "      <td>True</td>\n",
       "    </tr>\n",
       "    <tr>\n",
       "      <th>2</th>\n",
       "      <td>1139249</td>\n",
       "      <td>10000.0</td>\n",
       "      <td>434808</td>\n",
       "      <td>7009</td>\n",
       "      <td>121</td>\n",
       "      <td>3.0</td>\n",
       "      <td>2001</td>\n",
       "      <td>2838.0</td>\n",
       "      <td>high</td>\n",
       "      <td>226</td>\n",
       "      <td>...</td>\n",
       "      <td>3</td>\n",
       "      <td>9</td>\n",
       "      <td>57</td>\n",
       "      <td>1</td>\n",
       "      <td>0</td>\n",
       "      <td>0</td>\n",
       "      <td>0</td>\n",
       "      <td>False</td>\n",
       "      <td>True</td>\n",
       "      <td>True</td>\n",
       "    </tr>\n",
       "    <tr>\n",
       "      <th>3</th>\n",
       "      <td>1139251</td>\n",
       "      <td>38500.0</td>\n",
       "      <td>1026470</td>\n",
       "      <td>332</td>\n",
       "      <td>121</td>\n",
       "      <td>3.0</td>\n",
       "      <td>2001</td>\n",
       "      <td>3486.0</td>\n",
       "      <td>high</td>\n",
       "      <td>pc120-6e</td>\n",
       "      <td>...</td>\n",
       "      <td>3</td>\n",
       "      <td>20</td>\n",
       "      <td>139</td>\n",
       "      <td>2</td>\n",
       "      <td>0</td>\n",
       "      <td>0</td>\n",
       "      <td>0</td>\n",
       "      <td>False</td>\n",
       "      <td>True</td>\n",
       "      <td>True</td>\n",
       "    </tr>\n",
       "    <tr>\n",
       "      <th>4</th>\n",
       "      <td>1139253</td>\n",
       "      <td>11000.0</td>\n",
       "      <td>1057373</td>\n",
       "      <td>17311</td>\n",
       "      <td>121</td>\n",
       "      <td>3.0</td>\n",
       "      <td>2007</td>\n",
       "      <td>722.0</td>\n",
       "      <td>medium</td>\n",
       "      <td>s175</td>\n",
       "      <td>...</td>\n",
       "      <td>3</td>\n",
       "      <td>30</td>\n",
       "      <td>204</td>\n",
       "      <td>3</td>\n",
       "      <td>0</td>\n",
       "      <td>1</td>\n",
       "      <td>0</td>\n",
       "      <td>False</td>\n",
       "      <td>True</td>\n",
       "      <td>True</td>\n",
       "    </tr>\n",
       "  </tbody>\n",
       "</table>\n",
       "<p>5 rows × 65 columns</p>\n",
       "</div>"
      ],
      "text/plain": [
       "   SalesID  SalePrice  MachineID  ModelID  datasource auctioneerID  YearMade  \\\n",
       "0  1139246    66000.0     999089     3157         121          3.0      2004   \n",
       "1  1139248    57000.0     117657       77         121          3.0      1996   \n",
       "2  1139249    10000.0     434808     7009         121          3.0      2001   \n",
       "3  1139251    38500.0    1026470      332         121          3.0      2001   \n",
       "4  1139253    11000.0    1057373    17311         121          3.0      2007   \n",
       "\n",
       "   MachineHoursCurrentMeter UsageBand fiModelDesc  ... saleDayofweek  \\\n",
       "0                      68.0       low        521d  ...             3   \n",
       "1                    4640.0       low      950fii  ...             4   \n",
       "2                    2838.0      high         226  ...             3   \n",
       "3                    3486.0      high    pc120-6e  ...             3   \n",
       "4                     722.0    medium        s175  ...             3   \n",
       "\n",
       "  saleWeekofyear saleDayofyear saleQuarter saleIsWeekend saleIsQuarterStart  \\\n",
       "0             46           320           4             0                  0   \n",
       "1             13            86           1             0                  0   \n",
       "2              9            57           1             0                  0   \n",
       "3             20           139           2             0                  0   \n",
       "4             30           204           3             0                  1   \n",
       "\n",
       "  saleIsQuarterEnd MachineHoursCurrentMeter_na Tire_Size_na  \\\n",
       "0                0                       False         True   \n",
       "1                1                       False        False   \n",
       "2                0                       False         True   \n",
       "3                0                       False         True   \n",
       "4                0                       False         True   \n",
       "\n",
       "  Undercarriage_Pad_Width_na  \n",
       "0                       True  \n",
       "1                       True  \n",
       "2                       True  \n",
       "3                       True  \n",
       "4                       True  \n",
       "\n",
       "[5 rows x 65 columns]"
      ]
     },
     "execution_count": 287,
     "metadata": {},
     "output_type": "execute_result"
    }
   ],
   "source": [
    "df_tmp.head()"
   ]
  },
  {
   "cell_type": "code",
   "execution_count": 288,
   "metadata": {},
   "outputs": [],
   "source": [
    "df_tmp['SalePrice'] = np.log(df_tmp['SalePrice'])\n",
    "#df_raw['SalePrice'] = np.log(df_raw['SalePrice'])"
   ]
  },
  {
   "cell_type": "markdown",
   "metadata": {},
   "source": [
    "Save processed dataframe to feather"
   ]
  },
  {
   "cell_type": "code",
   "execution_count": 44,
   "metadata": {},
   "outputs": [],
   "source": [
    "df_tmp.to_feather('data/bulldozer/processed')"
   ]
  },
  {
   "cell_type": "code",
   "execution_count": 233,
   "metadata": {},
   "outputs": [],
   "source": [
    "def preprocess_df(df):\n",
    "    \n",
    "    def prep_date(df, date_col):\n",
    "        df[\"saleYear\"] = df[date_col].dt.year\n",
    "        df[\"saleMonth\"] = df[date_col].dt.month\n",
    "        df[\"saleDay\"] = df[date_col].dt.day\n",
    "        df[\"saleDayofweek\"] = df[date_col].dt.dayofweek\n",
    "        df[\"saleWeekofyear\"] = df[date_col].dt.weekofyear\n",
    "        df[\"saleDayofyear\"] = df[date_col].dt.dayofyear\n",
    "        df[\"saleQuarter\"] = df[date_col].dt.quarter\n",
    "        df[\"saleIsWeekend\"] = np.where((df[date_col].dt.day_name == ['Sunday', 'Saturday']),1,0)\n",
    "        df[\"saleIsQuarterStart\"] = np.where(df[date_col].dt.month.isin([1, 4, 7, 10]),1 ,0)\n",
    "        df[\"saleIsQuarterEnd\"] = np.where(df[date_col].dt.month.isin([3, 6, 9, 12]),1 ,0)\n",
    "        df.drop(date_col, axis=1, inplace=True)\n",
    "    \n",
    "        return df\n",
    "\n",
    "    \n",
    "    df= prep_date(df, 'saledate')\n",
    "    \n",
    "    df['auctioneerID'] = df['auctioneerID'].astype(str)\n",
    "    \n",
    "    def fix_na_num (df, col):\n",
    "        df[col+'_na'] = pd.isnull(df[col]) \n",
    "        df[col].fillna(df[col].median(), inplace=True)\n",
    "    \n",
    "    fix_na_num(df, 'MachineHoursCurrentMeter')\n",
    "    \n",
    "    def string_norm(df):\n",
    "        for col in df.columns:\n",
    "            if is_string_dtype(df[col]) or is_object_dtype(df[col]):\n",
    "                df[col] = df[col].str.lower()\n",
    "                df[col] = df[col].fillna(np.nan) \n",
    "                df[col] = df[col].replace('none or unspecified', np.nan)\n",
    "                df[col] = df[col].replace('none', np.nan)\n",
    "                df[col] = df[col].replace('', np.nan)\n",
    "            \n",
    "    string_norm(df)\n",
    "    \n",
    "    def remove_inch(df, colname):\n",
    "        df[colname] = df[colname].str.extract(r'([0-9.]*)', expand=True)\n",
    "        df[colname] = pd.to_numeric(df[colname])\n",
    "\n",
    "    remove_inch(df, 'Tire_Size')\n",
    "    remove_inch(df, 'Undercarriage_Pad_Width')\n",
    "    fix_na_num(df, 'Tire_Size')\n",
    "    fix_na_num(df, 'Undercarriage_Pad_Width')\n",
    "    \n",
    "    def to_cat(df):\n",
    "        for col in df.columns:\n",
    "            if is_string_dtype(df[col]):\n",
    "                df[col] = df[col].astype('category').cat.as_ordered()\n",
    "\n",
    "    def to_catcode(df):\n",
    "        for col in df.columns:\n",
    "            if is_categorical_dtype(df[col]):\n",
    "                df[col] = df[col].cat.codes + 1\n",
    "                \n",
    "    to_cat(df)\n",
    "    to_catcode(df)\n",
    "    \n",
    "    df['SalePrice'] = np.log(df['SalePrice'])\n",
    "    \n",
    "    return df"
   ]
  },
  {
   "cell_type": "markdown",
   "metadata": {},
   "source": [
    "# 3. Feature Engineering\n"
   ]
  },
  {
   "cell_type": "markdown",
   "metadata": {},
   "source": [
    "## 3.1 Training our first model"
   ]
  },
  {
   "cell_type": "code",
   "execution_count": 38,
   "metadata": {},
   "outputs": [],
   "source": [
    "df_raw = feather.read_dataframe('data/bulldozer/raw')\n",
    "df_tmp = feather.read_dataframe('data/bulldozer/processed')\n",
    "df , y= df_tmp.drop(['SalePrice'], axis=1), df_tmp['SalePrice']"
   ]
  },
  {
   "cell_type": "code",
   "execution_count": 39,
   "metadata": {},
   "outputs": [],
   "source": [
    "def split_vals(df, trn_size):\n",
    "    return df[:trn_size].copy(), df[trn_size:].copy()\n",
    "\n",
    "n_valid = 12000\n",
    "trn_size = len(df)-n_valid\n",
    "raw_train, raw_valid = split_vals(df_tmp, trn_size)\n",
    "X_train, X_valid = split_vals(df, trn_size)\n",
    "y_train, y_valid = split_vals(y, trn_size)\n",
    "\n",
    "# create a subset for faster modeling while doing eda etc\n",
    "\n",
    "sub = len(X_train)-50000\n",
    "df_sub = X_train[sub:]\n",
    "y_sub = y_train[sub:]    \n"
   ]
  },
  {
   "cell_type": "code",
   "execution_count": 40,
   "metadata": {},
   "outputs": [],
   "source": [
    "def rmse(x,y): return math.sqrt(((x-y)**2).mean())\n",
    "\n",
    "def print_score(m):\n",
    "    res = [\"Train_RMSE:\", rmse(m.predict(X_train), y_train), \"Test_RMSE:\",rmse(m.predict(X_valid), y_valid),\n",
    "               \"R²_Train:\", m.score(X_train, y_train), \"R²_Test:\", m.score(X_valid, y_valid)]\n",
    "    if hasattr(m, 'oob_score_'): res.append(['OOB: ', m.oob_score_])\n",
    "    print(res)"
   ]
  },
  {
   "cell_type": "code",
   "execution_count": 41,
   "metadata": {},
   "outputs": [],
   "source": [
    "results = []"
   ]
  },
  {
   "cell_type": "markdown",
   "metadata": {},
   "source": [
    "### Baseline Model, all features"
   ]
  },
  {
   "cell_type": "code",
   "execution_count": 42,
   "metadata": {},
   "outputs": [
    {
     "name": "stdout",
     "output_type": "stream",
     "text": [
      "['Train_RMSE:', 0.12120981475557341, 'Test_RMSE:', 0.24100803632286624, 'R²_Train:', 0.9694511122860325, 'R²_Test:', 0.8935223796625539, ['OOB: ', 0.9099025433645491]]\n"
     ]
    }
   ],
   "source": [
    "m = RandomForestRegressor(n_estimators=40, min_samples_leaf=3, max_features=0.5,\n",
    "                          n_jobs=-1, oob_score=True)\n",
    "m.fit(X_train, y_train)\n",
    "print_score(m)\n",
    "results.append(['Baseline: ', m.oob_score_])"
   ]
  },
  {
   "cell_type": "markdown",
   "metadata": {},
   "source": [
    "### Subset Model"
   ]
  },
  {
   "cell_type": "code",
   "execution_count": null,
   "metadata": {},
   "outputs": [],
   "source": [
    "m_sub = RandomForestRegressor(n_estimators=40, min_samples_leaf=3, max_features=0.5,\n",
    "                          n_jobs=-1, oob_score=True)\n",
    "m_sub.fit(df_sub, y_sub)\n",
    "print_score(m)\n"
   ]
  },
  {
   "cell_type": "markdown",
   "metadata": {},
   "source": [
    "## 3.2 Feature Importance"
   ]
  },
  {
   "cell_type": "code",
   "execution_count": 43,
   "metadata": {},
   "outputs": [
    {
     "data": {
      "text/html": [
       "<div>\n",
       "<style scoped>\n",
       "    .dataframe tbody tr th:only-of-type {\n",
       "        vertical-align: middle;\n",
       "    }\n",
       "\n",
       "    .dataframe tbody tr th {\n",
       "        vertical-align: top;\n",
       "    }\n",
       "\n",
       "    .dataframe thead th {\n",
       "        text-align: right;\n",
       "    }\n",
       "</style>\n",
       "<table border=\"1\" class=\"dataframe\">\n",
       "  <thead>\n",
       "    <tr style=\"text-align: right;\">\n",
       "      <th></th>\n",
       "      <th>cols</th>\n",
       "      <th>imp</th>\n",
       "    </tr>\n",
       "  </thead>\n",
       "  <tbody>\n",
       "    <tr>\n",
       "      <th>5</th>\n",
       "      <td>YearMade</td>\n",
       "      <td>0.172404</td>\n",
       "    </tr>\n",
       "    <tr>\n",
       "      <th>13</th>\n",
       "      <td>ProductSize</td>\n",
       "      <td>0.133301</td>\n",
       "    </tr>\n",
       "    <tr>\n",
       "      <th>39</th>\n",
       "      <td>Hydraulics_Flow</td>\n",
       "      <td>0.119322</td>\n",
       "    </tr>\n",
       "    <tr>\n",
       "      <th>14</th>\n",
       "      <td>fiProductClassDesc</td>\n",
       "      <td>0.065676</td>\n",
       "    </tr>\n",
       "    <tr>\n",
       "      <th>51</th>\n",
       "      <td>saleYear</td>\n",
       "      <td>0.059198</td>\n",
       "    </tr>\n",
       "    <tr>\n",
       "      <th>10</th>\n",
       "      <td>fiSecondaryDesc</td>\n",
       "      <td>0.053380</td>\n",
       "    </tr>\n",
       "    <tr>\n",
       "      <th>19</th>\n",
       "      <td>Enclosure</td>\n",
       "      <td>0.051313</td>\n",
       "    </tr>\n",
       "    <tr>\n",
       "      <th>2</th>\n",
       "      <td>ModelID</td>\n",
       "      <td>0.049600</td>\n",
       "    </tr>\n",
       "    <tr>\n",
       "      <th>8</th>\n",
       "      <td>fiModelDesc</td>\n",
       "      <td>0.037566</td>\n",
       "    </tr>\n",
       "    <tr>\n",
       "      <th>0</th>\n",
       "      <td>SalesID</td>\n",
       "      <td>0.032232</td>\n",
       "    </tr>\n",
       "    <tr>\n",
       "      <th>16</th>\n",
       "      <td>ProductGroup</td>\n",
       "      <td>0.027842</td>\n",
       "    </tr>\n",
       "    <tr>\n",
       "      <th>9</th>\n",
       "      <td>fiBaseModel</td>\n",
       "      <td>0.025444</td>\n",
       "    </tr>\n",
       "    <tr>\n",
       "      <th>30</th>\n",
       "      <td>Hydraulics</td>\n",
       "      <td>0.022071</td>\n",
       "    </tr>\n",
       "    <tr>\n",
       "      <th>17</th>\n",
       "      <td>ProductGroupDesc</td>\n",
       "      <td>0.022039</td>\n",
       "    </tr>\n",
       "    <tr>\n",
       "      <th>12</th>\n",
       "      <td>fiModelDescriptor</td>\n",
       "      <td>0.020188</td>\n",
       "    </tr>\n",
       "    <tr>\n",
       "      <th>1</th>\n",
       "      <td>MachineID</td>\n",
       "      <td>0.018172</td>\n",
       "    </tr>\n",
       "    <tr>\n",
       "      <th>29</th>\n",
       "      <td>Engine_Horsepower</td>\n",
       "      <td>0.009935</td>\n",
       "    </tr>\n",
       "    <tr>\n",
       "      <th>18</th>\n",
       "      <td>Drive_System</td>\n",
       "      <td>0.007936</td>\n",
       "    </tr>\n",
       "    <tr>\n",
       "      <th>56</th>\n",
       "      <td>saleDayofyear</td>\n",
       "      <td>0.007752</td>\n",
       "    </tr>\n",
       "    <tr>\n",
       "      <th>15</th>\n",
       "      <td>state</td>\n",
       "      <td>0.006804</td>\n",
       "    </tr>\n",
       "    <tr>\n",
       "      <th>53</th>\n",
       "      <td>saleDay</td>\n",
       "      <td>0.006649</td>\n",
       "    </tr>\n",
       "    <tr>\n",
       "      <th>55</th>\n",
       "      <td>saleWeekofyear</td>\n",
       "      <td>0.005286</td>\n",
       "    </tr>\n",
       "    <tr>\n",
       "      <th>11</th>\n",
       "      <td>fiModelSeries</td>\n",
       "      <td>0.004421</td>\n",
       "    </tr>\n",
       "    <tr>\n",
       "      <th>4</th>\n",
       "      <td>auctioneerID</td>\n",
       "      <td>0.003957</td>\n",
       "    </tr>\n",
       "    <tr>\n",
       "      <th>62</th>\n",
       "      <td>Tire_Size_na</td>\n",
       "      <td>0.003904</td>\n",
       "    </tr>\n",
       "  </tbody>\n",
       "</table>\n",
       "</div>"
      ],
      "text/plain": [
       "                  cols       imp\n",
       "5             YearMade  0.172404\n",
       "13         ProductSize  0.133301\n",
       "39     Hydraulics_Flow  0.119322\n",
       "14  fiProductClassDesc  0.065676\n",
       "51            saleYear  0.059198\n",
       "10     fiSecondaryDesc  0.053380\n",
       "19           Enclosure  0.051313\n",
       "2              ModelID  0.049600\n",
       "8          fiModelDesc  0.037566\n",
       "0              SalesID  0.032232\n",
       "16        ProductGroup  0.027842\n",
       "9          fiBaseModel  0.025444\n",
       "30          Hydraulics  0.022071\n",
       "17    ProductGroupDesc  0.022039\n",
       "12   fiModelDescriptor  0.020188\n",
       "1            MachineID  0.018172\n",
       "29   Engine_Horsepower  0.009935\n",
       "18        Drive_System  0.007936\n",
       "56       saleDayofyear  0.007752\n",
       "15               state  0.006804\n",
       "53             saleDay  0.006649\n",
       "55      saleWeekofyear  0.005286\n",
       "11       fiModelSeries  0.004421\n",
       "4         auctioneerID  0.003957\n",
       "62        Tire_Size_na  0.003904"
      ]
     },
     "execution_count": 43,
     "metadata": {},
     "output_type": "execute_result"
    }
   ],
   "source": [
    "fi = rf_feat_importance(m, df); fi[:25]"
   ]
  },
  {
   "cell_type": "code",
   "execution_count": 44,
   "metadata": {},
   "outputs": [
    {
     "data": {
      "text/plain": [
       "<matplotlib.axes._subplots.AxesSubplot at 0x7f85e74fa978>"
      ]
     },
     "execution_count": 44,
     "metadata": {},
     "output_type": "execute_result"
    },
    {
     "data": {
      "image/png": "[encoded data removed]",
      "text/plain": [
       "<Figure size 720x432 with 1 Axes>"
      ]
     },
     "metadata": {
      "needs_background": "light"
     },
     "output_type": "display_data"
    }
   ],
   "source": [
    "fi.plot('cols', 'imp', figsize=(10, 6))"
   ]
  },
  {
   "cell_type": "code",
   "execution_count": 45,
   "metadata": {},
   "outputs": [],
   "source": [
    "def plot_feature_imp(fi):\n",
    "    return fi.plot('cols', 'imp', 'barh', figsize=(12,7), legend=False)"
   ]
  },
  {
   "cell_type": "code",
   "execution_count": 46,
   "metadata": {},
   "outputs": [
    {
     "data": {
      "text/plain": [
       "<matplotlib.axes._subplots.AxesSubplot at 0x7f85ed4f3cc0>"
      ]
     },
     "execution_count": 46,
     "metadata": {},
     "output_type": "execute_result"
    },
    {
     "data": {
      "image/png": "[encoded data removed]",
      "text/plain": [
       "<Figure size 864x504 with 1 Axes>"
      ]
     },
     "metadata": {
      "needs_background": "light"
     },
     "output_type": "display_data"
    }
   ],
   "source": [
    "plot_feature_imp(fi[:30])"
   ]
  },
  {
   "cell_type": "code",
   "execution_count": 47,
   "metadata": {},
   "outputs": [
    {
     "data": {
      "text/plain": [
       "22"
      ]
     },
     "execution_count": 47,
     "metadata": {},
     "output_type": "execute_result"
    }
   ],
   "source": [
    "to_keep = fi[fi.imp>0.005].cols\n",
    "len(to_keep)"
   ]
  },
  {
   "cell_type": "code",
   "execution_count": 48,
   "metadata": {},
   "outputs": [],
   "source": [
    "df_keep= df[to_keep].copy()\n",
    "X_train, X_valid = split_vals(df_keep, trn_size)"
   ]
  },
  {
   "cell_type": "code",
   "execution_count": 49,
   "metadata": {},
   "outputs": [
    {
     "name": "stdout",
     "output_type": "stream",
     "text": [
      "['Train_RMSE:', 0.1260263896577933, 'Test_RMSE:', 0.2417351841043578, 'R²_Train:', 0.9669750006947601, 'R²_Test:', 0.8928789009934385, ['OOB: ', 0.9088517567607705]]\n"
     ]
    }
   ],
   "source": [
    "m = RandomForestRegressor(n_estimators=40, min_samples_leaf=3, max_features=0.5,\n",
    "                          n_jobs=-1, oob_score=True)\n",
    "m.fit(X_train, y_train)\n",
    "print_score(m)\n",
    "results.append(['keep: ', m.oob_score_])"
   ]
  },
  {
   "cell_type": "code",
   "execution_count": 50,
   "metadata": {},
   "outputs": [
    {
     "data": {
      "text/plain": [
       "<matplotlib.axes._subplots.AxesSubplot at 0x7f85b06b4f28>"
      ]
     },
     "execution_count": 50,
     "metadata": {},
     "output_type": "execute_result"
    },
    {
     "data": {
      "image/png": "[encoded data removed]",
      "text/plain": [
       "<Figure size 864x504 with 1 Axes>"
      ]
     },
     "metadata": {
      "needs_background": "light"
     },
     "output_type": "display_data"
    }
   ],
   "source": [
    "fi = rf_feat_importance(m, df_keep)\n",
    "plot_feature_imp(fi)"
   ]
  },
  {
   "cell_type": "markdown",
   "metadata": {},
   "source": [
    "Our model got slightly worse/marginaly better with less features. Let's have a closer look at the most important variables."
   ]
  },
  {
   "cell_type": "markdown",
   "metadata": {},
   "source": [
    "# 3.3 EDA/Feature Engineering on the most important variables"
   ]
  },
  {
   "cell_type": "markdown",
   "metadata": {},
   "source": [
    "### YearMade"
   ]
  },
  {
   "cell_type": "code",
   "execution_count": 51,
   "metadata": {},
   "outputs": [
    {
     "data": {
      "text/plain": [
       "<matplotlib.axes._subplots.AxesSubplot at 0x7f858d76a898>"
      ]
     },
     "execution_count": 51,
     "metadata": {},
     "output_type": "execute_result"
    },
    {
     "data": {
      "image/png": "[encoded data removed]",
      "text/plain": [
       "<Figure size 576x360 with 1 Axes>"
      ]
     },
     "metadata": {
      "needs_background": "light"
     },
     "output_type": "display_data"
    }
   ],
   "source": [
    "fig_dims = (8, 5)\n",
    "fig, ax = plt.subplots(figsize=fig_dims)\n",
    "sns.distplot(df_tmp['YearMade'], ax=ax, color='r')"
   ]
  },
  {
   "cell_type": "code",
   "execution_count": 52,
   "metadata": {},
   "outputs": [
    {
     "data": {
      "text/plain": [
       "<matplotlib.axes._subplots.AxesSubplot at 0x7f85ef169a58>"
      ]
     },
     "execution_count": 52,
     "metadata": {},
     "output_type": "execute_result"
    },
    {
     "data": {
      "image/png": "[encoded data removed]",
      "text/plain": [
       "<Figure size 576x360 with 1 Axes>"
      ]
     },
     "metadata": {
      "needs_background": "light"
     },
     "output_type": "display_data"
    }
   ],
   "source": [
    "fig_dims = (8, 5)\n",
    "fig, ax = plt.subplots(figsize=fig_dims)\n",
    "sns.distplot(df_tmp[df_tmp['YearMade'] >= 1950]['YearMade'], ax=ax, color='r')"
   ]
  },
  {
   "cell_type": "code",
   "execution_count": 53,
   "metadata": {},
   "outputs": [
    {
     "data": {
      "text/plain": [
       "<matplotlib.axes._subplots.AxesSubplot at 0x7f85ef090828>"
      ]
     },
     "execution_count": 53,
     "metadata": {},
     "output_type": "execute_result"
    },
    {
     "data": {
      "image/png": "[encoded data removed]",
      "text/plain": [
       "<Figure size 576x360 with 1 Axes>"
      ]
     },
     "metadata": {
      "needs_background": "light"
     },
     "output_type": "display_data"
    }
   ],
   "source": [
    "fig_dims = (8, 5)\n",
    "fig, ax = plt.subplots(figsize=fig_dims)\n",
    "df_tmp[df_tmp['YearMade'] > 1950].groupby('YearMade')['SalePrice'].mean().plot()"
   ]
  },
  {
   "cell_type": "code",
   "execution_count": 54,
   "metadata": {},
   "outputs": [
    {
     "data": {
      "text/plain": [
       "<matplotlib.axes._subplots.AxesSubplot at 0x7f85ef006588>"
      ]
     },
     "execution_count": 54,
     "metadata": {},
     "output_type": "execute_result"
    },
    {
     "data": {
      "image/png": "[encoded data removed]",
      "text/plain": [
       "<Figure size 576x360 with 1 Axes>"
      ]
     },
     "metadata": {
      "needs_background": "light"
     },
     "output_type": "display_data"
    }
   ],
   "source": [
    "fig_dims = (8, 5)\n",
    "fig, ax = plt.subplots(figsize=fig_dims)\n",
    "sns.regplot('YearMade', 'SalePrice', data=df_tmp[df_tmp['YearMade'] >= 1950], x_bins=20)   "
   ]
  },
  {
   "cell_type": "code",
   "execution_count": 55,
   "metadata": {},
   "outputs": [],
   "source": [
    "x_all = get_sample(df_tmp[df_tmp.YearMade>1930], 500)"
   ]
  },
  {
   "cell_type": "code",
   "execution_count": 56,
   "metadata": {},
   "outputs": [
    {
     "data": {
      "image/png": "[encoded data removed]",
      "text/plain": [
       "<Figure size 640x480 with 1 Axes>"
      ]
     },
     "metadata": {},
     "output_type": "display_data"
    },
    {
     "data": {
      "text/plain": [
       "<ggplot: (8763326043042)>"
      ]
     },
     "execution_count": 56,
     "metadata": {},
     "output_type": "execute_result"
    }
   ],
   "source": [
    "ggplot(x_all, aes('YearMade', 'SalePrice'))+stat_smooth(se=True, method='loess')"
   ]
  },
  {
   "cell_type": "code",
   "execution_count": 57,
   "metadata": {},
   "outputs": [],
   "source": [
    "x = get_sample(X_train[X_train.YearMade>1930], 500)\n",
    "\n",
    "def plot_pdp(feat, clusters = None, feat_name = None):\n",
    "    feat_name = feat_name or feat\n",
    "    p = pdp.pdp_isolate(m, x, feature = feat, model_features = x.columns)\n",
    "    return pdp.pdp_plot(p, feat_name, plot_lines = True,\n",
    "                        cluster = clusters is not None,\n",
    "                        n_cluster_centers = clusters)\n"
   ]
  },
  {
   "cell_type": "code",
   "execution_count": 58,
   "metadata": {},
   "outputs": [
    {
     "data": {
      "text/plain": [
       "(<Figure size 1080x684 with 2 Axes>,\n",
       " {'title_ax': <matplotlib.axes._subplots.AxesSubplot at 0x7f85eef63cf8>,\n",
       "  'pdp_ax': <matplotlib.axes._subplots.AxesSubplot at 0x7f85ed6c0978>})"
      ]
     },
     "execution_count": 58,
     "metadata": {},
     "output_type": "execute_result"
    },
    {
     "data": {
      "image/png": "[encoded data removed]",
      "text/plain": [
       "<Figure size 1080x684 with 2 Axes>"
      ]
     },
     "metadata": {
      "needs_background": "light"
     },
     "output_type": "display_data"
    }
   ],
   "source": [
    "plot_pdp('YearMade', clusters=5)"
   ]
  },
  {
   "cell_type": "code",
   "execution_count": 59,
   "metadata": {},
   "outputs": [],
   "source": [
    "####"
   ]
  },
  {
   "cell_type": "code",
   "execution_count": 60,
   "metadata": {},
   "outputs": [],
   "source": [
    "df_keep.loc[df_keep.YearMade<1950, 'YearMade'] = np.nan\n",
    "fix_na_num(df_keep, 'YearMade')"
   ]
  },
  {
   "cell_type": "code",
   "execution_count": 61,
   "metadata": {},
   "outputs": [],
   "source": [
    "df_keep['age'] = df_keep.saleYear - df_keep.YearMade\n"
   ]
  },
  {
   "cell_type": "code",
   "execution_count": 62,
   "metadata": {},
   "outputs": [
    {
     "data": {
      "text/plain": [
       "array([  2.,   8.,   3.,  10.,   4.,  11.,   1.,   7.,   5.,  14.,   6.,  15.,   9.,  13.,  21.,  17.,  25.,\n",
       "        12.,  18.,  36.,  28.,  24.,  20.,  27.,  19.,  30.,  16.,  35.,  31.,   0.,  38.,  23.,  29.,  22.,\n",
       "        26.,  32.,  33.,  41.,  34.,  39.,  37.,  40.,  43.,  45.,  -2.,  -1.,  48.,  -5.,  55.,  56.,  50.,\n",
       "        57.,  59.,  58.,  42.,  47.,  46.,  44.,  49.,  -7.,  51., -12.,  52., -10., -11.,  54.,  53.,  60.])"
      ]
     },
     "execution_count": 62,
     "metadata": {},
     "output_type": "execute_result"
    }
   ],
   "source": [
    "df_keep.age.unique()"
   ]
  },
  {
   "cell_type": "markdown",
   "metadata": {},
   "source": [
    "Negative age is not possible so we fix this by setting year made to the value of saleyear"
   ]
  },
  {
   "cell_type": "code",
   "execution_count": 63,
   "metadata": {},
   "outputs": [
    {
     "data": {
      "text/html": [
       "<div>\n",
       "<style scoped>\n",
       "    .dataframe tbody tr th:only-of-type {\n",
       "        vertical-align: middle;\n",
       "    }\n",
       "\n",
       "    .dataframe tbody tr th {\n",
       "        vertical-align: top;\n",
       "    }\n",
       "\n",
       "    .dataframe thead th {\n",
       "        text-align: right;\n",
       "    }\n",
       "</style>\n",
       "<table border=\"1\" class=\"dataframe\">\n",
       "  <thead>\n",
       "    <tr style=\"text-align: right;\">\n",
       "      <th></th>\n",
       "      <th>YearMade</th>\n",
       "      <th>saleYear</th>\n",
       "    </tr>\n",
       "  </thead>\n",
       "  <tbody>\n",
       "    <tr>\n",
       "      <th>24007</th>\n",
       "      <td>1996.0</td>\n",
       "      <td>1994</td>\n",
       "    </tr>\n",
       "    <tr>\n",
       "      <th>24009</th>\n",
       "      <td>1996.0</td>\n",
       "      <td>1995</td>\n",
       "    </tr>\n",
       "    <tr>\n",
       "      <th>24015</th>\n",
       "      <td>1996.0</td>\n",
       "      <td>1994</td>\n",
       "    </tr>\n",
       "    <tr>\n",
       "      <th>24029</th>\n",
       "      <td>1996.0</td>\n",
       "      <td>1995</td>\n",
       "    </tr>\n",
       "    <tr>\n",
       "      <th>24064</th>\n",
       "      <td>1996.0</td>\n",
       "      <td>1995</td>\n",
       "    </tr>\n",
       "    <tr>\n",
       "      <th>...</th>\n",
       "      <td>...</td>\n",
       "      <td>...</td>\n",
       "    </tr>\n",
       "    <tr>\n",
       "      <th>295706</th>\n",
       "      <td>2012.0</td>\n",
       "      <td>2010</td>\n",
       "    </tr>\n",
       "    <tr>\n",
       "      <th>297931</th>\n",
       "      <td>2009.0</td>\n",
       "      <td>2008</td>\n",
       "    </tr>\n",
       "    <tr>\n",
       "      <th>395524</th>\n",
       "      <td>2013.0</td>\n",
       "      <td>2011</td>\n",
       "    </tr>\n",
       "    <tr>\n",
       "      <th>409039</th>\n",
       "      <td>2014.0</td>\n",
       "      <td>2012</td>\n",
       "    </tr>\n",
       "    <tr>\n",
       "      <th>410474</th>\n",
       "      <td>2014.0</td>\n",
       "      <td>2012</td>\n",
       "    </tr>\n",
       "  </tbody>\n",
       "</table>\n",
       "<p>1449 rows × 2 columns</p>\n",
       "</div>"
      ],
      "text/plain": [
       "        YearMade  saleYear\n",
       "24007     1996.0      1994\n",
       "24009     1996.0      1995\n",
       "24015     1996.0      1994\n",
       "24029     1996.0      1995\n",
       "24064     1996.0      1995\n",
       "...          ...       ...\n",
       "295706    2012.0      2010\n",
       "297931    2009.0      2008\n",
       "395524    2013.0      2011\n",
       "409039    2014.0      2012\n",
       "410474    2014.0      2012\n",
       "\n",
       "[1449 rows x 2 columns]"
      ]
     },
     "execution_count": 63,
     "metadata": {},
     "output_type": "execute_result"
    }
   ],
   "source": [
    "tmp= df_keep.query(\"saleYear < YearMade\")[['YearMade','saleYear']]\n",
    "tmp"
   ]
  },
  {
   "cell_type": "code",
   "execution_count": 64,
   "metadata": {},
   "outputs": [],
   "source": [
    "df_keep.loc[df_keep.eval(\"saleYear < YearMade\"), 'YearMade'] = df_keep['saleYear']\n",
    "# adjust age column\n",
    "df_keep['age'] = df_keep.saleYear - df_keep.YearMade"
   ]
  },
  {
   "cell_type": "code",
   "execution_count": 65,
   "metadata": {},
   "outputs": [],
   "source": [
    "X_train, X_valid = split_vals(df_keep, trn_size)"
   ]
  },
  {
   "cell_type": "code",
   "execution_count": 66,
   "metadata": {},
   "outputs": [
    {
     "name": "stdout",
     "output_type": "stream",
     "text": [
      "['Train_RMSE:', 0.1251886194366382, 'Test_RMSE:', 0.24728566094085805, 'R²_Train:', 0.967412613810238, 'R²_Test:', 0.8879032151202266, ['OOB: ', 0.908984398991586]]\n"
     ]
    }
   ],
   "source": [
    "m = RandomForestRegressor(n_estimators=40, min_samples_leaf=3, max_features=0.5,\n",
    "                          n_jobs=-1, oob_score=True)\n",
    "m.fit(X_train, y_train)\n",
    "print_score(m)\n",
    "results.append(['YearMade/age: ', m.oob_score_])"
   ]
  },
  {
   "cell_type": "code",
   "execution_count": 67,
   "metadata": {},
   "outputs": [
    {
     "data": {
      "text/plain": [
       "<matplotlib.axes._subplots.AxesSubplot at 0x7f85eee6a438>"
      ]
     },
     "execution_count": 67,
     "metadata": {},
     "output_type": "execute_result"
    },
    {
     "data": {
      "image/png": "[encoded data removed]",
      "text/plain": [
       "<Figure size 864x504 with 1 Axes>"
      ]
     },
     "metadata": {
      "needs_background": "light"
     },
     "output_type": "display_data"
    }
   ],
   "source": [
    "fi = rf_feat_importance(m, df_keep)\n",
    "plot_feature_imp(fi)"
   ]
  },
  {
   "cell_type": "markdown",
   "metadata": {},
   "source": [
    "### Hydraulics Flow"
   ]
  },
  {
   "cell_type": "code",
   "execution_count": 68,
   "metadata": {},
   "outputs": [
    {
     "name": "stdout",
     "output_type": "stream",
     "text": [
      "NaN                    367823\n",
      "Standard                44251\n",
      "High Flow                 597\n",
      "None or Unspecified        27\n",
      "Name: Hydraulics_Flow, dtype: int64\n"
     ]
    }
   ],
   "source": [
    "print(df_raw.Hydraulics_Flow.value_counts(dropna=False))"
   ]
  },
  {
   "cell_type": "code",
   "execution_count": 69,
   "metadata": {},
   "outputs": [
    {
     "data": {
      "text/plain": [
       "<seaborn.axisgrid.FacetGrid at 0x7f85eeed7c50>"
      ]
     },
     "execution_count": 69,
     "metadata": {},
     "output_type": "execute_result"
    },
    {
     "data": {
      "image/png": "[encoded data removed]",
      "text/plain": [
       "<Figure size 360x360 with 1 Axes>"
      ]
     },
     "metadata": {
      "needs_background": "light"
     },
     "output_type": "display_data"
    }
   ],
   "source": [
    "sns.catplot(x='Hydraulics_Flow', y='SalePrice', data=df_tmp, kind=\"box\")"
   ]
  },
  {
   "cell_type": "markdown",
   "metadata": {},
   "source": [
    "- if standard or high flow log price stays under 10k\n",
    "- class imbalance, around 90% are NaN\n",
    "- should be one-hot encoded"
   ]
  },
  {
   "cell_type": "code",
   "execution_count": 70,
   "metadata": {},
   "outputs": [],
   "source": [
    "#df_keep['Hydraulics_Flow'] = df_tmp['Hydraulics_Flow']"
   ]
  },
  {
   "cell_type": "code",
   "execution_count": 71,
   "metadata": {},
   "outputs": [],
   "source": [
    "#df_keep =df_keep.drop(df_keep.iloc[:, -6:], axis = 1) "
   ]
  },
  {
   "cell_type": "code",
   "execution_count": 72,
   "metadata": {},
   "outputs": [],
   "source": [
    "oh = pd.get_dummies(df_keep['Hydraulics_Flow'], prefix='Hydraulics_Flow',dtype=bool)\n",
    "df_keep = pd.concat([df_keep, oh], axis=1)\n",
    "del df_keep['Hydraulics_Flow']"
   ]
  },
  {
   "cell_type": "code",
   "execution_count": 75,
   "metadata": {},
   "outputs": [
    {
     "data": {
      "text/html": [
       "<div>\n",
       "<style scoped>\n",
       "    .dataframe tbody tr th:only-of-type {\n",
       "        vertical-align: middle;\n",
       "    }\n",
       "\n",
       "    .dataframe tbody tr th {\n",
       "        vertical-align: top;\n",
       "    }\n",
       "\n",
       "    .dataframe thead th {\n",
       "        text-align: right;\n",
       "    }\n",
       "</style>\n",
       "<table border=\"1\" class=\"dataframe\">\n",
       "  <thead>\n",
       "    <tr style=\"text-align: right;\">\n",
       "      <th></th>\n",
       "      <th>YearMade</th>\n",
       "      <th>ProductSize</th>\n",
       "      <th>fiProductClassDesc</th>\n",
       "      <th>saleYear</th>\n",
       "      <th>fiSecondaryDesc</th>\n",
       "      <th>Enclosure</th>\n",
       "      <th>ModelID</th>\n",
       "      <th>fiModelDesc</th>\n",
       "      <th>SalesID</th>\n",
       "      <th>ProductGroup</th>\n",
       "      <th>fiBaseModel</th>\n",
       "      <th>Hydraulics</th>\n",
       "      <th>ProductGroupDesc</th>\n",
       "      <th>fiModelDescriptor</th>\n",
       "      <th>MachineID</th>\n",
       "      <th>Engine_Horsepower</th>\n",
       "      <th>Drive_System</th>\n",
       "      <th>saleDayofyear</th>\n",
       "      <th>state</th>\n",
       "      <th>saleDay</th>\n",
       "      <th>saleWeekofyear</th>\n",
       "      <th>YearMade_na</th>\n",
       "      <th>age</th>\n",
       "      <th>Hydraulics_Flow_0</th>\n",
       "      <th>Hydraulics_Flow_1</th>\n",
       "      <th>Hydraulics_Flow_2</th>\n",
       "    </tr>\n",
       "  </thead>\n",
       "  <tbody>\n",
       "    <tr>\n",
       "      <th>0</th>\n",
       "      <td>2004.0</td>\n",
       "      <td>0</td>\n",
       "      <td>59</td>\n",
       "      <td>2006</td>\n",
       "      <td>43</td>\n",
       "      <td>3</td>\n",
       "      <td>3157</td>\n",
       "      <td>963</td>\n",
       "      <td>1139246</td>\n",
       "      <td>6</td>\n",
       "      <td>298</td>\n",
       "      <td>1</td>\n",
       "      <td>6</td>\n",
       "      <td>0</td>\n",
       "      <td>999089</td>\n",
       "      <td>0</td>\n",
       "      <td>0</td>\n",
       "      <td>320</td>\n",
       "      <td>1</td>\n",
       "      <td>16</td>\n",
       "      <td>46</td>\n",
       "      <td>False</td>\n",
       "      <td>2.0</td>\n",
       "      <td>True</td>\n",
       "      <td>False</td>\n",
       "      <td>False</td>\n",
       "    </tr>\n",
       "    <tr>\n",
       "      <th>1</th>\n",
       "      <td>1996.0</td>\n",
       "      <td>4</td>\n",
       "      <td>62</td>\n",
       "      <td>2004</td>\n",
       "      <td>57</td>\n",
       "      <td>3</td>\n",
       "      <td>77</td>\n",
       "      <td>1745</td>\n",
       "      <td>1139248</td>\n",
       "      <td>6</td>\n",
       "      <td>529</td>\n",
       "      <td>1</td>\n",
       "      <td>6</td>\n",
       "      <td>0</td>\n",
       "      <td>117657</td>\n",
       "      <td>0</td>\n",
       "      <td>0</td>\n",
       "      <td>86</td>\n",
       "      <td>33</td>\n",
       "      <td>26</td>\n",
       "      <td>13</td>\n",
       "      <td>False</td>\n",
       "      <td>8.0</td>\n",
       "      <td>True</td>\n",
       "      <td>False</td>\n",
       "      <td>False</td>\n",
       "    </tr>\n",
       "    <tr>\n",
       "      <th>2</th>\n",
       "      <td>2001.0</td>\n",
       "      <td>0</td>\n",
       "      <td>39</td>\n",
       "      <td>2004</td>\n",
       "      <td>0</td>\n",
       "      <td>5</td>\n",
       "      <td>7009</td>\n",
       "      <td>336</td>\n",
       "      <td>1139249</td>\n",
       "      <td>3</td>\n",
       "      <td>111</td>\n",
       "      <td>4</td>\n",
       "      <td>3</td>\n",
       "      <td>0</td>\n",
       "      <td>434808</td>\n",
       "      <td>0</td>\n",
       "      <td>0</td>\n",
       "      <td>57</td>\n",
       "      <td>32</td>\n",
       "      <td>26</td>\n",
       "      <td>9</td>\n",
       "      <td>False</td>\n",
       "      <td>3.0</td>\n",
       "      <td>False</td>\n",
       "      <td>False</td>\n",
       "      <td>True</td>\n",
       "    </tr>\n",
       "    <tr>\n",
       "      <th>3</th>\n",
       "      <td>2001.0</td>\n",
       "      <td>6</td>\n",
       "      <td>8</td>\n",
       "      <td>2011</td>\n",
       "      <td>0</td>\n",
       "      <td>3</td>\n",
       "      <td>332</td>\n",
       "      <td>3716</td>\n",
       "      <td>1139251</td>\n",
       "      <td>4</td>\n",
       "      <td>1381</td>\n",
       "      <td>1</td>\n",
       "      <td>4</td>\n",
       "      <td>0</td>\n",
       "      <td>1026470</td>\n",
       "      <td>0</td>\n",
       "      <td>0</td>\n",
       "      <td>139</td>\n",
       "      <td>44</td>\n",
       "      <td>19</td>\n",
       "      <td>20</td>\n",
       "      <td>False</td>\n",
       "      <td>10.0</td>\n",
       "      <td>True</td>\n",
       "      <td>False</td>\n",
       "      <td>False</td>\n",
       "    </tr>\n",
       "    <tr>\n",
       "      <th>4</th>\n",
       "      <td>2007.0</td>\n",
       "      <td>0</td>\n",
       "      <td>40</td>\n",
       "      <td>2009</td>\n",
       "      <td>0</td>\n",
       "      <td>1</td>\n",
       "      <td>17311</td>\n",
       "      <td>4261</td>\n",
       "      <td>1139253</td>\n",
       "      <td>3</td>\n",
       "      <td>1538</td>\n",
       "      <td>4</td>\n",
       "      <td>3</td>\n",
       "      <td>0</td>\n",
       "      <td>1057373</td>\n",
       "      <td>0</td>\n",
       "      <td>0</td>\n",
       "      <td>204</td>\n",
       "      <td>32</td>\n",
       "      <td>23</td>\n",
       "      <td>30</td>\n",
       "      <td>False</td>\n",
       "      <td>2.0</td>\n",
       "      <td>False</td>\n",
       "      <td>False</td>\n",
       "      <td>True</td>\n",
       "    </tr>\n",
       "  </tbody>\n",
       "</table>\n",
       "</div>"
      ],
      "text/plain": [
       "   YearMade  ProductSize  fiProductClassDesc  saleYear  fiSecondaryDesc  \\\n",
       "0    2004.0            0                  59      2006               43   \n",
       "1    1996.0            4                  62      2004               57   \n",
       "2    2001.0            0                  39      2004                0   \n",
       "3    2001.0            6                   8      2011                0   \n",
       "4    2007.0            0                  40      2009                0   \n",
       "\n",
       "   Enclosure  ModelID  fiModelDesc  SalesID  ProductGroup  fiBaseModel  \\\n",
       "0          3     3157          963  1139246             6          298   \n",
       "1          3       77         1745  1139248             6          529   \n",
       "2          5     7009          336  1139249             3          111   \n",
       "3          3      332         3716  1139251             4         1381   \n",
       "4          1    17311         4261  1139253             3         1538   \n",
       "\n",
       "   Hydraulics  ProductGroupDesc  fiModelDescriptor  MachineID  \\\n",
       "0           1                 6                  0     999089   \n",
       "1           1                 6                  0     117657   \n",
       "2           4                 3                  0     434808   \n",
       "3           1                 4                  0    1026470   \n",
       "4           4                 3                  0    1057373   \n",
       "\n",
       "   Engine_Horsepower  Drive_System  saleDayofyear  state  saleDay  \\\n",
       "0                  0             0            320      1       16   \n",
       "1                  0             0             86     33       26   \n",
       "2                  0             0             57     32       26   \n",
       "3                  0             0            139     44       19   \n",
       "4                  0             0            204     32       23   \n",
       "\n",
       "   saleWeekofyear  YearMade_na   age  Hydraulics_Flow_0  Hydraulics_Flow_1  \\\n",
       "0              46        False   2.0               True              False   \n",
       "1              13        False   8.0               True              False   \n",
       "2               9        False   3.0              False              False   \n",
       "3              20        False  10.0               True              False   \n",
       "4              30        False   2.0              False              False   \n",
       "\n",
       "   Hydraulics_Flow_2  \n",
       "0              False  \n",
       "1              False  \n",
       "2               True  \n",
       "3              False  \n",
       "4               True  "
      ]
     },
     "metadata": {},
     "output_type": "display_data"
    }
   ],
   "source": [
    "display_all(df_keep.head())"
   ]
  },
  {
   "cell_type": "code",
   "execution_count": 76,
   "metadata": {},
   "outputs": [],
   "source": [
    "X_train, X_valid = split_vals(df_keep, trn_size)"
   ]
  },
  {
   "cell_type": "code",
   "execution_count": 77,
   "metadata": {},
   "outputs": [
    {
     "name": "stdout",
     "output_type": "stream",
     "text": [
      "['Train_RMSE:', 0.12542260212379158, 'Test_RMSE:', 0.24895278354197492, 'R²_Train:', 0.9672906856376347, 'R²_Test:', 0.8863866773392256, ['OOB: ', 0.9090436255139654]]\n"
     ]
    }
   ],
   "source": [
    "m = RandomForestRegressor(n_estimators=40, min_samples_leaf=3, max_features=0.5,\n",
    "                          n_jobs=-1, oob_score=True)\n",
    "m.fit(X_train, y_train)\n",
    "print_score(m)\n",
    "results.append(['hydraulics_flow_oh: ', m.oob_score_])    "
   ]
  },
  {
   "cell_type": "markdown",
   "metadata": {},
   "source": [
    "### ProductSize"
   ]
  },
  {
   "cell_type": "code",
   "execution_count": 78,
   "metadata": {},
   "outputs": [
    {
     "data": {
      "text/plain": [
       "array([None, 'Medium', None, ..., 'Mini', 'Mini', 'Mini'], dtype=object)"
      ]
     },
     "execution_count": 78,
     "metadata": {},
     "output_type": "execute_result"
    }
   ],
   "source": [
    "df_raw.ProductSize.values"
   ]
  },
  {
   "cell_type": "code",
   "execution_count": 79,
   "metadata": {},
   "outputs": [
    {
     "data": {
      "text/plain": [
       "<matplotlib.axes._subplots.AxesSubplot at 0x7f85ef09ec18>"
      ]
     },
     "execution_count": 79,
     "metadata": {},
     "output_type": "execute_result"
    },
    {
     "data": {
      "image/png": "[encoded data removed]",
      "text/plain": [
       "<Figure size 432x288 with 1 Axes>"
      ]
     },
     "metadata": {
      "needs_background": "light"
     },
     "output_type": "display_data"
    }
   ],
   "source": [
    "temp = df_raw\n",
    "temp = temp.groupby('ProductSize').mean()\n",
    "temp[['SalePrice']].sort_values('SalePrice').plot.barh()"
   ]
  },
  {
   "cell_type": "code",
   "execution_count": 80,
   "metadata": {},
   "outputs": [
    {
     "name": "stdout",
     "output_type": "stream",
     "text": [
      "[0 4 3 5 1 6 2]\n"
     ]
    }
   ],
   "source": [
    "sizes = {None:0, 'Mini':1, 'Compact':1, 'Small':2, 'Medium':3,\n",
    "         'Large / Medium':4, 'Large':5}\n",
    "df_keep['ProductSize'] = df_raw['ProductSize'].map(sizes).values\n",
    "print(df_keep['ProductSize'].unique())"
   ]
  },
  {
   "cell_type": "code",
   "execution_count": 81,
   "metadata": {},
   "outputs": [
    {
     "data": {
      "text/html": [
       "<div>\n",
       "<style scoped>\n",
       "    .dataframe tbody tr th:only-of-type {\n",
       "        vertical-align: middle;\n",
       "    }\n",
       "\n",
       "    .dataframe tbody tr th {\n",
       "        vertical-align: top;\n",
       "    }\n",
       "\n",
       "    .dataframe thead th {\n",
       "        text-align: right;\n",
       "    }\n",
       "</style>\n",
       "<table border=\"1\" class=\"dataframe\">\n",
       "  <thead>\n",
       "    <tr style=\"text-align: right;\">\n",
       "      <th></th>\n",
       "      <th>YearMade</th>\n",
       "      <th>ProductSize</th>\n",
       "      <th>fiProductClassDesc</th>\n",
       "      <th>saleYear</th>\n",
       "      <th>fiSecondaryDesc</th>\n",
       "      <th>Enclosure</th>\n",
       "      <th>ModelID</th>\n",
       "      <th>fiModelDesc</th>\n",
       "      <th>SalesID</th>\n",
       "      <th>ProductGroup</th>\n",
       "      <th>fiBaseModel</th>\n",
       "      <th>Hydraulics</th>\n",
       "      <th>ProductGroupDesc</th>\n",
       "      <th>fiModelDescriptor</th>\n",
       "      <th>MachineID</th>\n",
       "      <th>Engine_Horsepower</th>\n",
       "      <th>Drive_System</th>\n",
       "      <th>saleDayofyear</th>\n",
       "      <th>state</th>\n",
       "      <th>saleDay</th>\n",
       "      <th>saleWeekofyear</th>\n",
       "      <th>YearMade_na</th>\n",
       "      <th>age</th>\n",
       "      <th>Hydraulics_Flow_0</th>\n",
       "      <th>Hydraulics_Flow_1</th>\n",
       "      <th>Hydraulics_Flow_2</th>\n",
       "    </tr>\n",
       "  </thead>\n",
       "  <tbody>\n",
       "    <tr>\n",
       "      <th>0</th>\n",
       "      <td>2004.0</td>\n",
       "      <td>0</td>\n",
       "      <td>59</td>\n",
       "      <td>2006</td>\n",
       "      <td>43</td>\n",
       "      <td>3</td>\n",
       "      <td>3157</td>\n",
       "      <td>963</td>\n",
       "      <td>1139246</td>\n",
       "      <td>6</td>\n",
       "      <td>298</td>\n",
       "      <td>1</td>\n",
       "      <td>6</td>\n",
       "      <td>0</td>\n",
       "      <td>999089</td>\n",
       "      <td>0</td>\n",
       "      <td>0</td>\n",
       "      <td>320</td>\n",
       "      <td>1</td>\n",
       "      <td>16</td>\n",
       "      <td>46</td>\n",
       "      <td>False</td>\n",
       "      <td>2.0</td>\n",
       "      <td>True</td>\n",
       "      <td>False</td>\n",
       "      <td>False</td>\n",
       "    </tr>\n",
       "    <tr>\n",
       "      <th>1</th>\n",
       "      <td>1996.0</td>\n",
       "      <td>4</td>\n",
       "      <td>62</td>\n",
       "      <td>2004</td>\n",
       "      <td>57</td>\n",
       "      <td>3</td>\n",
       "      <td>77</td>\n",
       "      <td>1745</td>\n",
       "      <td>1139248</td>\n",
       "      <td>6</td>\n",
       "      <td>529</td>\n",
       "      <td>1</td>\n",
       "      <td>6</td>\n",
       "      <td>0</td>\n",
       "      <td>117657</td>\n",
       "      <td>0</td>\n",
       "      <td>0</td>\n",
       "      <td>86</td>\n",
       "      <td>33</td>\n",
       "      <td>26</td>\n",
       "      <td>13</td>\n",
       "      <td>False</td>\n",
       "      <td>8.0</td>\n",
       "      <td>True</td>\n",
       "      <td>False</td>\n",
       "      <td>False</td>\n",
       "    </tr>\n",
       "    <tr>\n",
       "      <th>2</th>\n",
       "      <td>2001.0</td>\n",
       "      <td>0</td>\n",
       "      <td>39</td>\n",
       "      <td>2004</td>\n",
       "      <td>0</td>\n",
       "      <td>5</td>\n",
       "      <td>7009</td>\n",
       "      <td>336</td>\n",
       "      <td>1139249</td>\n",
       "      <td>3</td>\n",
       "      <td>111</td>\n",
       "      <td>4</td>\n",
       "      <td>3</td>\n",
       "      <td>0</td>\n",
       "      <td>434808</td>\n",
       "      <td>0</td>\n",
       "      <td>0</td>\n",
       "      <td>57</td>\n",
       "      <td>32</td>\n",
       "      <td>26</td>\n",
       "      <td>9</td>\n",
       "      <td>False</td>\n",
       "      <td>3.0</td>\n",
       "      <td>False</td>\n",
       "      <td>False</td>\n",
       "      <td>True</td>\n",
       "    </tr>\n",
       "    <tr>\n",
       "      <th>3</th>\n",
       "      <td>2001.0</td>\n",
       "      <td>3</td>\n",
       "      <td>8</td>\n",
       "      <td>2011</td>\n",
       "      <td>0</td>\n",
       "      <td>3</td>\n",
       "      <td>332</td>\n",
       "      <td>3716</td>\n",
       "      <td>1139251</td>\n",
       "      <td>4</td>\n",
       "      <td>1381</td>\n",
       "      <td>1</td>\n",
       "      <td>4</td>\n",
       "      <td>0</td>\n",
       "      <td>1026470</td>\n",
       "      <td>0</td>\n",
       "      <td>0</td>\n",
       "      <td>139</td>\n",
       "      <td>44</td>\n",
       "      <td>19</td>\n",
       "      <td>20</td>\n",
       "      <td>False</td>\n",
       "      <td>10.0</td>\n",
       "      <td>True</td>\n",
       "      <td>False</td>\n",
       "      <td>False</td>\n",
       "    </tr>\n",
       "    <tr>\n",
       "      <th>4</th>\n",
       "      <td>2007.0</td>\n",
       "      <td>0</td>\n",
       "      <td>40</td>\n",
       "      <td>2009</td>\n",
       "      <td>0</td>\n",
       "      <td>1</td>\n",
       "      <td>17311</td>\n",
       "      <td>4261</td>\n",
       "      <td>1139253</td>\n",
       "      <td>3</td>\n",
       "      <td>1538</td>\n",
       "      <td>4</td>\n",
       "      <td>3</td>\n",
       "      <td>0</td>\n",
       "      <td>1057373</td>\n",
       "      <td>0</td>\n",
       "      <td>0</td>\n",
       "      <td>204</td>\n",
       "      <td>32</td>\n",
       "      <td>23</td>\n",
       "      <td>30</td>\n",
       "      <td>False</td>\n",
       "      <td>2.0</td>\n",
       "      <td>False</td>\n",
       "      <td>False</td>\n",
       "      <td>True</td>\n",
       "    </tr>\n",
       "    <tr>\n",
       "      <th>...</th>\n",
       "      <td>...</td>\n",
       "      <td>...</td>\n",
       "      <td>...</td>\n",
       "      <td>...</td>\n",
       "      <td>...</td>\n",
       "      <td>...</td>\n",
       "      <td>...</td>\n",
       "      <td>...</td>\n",
       "      <td>...</td>\n",
       "      <td>...</td>\n",
       "      <td>...</td>\n",
       "      <td>...</td>\n",
       "      <td>...</td>\n",
       "      <td>...</td>\n",
       "      <td>...</td>\n",
       "      <td>...</td>\n",
       "      <td>...</td>\n",
       "      <td>...</td>\n",
       "      <td>...</td>\n",
       "      <td>...</td>\n",
       "      <td>...</td>\n",
       "      <td>...</td>\n",
       "      <td>...</td>\n",
       "      <td>...</td>\n",
       "      <td>...</td>\n",
       "      <td>...</td>\n",
       "    </tr>\n",
       "    <tr>\n",
       "      <th>412693</th>\n",
       "      <td>2005.0</td>\n",
       "      <td>1</td>\n",
       "      <td>13</td>\n",
       "      <td>2012</td>\n",
       "      <td>108</td>\n",
       "      <td>1</td>\n",
       "      <td>21435</td>\n",
       "      <td>490</td>\n",
       "      <td>6333344</td>\n",
       "      <td>4</td>\n",
       "      <td>160</td>\n",
       "      <td>11</td>\n",
       "      <td>4</td>\n",
       "      <td>0</td>\n",
       "      <td>1919201</td>\n",
       "      <td>0</td>\n",
       "      <td>0</td>\n",
       "      <td>67</td>\n",
       "      <td>44</td>\n",
       "      <td>7</td>\n",
       "      <td>10</td>\n",
       "      <td>False</td>\n",
       "      <td>7.0</td>\n",
       "      <td>True</td>\n",
       "      <td>False</td>\n",
       "      <td>False</td>\n",
       "    </tr>\n",
       "    <tr>\n",
       "      <th>412694</th>\n",
       "      <td>2005.0</td>\n",
       "      <td>1</td>\n",
       "      <td>17</td>\n",
       "      <td>2012</td>\n",
       "      <td>108</td>\n",
       "      <td>1</td>\n",
       "      <td>21436</td>\n",
       "      <td>491</td>\n",
       "      <td>6333345</td>\n",
       "      <td>4</td>\n",
       "      <td>160</td>\n",
       "      <td>4</td>\n",
       "      <td>4</td>\n",
       "      <td>0</td>\n",
       "      <td>1882122</td>\n",
       "      <td>0</td>\n",
       "      <td>0</td>\n",
       "      <td>28</td>\n",
       "      <td>9</td>\n",
       "      <td>28</td>\n",
       "      <td>4</td>\n",
       "      <td>False</td>\n",
       "      <td>7.0</td>\n",
       "      <td>True</td>\n",
       "      <td>False</td>\n",
       "      <td>False</td>\n",
       "    </tr>\n",
       "    <tr>\n",
       "      <th>412695</th>\n",
       "      <td>2005.0</td>\n",
       "      <td>1</td>\n",
       "      <td>13</td>\n",
       "      <td>2012</td>\n",
       "      <td>108</td>\n",
       "      <td>1</td>\n",
       "      <td>21435</td>\n",
       "      <td>490</td>\n",
       "      <td>6333347</td>\n",
       "      <td>4</td>\n",
       "      <td>160</td>\n",
       "      <td>4</td>\n",
       "      <td>4</td>\n",
       "      <td>0</td>\n",
       "      <td>1944213</td>\n",
       "      <td>0</td>\n",
       "      <td>0</td>\n",
       "      <td>28</td>\n",
       "      <td>9</td>\n",
       "      <td>28</td>\n",
       "      <td>4</td>\n",
       "      <td>False</td>\n",
       "      <td>7.0</td>\n",
       "      <td>True</td>\n",
       "      <td>False</td>\n",
       "      <td>False</td>\n",
       "    </tr>\n",
       "    <tr>\n",
       "      <th>412696</th>\n",
       "      <td>2006.0</td>\n",
       "      <td>1</td>\n",
       "      <td>13</td>\n",
       "      <td>2012</td>\n",
       "      <td>108</td>\n",
       "      <td>1</td>\n",
       "      <td>21435</td>\n",
       "      <td>490</td>\n",
       "      <td>6333348</td>\n",
       "      <td>4</td>\n",
       "      <td>160</td>\n",
       "      <td>4</td>\n",
       "      <td>4</td>\n",
       "      <td>0</td>\n",
       "      <td>1794518</td>\n",
       "      <td>0</td>\n",
       "      <td>0</td>\n",
       "      <td>67</td>\n",
       "      <td>44</td>\n",
       "      <td>7</td>\n",
       "      <td>10</td>\n",
       "      <td>False</td>\n",
       "      <td>6.0</td>\n",
       "      <td>True</td>\n",
       "      <td>False</td>\n",
       "      <td>False</td>\n",
       "    </tr>\n",
       "    <tr>\n",
       "      <th>412697</th>\n",
       "      <td>2006.0</td>\n",
       "      <td>1</td>\n",
       "      <td>17</td>\n",
       "      <td>2012</td>\n",
       "      <td>108</td>\n",
       "      <td>1</td>\n",
       "      <td>21436</td>\n",
       "      <td>491</td>\n",
       "      <td>6333349</td>\n",
       "      <td>4</td>\n",
       "      <td>160</td>\n",
       "      <td>4</td>\n",
       "      <td>4</td>\n",
       "      <td>0</td>\n",
       "      <td>1944743</td>\n",
       "      <td>0</td>\n",
       "      <td>0</td>\n",
       "      <td>28</td>\n",
       "      <td>9</td>\n",
       "      <td>28</td>\n",
       "      <td>4</td>\n",
       "      <td>False</td>\n",
       "      <td>6.0</td>\n",
       "      <td>True</td>\n",
       "      <td>False</td>\n",
       "      <td>False</td>\n",
       "    </tr>\n",
       "  </tbody>\n",
       "</table>\n",
       "<p>412698 rows × 26 columns</p>\n",
       "</div>"
      ],
      "text/plain": [
       "        YearMade  ProductSize  fiProductClassDesc  saleYear  fiSecondaryDesc  \\\n",
       "0         2004.0            0                  59      2006               43   \n",
       "1         1996.0            4                  62      2004               57   \n",
       "2         2001.0            0                  39      2004                0   \n",
       "3         2001.0            3                   8      2011                0   \n",
       "4         2007.0            0                  40      2009                0   \n",
       "...          ...          ...                 ...       ...              ...   \n",
       "412693    2005.0            1                  13      2012              108   \n",
       "412694    2005.0            1                  17      2012              108   \n",
       "412695    2005.0            1                  13      2012              108   \n",
       "412696    2006.0            1                  13      2012              108   \n",
       "412697    2006.0            1                  17      2012              108   \n",
       "\n",
       "        Enclosure  ModelID  fiModelDesc  SalesID  ProductGroup  fiBaseModel  \\\n",
       "0               3     3157          963  1139246             6          298   \n",
       "1               3       77         1745  1139248             6          529   \n",
       "2               5     7009          336  1139249             3          111   \n",
       "3               3      332         3716  1139251             4         1381   \n",
       "4               1    17311         4261  1139253             3         1538   \n",
       "...           ...      ...          ...      ...           ...          ...   \n",
       "412693          1    21435          490  6333344             4          160   \n",
       "412694          1    21436          491  6333345             4          160   \n",
       "412695          1    21435          490  6333347             4          160   \n",
       "412696          1    21435          490  6333348             4          160   \n",
       "412697          1    21436          491  6333349             4          160   \n",
       "\n",
       "        Hydraulics  ProductGroupDesc  fiModelDescriptor  MachineID  \\\n",
       "0                1                 6                  0     999089   \n",
       "1                1                 6                  0     117657   \n",
       "2                4                 3                  0     434808   \n",
       "3                1                 4                  0    1026470   \n",
       "4                4                 3                  0    1057373   \n",
       "...            ...               ...                ...        ...   \n",
       "412693          11                 4                  0    1919201   \n",
       "412694           4                 4                  0    1882122   \n",
       "412695           4                 4                  0    1944213   \n",
       "412696           4                 4                  0    1794518   \n",
       "412697           4                 4                  0    1944743   \n",
       "\n",
       "        Engine_Horsepower  Drive_System  saleDayofyear  state  saleDay  \\\n",
       "0                       0             0            320      1       16   \n",
       "1                       0             0             86     33       26   \n",
       "2                       0             0             57     32       26   \n",
       "3                       0             0            139     44       19   \n",
       "4                       0             0            204     32       23   \n",
       "...                   ...           ...            ...    ...      ...   \n",
       "412693                  0             0             67     44        7   \n",
       "412694                  0             0             28      9       28   \n",
       "412695                  0             0             28      9       28   \n",
       "412696                  0             0             67     44        7   \n",
       "412697                  0             0             28      9       28   \n",
       "\n",
       "        saleWeekofyear  YearMade_na   age  Hydraulics_Flow_0  \\\n",
       "0                   46        False   2.0               True   \n",
       "1                   13        False   8.0               True   \n",
       "2                    9        False   3.0              False   \n",
       "3                   20        False  10.0               True   \n",
       "4                   30        False   2.0              False   \n",
       "...                ...          ...   ...                ...   \n",
       "412693              10        False   7.0               True   \n",
       "412694               4        False   7.0               True   \n",
       "412695               4        False   7.0               True   \n",
       "412696              10        False   6.0               True   \n",
       "412697               4        False   6.0               True   \n",
       "\n",
       "        Hydraulics_Flow_1  Hydraulics_Flow_2  \n",
       "0                   False              False  \n",
       "1                   False              False  \n",
       "2                   False               True  \n",
       "3                   False              False  \n",
       "4                   False               True  \n",
       "...                   ...                ...  \n",
       "412693              False              False  \n",
       "412694              False              False  \n",
       "412695              False              False  \n",
       "412696              False              False  \n",
       "412697              False              False  \n",
       "\n",
       "[412698 rows x 26 columns]"
      ]
     },
     "metadata": {},
     "output_type": "display_data"
    }
   ],
   "source": [
    "display_all(df_keep)"
   ]
  },
  {
   "cell_type": "code",
   "execution_count": 82,
   "metadata": {},
   "outputs": [
    {
     "name": "stdout",
     "output_type": "stream",
     "text": [
      "<class 'pandas.core.frame.DataFrame'>\n",
      "RangeIndex: 412698 entries, 0 to 412697\n",
      "Data columns (total 26 columns):\n",
      " #   Column              Non-Null Count   Dtype  \n",
      "---  ------              --------------   -----  \n",
      " 0   YearMade            412698 non-null  float64\n",
      " 1   ProductSize         412698 non-null  int64  \n",
      " 2   fiProductClassDesc  412698 non-null  int8   \n",
      " 3   saleYear            412698 non-null  int64  \n",
      " 4   fiSecondaryDesc     412698 non-null  int16  \n",
      " 5   Enclosure           412698 non-null  int8   \n",
      " 6   ModelID             412698 non-null  int64  \n",
      " 7   fiModelDesc         412698 non-null  int16  \n",
      " 8   SalesID             412698 non-null  int64  \n",
      " 9   ProductGroup        412698 non-null  int8   \n",
      " 10  fiBaseModel         412698 non-null  int16  \n",
      " 11  Hydraulics          412698 non-null  int8   \n",
      " 12  ProductGroupDesc    412698 non-null  int8   \n",
      " 13  fiModelDescriptor   412698 non-null  int16  \n",
      " 14  MachineID           412698 non-null  int64  \n",
      " 15  Engine_Horsepower   412698 non-null  int8   \n",
      " 16  Drive_System        412698 non-null  int8   \n",
      " 17  saleDayofyear       412698 non-null  int64  \n",
      " 18  state               412698 non-null  int8   \n",
      " 19  saleDay             412698 non-null  int64  \n",
      " 20  saleWeekofyear      412698 non-null  int64  \n",
      " 21  YearMade_na         412698 non-null  bool   \n",
      " 22  age                 412698 non-null  float64\n",
      " 23  Hydraulics_Flow_0   412698 non-null  bool   \n",
      " 24  Hydraulics_Flow_1   412698 non-null  bool   \n",
      " 25  Hydraulics_Flow_2   412698 non-null  bool   \n",
      "dtypes: bool(4), float64(2), int16(4), int64(8), int8(8)\n",
      "memory usage: 39.4 MB\n"
     ]
    }
   ],
   "source": [
    "df_keep.info()\n"
   ]
  },
  {
   "cell_type": "code",
   "execution_count": 83,
   "metadata": {},
   "outputs": [],
   "source": [
    "X_train, X_valid = split_vals(df_keep, trn_size)"
   ]
  },
  {
   "cell_type": "code",
   "execution_count": 84,
   "metadata": {},
   "outputs": [
    {
     "name": "stdout",
     "output_type": "stream",
     "text": [
      "['Train_RMSE:', 0.12526055816303497, 'Test_RMSE:', 0.24883008002789253, 'R²_Train:', 0.9673751508421876, 'R²_Test:', 0.8864986449034257, ['OOB: ', 0.909250561420541]]\n"
     ]
    }
   ],
   "source": [
    "m = RandomForestRegressor(n_estimators=40, min_samples_leaf=3, max_features=0.5,\n",
    "                          n_jobs=-1, oob_score=True)\n",
    "m.fit(X_train, y_train)\n",
    "print_score(m)\n",
    "results.append(['ProductSize: ', m.oob_score_]) "
   ]
  },
  {
   "cell_type": "code",
   "execution_count": 85,
   "metadata": {},
   "outputs": [
    {
     "data": {
      "text/plain": [
       "[['Baseline: ', 0.9099025433645491],\n",
       " ['keep: ', 0.9088517567607705],\n",
       " ['YearMade/age: ', 0.908984398991586],\n",
       " ['hydraulics_flow_oh: ', 0.9090436255139654],\n",
       " ['ProductSize: ', 0.909250561420541]]"
      ]
     },
     "execution_count": 85,
     "metadata": {},
     "output_type": "execute_result"
    }
   ],
   "source": [
    "results"
   ]
  },
  {
   "cell_type": "markdown",
   "metadata": {},
   "source": [
    "### fiProductClassDesc"
   ]
  },
  {
   "cell_type": "code",
   "execution_count": 86,
   "metadata": {},
   "outputs": [
    {
     "data": {
      "text/plain": [
       "<matplotlib.axes._subplots.AxesSubplot at 0x7f85eef3b5f8>"
      ]
     },
     "execution_count": 86,
     "metadata": {},
     "output_type": "execute_result"
    },
    {
     "data": {
      "image/png": "[encoded data removed]",
      "text/plain": [
       "<Figure size 432x288 with 1 Axes>"
      ]
     },
     "metadata": {
      "needs_background": "light"
     },
     "output_type": "display_data"
    }
   ],
   "source": [
    "temp = df_raw.groupby('fiProductClassDesc').mean()\n",
    "temp[['SalePrice']].sort_values('SalePrice').head(15).plot.barh()"
   ]
  },
  {
   "cell_type": "code",
   "execution_count": 87,
   "metadata": {},
   "outputs": [],
   "source": [
    "df_split = df_raw.fiProductClassDesc.str.split(' - ', expand=True).values"
   ]
  },
  {
   "cell_type": "code",
   "execution_count": 88,
   "metadata": {},
   "outputs": [
    {
     "name": "stdout",
     "output_type": "stream",
     "text": [
      "['Wheel Loader' 'Skid Steer Loader' 'Hydraulic Excavator, Track' 'Backhoe Loader' 'Track Type Tractor, Dozer'\n",
      " 'Motorgrader']\n"
     ]
    }
   ],
   "source": [
    "df_keep['fiProductClassDesc'] = df_split[:,0]\n",
    "df_keep['fiProductClassSpec'] = df_split[:,1]\n",
    "print(df_keep['fiProductClassDesc'].unique())"
   ]
  },
  {
   "cell_type": "code",
   "execution_count": 89,
   "metadata": {},
   "outputs": [
    {
     "data": {
      "text/html": [
       "<div>\n",
       "<style scoped>\n",
       "    .dataframe tbody tr th:only-of-type {\n",
       "        vertical-align: middle;\n",
       "    }\n",
       "\n",
       "    .dataframe tbody tr th {\n",
       "        vertical-align: top;\n",
       "    }\n",
       "\n",
       "    .dataframe thead th {\n",
       "        text-align: right;\n",
       "    }\n",
       "</style>\n",
       "<table border=\"1\" class=\"dataframe\">\n",
       "  <thead>\n",
       "    <tr style=\"text-align: right;\">\n",
       "      <th></th>\n",
       "      <th>fiProductClassSpec_lower</th>\n",
       "      <th>fiProductClassSpec_upper</th>\n",
       "      <th>fiProductClassSpec_units</th>\n",
       "    </tr>\n",
       "  </thead>\n",
       "  <tbody>\n",
       "    <tr>\n",
       "      <th>0</th>\n",
       "      <td>110.0</td>\n",
       "      <td>120.0</td>\n",
       "      <td>Horsepower</td>\n",
       "    </tr>\n",
       "    <tr>\n",
       "      <th>1</th>\n",
       "      <td>150.0</td>\n",
       "      <td>175.0</td>\n",
       "      <td>Horsepower</td>\n",
       "    </tr>\n",
       "    <tr>\n",
       "      <th>2</th>\n",
       "      <td>1351.0</td>\n",
       "      <td>1601.0</td>\n",
       "      <td>Lb Operating Capacity</td>\n",
       "    </tr>\n",
       "  </tbody>\n",
       "</table>\n",
       "</div>"
      ],
      "text/plain": [
       "   fiProductClassSpec_lower  fiProductClassSpec_upper fiProductClassSpec_units\n",
       "0                     110.0                     120.0               Horsepower\n",
       "1                     150.0                     175.0               Horsepower\n",
       "2                    1351.0                    1601.0    Lb Operating Capacity"
      ]
     },
     "execution_count": 89,
     "metadata": {},
     "output_type": "execute_result"
    }
   ],
   "source": [
    "pattern = r'([0-9.\\+]*)(?: to ([0-9.\\+]*)|\\+) ([a-zA-Z ]*)'\n",
    "df_split = df_keep['fiProductClassSpec'].str.extract(pattern, expand=True).values\n",
    "df_keep['fiProductClassSpec_lower'] = pd.to_numeric(df_split[:,0])\n",
    "df_keep['fiProductClassSpec_upper'] = pd.to_numeric(df_split[:,1])\n",
    "df_keep['fiProductClassSpec_units'] = df_split[:,2]\n",
    "del df_keep['fiProductClassSpec'] # remove temporary column\n",
    "df_keep.filter(regex=('fiProductClassSpec*')).head(3)"
   ]
  },
  {
   "cell_type": "code",
   "execution_count": 90,
   "metadata": {},
   "outputs": [],
   "source": [
    "fix_na_num(df_keep, 'fiProductClassSpec_lower')\n",
    "fix_na_num(df_keep, 'fiProductClassSpec_upper')\n",
    "# label encode fiProductClassDesc fiProductClassSpec_units\n",
    "to_cat(df_keep)\n",
    "to_catcode(df_keep)"
   ]
  },
  {
   "cell_type": "code",
   "execution_count": 91,
   "metadata": {},
   "outputs": [],
   "source": [
    "X_train, X_valid = split_vals(df_keep, trn_size)"
   ]
  },
  {
   "cell_type": "code",
   "execution_count": 92,
   "metadata": {},
   "outputs": [
    {
     "name": "stdout",
     "output_type": "stream",
     "text": [
      "['Train_RMSE:', 0.12563584472123865, 'Test_RMSE:', 0.24892367433606236, 'R²_Train:', 0.967179366808722, 'R²_Test:', 0.8864132446280683, ['OOB: ', 0.9093094610941479]]\n"
     ]
    }
   ],
   "source": [
    "m = RandomForestRegressor(n_estimators=40, min_samples_leaf=3, max_features=0.5,\n",
    "                          n_jobs=-1, oob_score=True)\n",
    "m.fit(X_train, y_train)\n",
    "print_score(m)\n",
    "results.append(['fiProductClassDesc: ', m.oob_score_]) "
   ]
  },
  {
   "cell_type": "code",
   "execution_count": 93,
   "metadata": {},
   "outputs": [
    {
     "data": {
      "text/plain": [
       "[['Baseline: ', 0.9099025433645491],\n",
       " ['keep: ', 0.9088517567607705],\n",
       " ['YearMade/age: ', 0.908984398991586],\n",
       " ['hydraulics_flow_oh: ', 0.9090436255139654],\n",
       " ['ProductSize: ', 0.909250561420541],\n",
       " ['fiProductClassDesc: ', 0.9093094610941479]]"
      ]
     },
     "execution_count": 93,
     "metadata": {},
     "output_type": "execute_result"
    }
   ],
   "source": [
    "results"
   ]
  },
  {
   "cell_type": "markdown",
   "metadata": {},
   "source": [
    "### Enclosure"
   ]
  },
  {
   "cell_type": "code",
   "execution_count": 94,
   "metadata": {},
   "outputs": [
    {
     "name": "stdout",
     "output_type": "stream",
     "text": [
      "OROPS                  177971\n",
      "EROPS                  141769\n",
      "EROPS w AC              92601\n",
      "NaN                       334\n",
      "EROPS AC                   18\n",
      "NO ROPS                     3\n",
      "None or Unspecified         2\n",
      "Name: Enclosure, dtype: int64\n"
     ]
    }
   ],
   "source": [
    "print(df_raw.Enclosure.value_counts(dropna=False))"
   ]
  },
  {
   "cell_type": "code",
   "execution_count": 95,
   "metadata": {},
   "outputs": [],
   "source": [
    "df_keep['Enclosure'] = df_raw['Enclosure'].values\n",
    "df_keep['Enclosure'] = df_keep['Enclosure'].replace('EROPS w AC', 'EROPS AC')\n",
    "df_keep['Enclosure'] = df_keep['Enclosure'].replace('None or Unspecified', np.nan)\n",
    "df_keep['Enclosure'] = df_keep['Enclosure'].replace('NO ROPS', np.nan)"
   ]
  },
  {
   "cell_type": "code",
   "execution_count": 96,
   "metadata": {},
   "outputs": [],
   "source": [
    "df_tmp['Enclosure'] = df_raw['Enclosure'].values\n",
    "df_tmp['Enclosure'] = df_tmp['Enclosure'].replace('EROPS w AC', 'EROPS AC')\n",
    "df_tmp['Enclosure'] = df_tmp['Enclosure'].replace('None or Unspecified', np.nan)\n",
    "df_tmp['Enclosure'] = df_tmp['Enclosure'].replace('NO ROPS', np.nan)"
   ]
  },
  {
   "cell_type": "code",
   "execution_count": 97,
   "metadata": {},
   "outputs": [
    {
     "data": {
      "text/plain": [
       "<matplotlib.axes._subplots.AxesSubplot at 0x7f85a0f66710>"
      ]
     },
     "execution_count": 97,
     "metadata": {},
     "output_type": "execute_result"
    },
    {
     "data": {
      "image/png": "[encoded data removed]",
      "text/plain": [
       "<Figure size 432x288 with 1 Axes>"
      ]
     },
     "metadata": {
      "needs_background": "light"
     },
     "output_type": "display_data"
    }
   ],
   "source": [
    "temp = df_tmp.groupby('Enclosure').mean()\n",
    "temp[['SalePrice']].sort_values('SalePrice').plot.barh()"
   ]
  },
  {
   "cell_type": "code",
   "execution_count": 98,
   "metadata": {},
   "outputs": [],
   "source": [
    "onehot = pd.get_dummies(df_keep['Enclosure'], prefix='Enclosure', dtype=bool)\n",
    "del df_keep['Enclosure']\n",
    "df_keep = pd.concat([df_keep, onehot], axis=1)"
   ]
  },
  {
   "cell_type": "code",
   "execution_count": 99,
   "metadata": {},
   "outputs": [
    {
     "data": {
      "text/html": [
       "<div>\n",
       "<style scoped>\n",
       "    .dataframe tbody tr th:only-of-type {\n",
       "        vertical-align: middle;\n",
       "    }\n",
       "\n",
       "    .dataframe tbody tr th {\n",
       "        vertical-align: top;\n",
       "    }\n",
       "\n",
       "    .dataframe thead th {\n",
       "        text-align: right;\n",
       "    }\n",
       "</style>\n",
       "<table border=\"1\" class=\"dataframe\">\n",
       "  <thead>\n",
       "    <tr style=\"text-align: right;\">\n",
       "      <th></th>\n",
       "      <th>YearMade</th>\n",
       "      <th>ProductSize</th>\n",
       "      <th>fiProductClassDesc</th>\n",
       "      <th>saleYear</th>\n",
       "      <th>fiSecondaryDesc</th>\n",
       "      <th>ModelID</th>\n",
       "      <th>fiModelDesc</th>\n",
       "      <th>SalesID</th>\n",
       "      <th>ProductGroup</th>\n",
       "      <th>fiBaseModel</th>\n",
       "      <th>...</th>\n",
       "      <th>Hydraulics_Flow_1</th>\n",
       "      <th>Hydraulics_Flow_2</th>\n",
       "      <th>fiProductClassSpec_lower</th>\n",
       "      <th>fiProductClassSpec_upper</th>\n",
       "      <th>fiProductClassSpec_units</th>\n",
       "      <th>fiProductClassSpec_lower_na</th>\n",
       "      <th>fiProductClassSpec_upper_na</th>\n",
       "      <th>Enclosure_EROPS</th>\n",
       "      <th>Enclosure_EROPS AC</th>\n",
       "      <th>Enclosure_OROPS</th>\n",
       "    </tr>\n",
       "  </thead>\n",
       "  <tbody>\n",
       "    <tr>\n",
       "      <th>0</th>\n",
       "      <td>2004.0</td>\n",
       "      <td>0</td>\n",
       "      <td>6</td>\n",
       "      <td>2006</td>\n",
       "      <td>43</td>\n",
       "      <td>3157</td>\n",
       "      <td>963</td>\n",
       "      <td>1139246</td>\n",
       "      <td>6</td>\n",
       "      <td>298</td>\n",
       "      <td>...</td>\n",
       "      <td>False</td>\n",
       "      <td>False</td>\n",
       "      <td>110.0</td>\n",
       "      <td>120.0</td>\n",
       "      <td>2</td>\n",
       "      <td>False</td>\n",
       "      <td>False</td>\n",
       "      <td>False</td>\n",
       "      <td>True</td>\n",
       "      <td>False</td>\n",
       "    </tr>\n",
       "    <tr>\n",
       "      <th>1</th>\n",
       "      <td>1996.0</td>\n",
       "      <td>4</td>\n",
       "      <td>6</td>\n",
       "      <td>2004</td>\n",
       "      <td>57</td>\n",
       "      <td>77</td>\n",
       "      <td>1745</td>\n",
       "      <td>1139248</td>\n",
       "      <td>6</td>\n",
       "      <td>529</td>\n",
       "      <td>...</td>\n",
       "      <td>False</td>\n",
       "      <td>False</td>\n",
       "      <td>150.0</td>\n",
       "      <td>175.0</td>\n",
       "      <td>2</td>\n",
       "      <td>False</td>\n",
       "      <td>False</td>\n",
       "      <td>False</td>\n",
       "      <td>True</td>\n",
       "      <td>False</td>\n",
       "    </tr>\n",
       "    <tr>\n",
       "      <th>2</th>\n",
       "      <td>2001.0</td>\n",
       "      <td>0</td>\n",
       "      <td>4</td>\n",
       "      <td>2004</td>\n",
       "      <td>0</td>\n",
       "      <td>7009</td>\n",
       "      <td>336</td>\n",
       "      <td>1139249</td>\n",
       "      <td>3</td>\n",
       "      <td>111</td>\n",
       "      <td>...</td>\n",
       "      <td>False</td>\n",
       "      <td>True</td>\n",
       "      <td>1351.0</td>\n",
       "      <td>1601.0</td>\n",
       "      <td>3</td>\n",
       "      <td>False</td>\n",
       "      <td>False</td>\n",
       "      <td>False</td>\n",
       "      <td>False</td>\n",
       "      <td>True</td>\n",
       "    </tr>\n",
       "    <tr>\n",
       "      <th>3</th>\n",
       "      <td>2001.0</td>\n",
       "      <td>3</td>\n",
       "      <td>2</td>\n",
       "      <td>2011</td>\n",
       "      <td>0</td>\n",
       "      <td>332</td>\n",
       "      <td>3716</td>\n",
       "      <td>1139251</td>\n",
       "      <td>4</td>\n",
       "      <td>1381</td>\n",
       "      <td>...</td>\n",
       "      <td>False</td>\n",
       "      <td>False</td>\n",
       "      <td>12.0</td>\n",
       "      <td>14.0</td>\n",
       "      <td>4</td>\n",
       "      <td>False</td>\n",
       "      <td>False</td>\n",
       "      <td>False</td>\n",
       "      <td>True</td>\n",
       "      <td>False</td>\n",
       "    </tr>\n",
       "    <tr>\n",
       "      <th>4</th>\n",
       "      <td>2007.0</td>\n",
       "      <td>0</td>\n",
       "      <td>4</td>\n",
       "      <td>2009</td>\n",
       "      <td>0</td>\n",
       "      <td>17311</td>\n",
       "      <td>4261</td>\n",
       "      <td>1139253</td>\n",
       "      <td>3</td>\n",
       "      <td>1538</td>\n",
       "      <td>...</td>\n",
       "      <td>False</td>\n",
       "      <td>True</td>\n",
       "      <td>1601.0</td>\n",
       "      <td>1751.0</td>\n",
       "      <td>3</td>\n",
       "      <td>False</td>\n",
       "      <td>False</td>\n",
       "      <td>True</td>\n",
       "      <td>False</td>\n",
       "      <td>False</td>\n",
       "    </tr>\n",
       "  </tbody>\n",
       "</table>\n",
       "<p>5 rows × 33 columns</p>\n",
       "</div>"
      ],
      "text/plain": [
       "   YearMade  ProductSize  fiProductClassDesc  saleYear  fiSecondaryDesc  \\\n",
       "0    2004.0            0                   6      2006               43   \n",
       "1    1996.0            4                   6      2004               57   \n",
       "2    2001.0            0                   4      2004                0   \n",
       "3    2001.0            3                   2      2011                0   \n",
       "4    2007.0            0                   4      2009                0   \n",
       "\n",
       "   ModelID  fiModelDesc  SalesID  ProductGroup  fiBaseModel  ...  \\\n",
       "0     3157          963  1139246             6          298  ...   \n",
       "1       77         1745  1139248             6          529  ...   \n",
       "2     7009          336  1139249             3          111  ...   \n",
       "3      332         3716  1139251             4         1381  ...   \n",
       "4    17311         4261  1139253             3         1538  ...   \n",
       "\n",
       "   Hydraulics_Flow_1  Hydraulics_Flow_2  fiProductClassSpec_lower  \\\n",
       "0              False              False                     110.0   \n",
       "1              False              False                     150.0   \n",
       "2              False               True                    1351.0   \n",
       "3              False              False                      12.0   \n",
       "4              False               True                    1601.0   \n",
       "\n",
       "   fiProductClassSpec_upper  fiProductClassSpec_units  \\\n",
       "0                     120.0                         2   \n",
       "1                     175.0                         2   \n",
       "2                    1601.0                         3   \n",
       "3                      14.0                         4   \n",
       "4                    1751.0                         3   \n",
       "\n",
       "   fiProductClassSpec_lower_na  fiProductClassSpec_upper_na  Enclosure_EROPS  \\\n",
       "0                        False                        False            False   \n",
       "1                        False                        False            False   \n",
       "2                        False                        False            False   \n",
       "3                        False                        False            False   \n",
       "4                        False                        False             True   \n",
       "\n",
       "   Enclosure_EROPS AC  Enclosure_OROPS  \n",
       "0                True            False  \n",
       "1                True            False  \n",
       "2               False             True  \n",
       "3                True            False  \n",
       "4               False            False  \n",
       "\n",
       "[5 rows x 33 columns]"
      ]
     },
     "execution_count": 99,
     "metadata": {},
     "output_type": "execute_result"
    }
   ],
   "source": [
    "df_keep.head()"
   ]
  },
  {
   "cell_type": "code",
   "execution_count": 100,
   "metadata": {},
   "outputs": [],
   "source": [
    "X_train, X_valid = split_vals(df_keep, trn_size)"
   ]
  },
  {
   "cell_type": "code",
   "execution_count": 101,
   "metadata": {},
   "outputs": [
    {
     "name": "stdout",
     "output_type": "stream",
     "text": [
      "['Train_RMSE:', 0.12621506822616738, 'Test_RMSE:', 0.2503348655650509, 'R²_Train:', 0.9668760408814424, 'R²_Test:', 0.8851217082032937, ['OOB: ', 0.9083028030401114]]\n"
     ]
    }
   ],
   "source": [
    "m = RandomForestRegressor(n_estimators=40, min_samples_leaf=3, max_features=0.5,\n",
    "                          n_jobs=-1, oob_score=True)\n",
    "m.fit(X_train, y_train)\n",
    "print_score(m)\n",
    "results.append(['Enclosure: ', m.oob_score_]) "
   ]
  },
  {
   "cell_type": "code",
   "execution_count": 102,
   "metadata": {},
   "outputs": [
    {
     "data": {
      "text/plain": [
       "[['Baseline: ', 0.9099025433645491],\n",
       " ['keep: ', 0.9088517567607705],\n",
       " ['YearMade/age: ', 0.908984398991586],\n",
       " ['hydraulics_flow_oh: ', 0.9090436255139654],\n",
       " ['ProductSize: ', 0.909250561420541],\n",
       " ['fiProductClassDesc: ', 0.9093094610941479],\n",
       " ['Enclosure: ', 0.9083028030401114]]"
      ]
     },
     "execution_count": 102,
     "metadata": {},
     "output_type": "execute_result"
    }
   ],
   "source": [
    "results"
   ]
  },
  {
   "cell_type": "code",
   "execution_count": 103,
   "metadata": {},
   "outputs": [
    {
     "data": {
      "text/plain": [
       "<matplotlib.axes._subplots.AxesSubplot at 0x7f858d730128>"
      ]
     },
     "execution_count": 103,
     "metadata": {},
     "output_type": "execute_result"
    },
    {
     "data": {
      "image/png": "[encoded data removed]",
      "text/plain": [
       "<Figure size 864x504 with 1 Axes>"
      ]
     },
     "metadata": {
      "needs_background": "light"
     },
     "output_type": "display_data"
    }
   ],
   "source": [
    "fi = rf_feat_importance(m, df_keep)\n",
    "plot_feature_imp(fi)"
   ]
  },
  {
   "cell_type": "markdown",
   "metadata": {},
   "source": [
    "### fiSecondaryDesc"
   ]
  },
  {
   "cell_type": "code",
   "execution_count": 104,
   "metadata": {},
   "outputs": [
    {
     "name": "stdout",
     "output_type": "stream",
     "text": [
      "NaN    140727\n",
      "C       44431\n",
      "B       40165\n",
      "G       37915\n",
      "H       24729\n",
      "        ...  \n",
      "CKB         1\n",
      "CLR         1\n",
      "BH          1\n",
      "IV          1\n",
      "NLC         1\n",
      "Name: fiSecondaryDesc, Length: 178, dtype: int64\n"
     ]
    }
   ],
   "source": [
    "print(df_raw.fiSecondaryDesc.value_counts(dropna=False))"
   ]
  },
  {
   "cell_type": "code",
   "execution_count": 105,
   "metadata": {},
   "outputs": [
    {
     "data": {
      "text/plain": [
       "<matplotlib.axes._subplots.AxesSubplot at 0x7f85b088a860>"
      ]
     },
     "execution_count": 105,
     "metadata": {},
     "output_type": "execute_result"
    },
    {
     "data": {
      "image/png": "[encoded data removed]",
      "text/plain": [
       "<Figure size 432x288 with 1 Axes>"
      ]
     },
     "metadata": {
      "needs_background": "light"
     },
     "output_type": "display_data"
    }
   ],
   "source": [
    "temp = df_raw.groupby('fiSecondaryDesc').mean()\n",
    "temp[['SalePrice']].sort_values('SalePrice').head(15).plot.barh()"
   ]
  },
  {
   "cell_type": "markdown",
   "metadata": {},
   "source": [
    "Since this variable has so many levels, we do not one hot encode it. "
   ]
  },
  {
   "cell_type": "markdown",
   "metadata": {},
   "source": [
    "### fiModelDesc\n",
    "\n"
   ]
  },
  {
   "cell_type": "code",
   "execution_count": 106,
   "metadata": {},
   "outputs": [
    {
     "name": "stdout",
     "output_type": "stream",
     "text": [
      "310G        5348\n",
      "416C        4976\n",
      "580K        4364\n",
      "310E        4296\n",
      "140G        4186\n",
      "            ... \n",
      "PC360          1\n",
      "215S3          1\n",
      "BL370B         1\n",
      "ZX330CLC       1\n",
      "PC75UR         1\n",
      "Name: fiModelDesc, Length: 5059, dtype: int64\n"
     ]
    }
   ],
   "source": [
    "print(df_raw.fiModelDesc.value_counts(dropna=False))"
   ]
  },
  {
   "cell_type": "code",
   "execution_count": 107,
   "metadata": {},
   "outputs": [
    {
     "data": {
      "text/plain": [
       "<matplotlib.axes._subplots.AxesSubplot at 0x7f85b088a4e0>"
      ]
     },
     "execution_count": 107,
     "metadata": {},
     "output_type": "execute_result"
    },
    {
     "data": {
      "image/png": "[encoded data removed]",
      "text/plain": [
       "<Figure size 432x288 with 1 Axes>"
      ]
     },
     "metadata": {
      "needs_background": "light"
     },
     "output_type": "display_data"
    }
   ],
   "source": [
    "temp = df_raw.groupby('fiModelDesc').mean()\n",
    "temp[['SalePrice']].sort_values('SalePrice').head(15).plot.barh()"
   ]
  },
  {
   "cell_type": "markdown",
   "metadata": {},
   "source": [
    "Since this variable has so many levels, we do not one hot encode it. "
   ]
  },
  {
   "cell_type": "markdown",
   "metadata": {},
   "source": [
    "### SalesID"
   ]
  },
  {
   "cell_type": "markdown",
   "metadata": {},
   "source": [
    "Since SalesID is a unique identifier for a specific auction, it has no predictive value. We can drop Sales ID."
   ]
  },
  {
   "cell_type": "code",
   "execution_count": 108,
   "metadata": {},
   "outputs": [],
   "source": [
    "del df_keep['SalesID']"
   ]
  },
  {
   "cell_type": "code",
   "execution_count": 109,
   "metadata": {},
   "outputs": [],
   "source": [
    "X_train, X_valid = split_vals(df_keep, trn_size)"
   ]
  },
  {
   "cell_type": "code",
   "execution_count": 110,
   "metadata": {},
   "outputs": [
    {
     "name": "stdout",
     "output_type": "stream",
     "text": [
      "['Train_RMSE:', 0.12923633294789566, 'Test_RMSE:', 0.25063550989162775, 'R²_Train:', 0.965271255734955, 'R²_Test:', 0.8848456120564069, ['OOB: ', 0.9081431869325278]]\n"
     ]
    }
   ],
   "source": [
    "m = RandomForestRegressor(n_estimators=40, min_samples_leaf=3, max_features=0.5,\n",
    "                          n_jobs=-1, oob_score=True)\n",
    "m.fit(X_train, y_train)\n",
    "print_score(m)\n",
    "results.append(['SalesID: ', m.oob_score_]) "
   ]
  },
  {
   "cell_type": "code",
   "execution_count": 111,
   "metadata": {},
   "outputs": [
    {
     "data": {
      "text/plain": [
       "[['Baseline: ', 0.9099025433645491],\n",
       " ['keep: ', 0.9088517567607705],\n",
       " ['YearMade/age: ', 0.908984398991586],\n",
       " ['hydraulics_flow_oh: ', 0.9090436255139654],\n",
       " ['ProductSize: ', 0.909250561420541],\n",
       " ['fiProductClassDesc: ', 0.9093094610941479],\n",
       " ['Enclosure: ', 0.9083028030401114],\n",
       " ['SalesID: ', 0.9081431869325278]]"
      ]
     },
     "execution_count": 111,
     "metadata": {},
     "output_type": "execute_result"
    }
   ],
   "source": [
    "results"
   ]
  },
  {
   "cell_type": "markdown",
   "metadata": {},
   "source": [
    "### Removing redundant features"
   ]
  },
  {
   "cell_type": "markdown",
   "metadata": {},
   "source": [
    "We will no check if any of our remaining features are redundant."
   ]
  },
  {
   "cell_type": "code",
   "execution_count": 112,
   "metadata": {},
   "outputs": [
    {
     "data": {
      "image/png": "[encoded data removed]",
      "text/plain": [
       "<Figure size 1152x720 with 1 Axes>"
      ]
     },
     "metadata": {
      "needs_background": "light"
     },
     "output_type": "display_data"
    }
   ],
   "source": [
    "corr = np.round(scipy.stats.spearmanr(df_keep).correlation, 4)\n",
    "corr_condensed = hc.distance.squareform(1-corr)\n",
    "z = hc.linkage(corr_condensed, method='average')\n",
    "fig = plt.figure(figsize=(16,10))\n",
    "dendrogram = hc.dendrogram(z, labels=df_keep.columns, orientation='left', leaf_font_size=16)\n",
    "plt.show()"
   ]
  },
  {
   "cell_type": "markdown",
   "metadata": {},
   "source": [
    "We will remove some of the related features and measure if model accuracy is impacted."
   ]
  },
  {
   "cell_type": "code",
   "execution_count": 113,
   "metadata": {},
   "outputs": [],
   "source": [
    "def get_oob(df):\n",
    "    m = RandomForestRegressor(n_estimators=40, min_samples_leaf=5, max_features=0.5, n_jobs=-1, oob_score=True)\n",
    "    x, _ = split_vals(df, trn_size)\n",
    "    m.fit(x, y_train)\n",
    "    return m.oob_score_"
   ]
  },
  {
   "cell_type": "code",
   "execution_count": 114,
   "metadata": {},
   "outputs": [
    {
     "data": {
      "text/plain": [
       "0.9064178793110766"
      ]
     },
     "execution_count": 114,
     "metadata": {},
     "output_type": "execute_result"
    }
   ],
   "source": [
    "get_oob(df_keep)"
   ]
  },
  {
   "cell_type": "code",
   "execution_count": 115,
   "metadata": {},
   "outputs": [
    {
     "name": "stdout",
     "output_type": "stream",
     "text": [
      "saleWeekofyear 0.9057914408163118\n",
      "saleDayofyear 0.9059585379518025\n",
      "ProductGroup 0.9059896623626208\n",
      "ProductGroupDesc 0.9061000607343311\n",
      "fiBaseModel 0.9050759032731431\n",
      "fiModelDesc 0.905010559112188\n"
     ]
    }
   ],
   "source": [
    "for c in ('saleWeekofyear', 'saleDayofyear', 'ProductGroup', 'ProductGroupDesc', 'fiBaseModel', 'fiModelDesc'):\n",
    "    print(c, get_oob(df_keep.drop(c, axis=1)))"
   ]
  },
  {
   "cell_type": "code",
   "execution_count": 118,
   "metadata": {},
   "outputs": [
    {
     "data": {
      "text/plain": [
       "0.9062530667459777"
      ]
     },
     "execution_count": 118,
     "metadata": {},
     "output_type": "execute_result"
    }
   ],
   "source": [
    "to_drop = ['saleWeekofyear', 'ProductGroup']\n",
    "get_oob(df_keep.drop(to_drop, axis=1))"
   ]
  },
  {
   "cell_type": "code",
   "execution_count": 125,
   "metadata": {},
   "outputs": [
    {
     "name": "stdout",
     "output_type": "stream",
     "text": [
      "['Train_RMSE:', 0.12933646591621475, 'Test_RMSE:', 0.2507854563890472, 'R²_Train:', 0.9652174188709827, 'R²_Test:', 0.8847077851198836, ['OOB: ', 0.9079890006721351]]\n"
     ]
    }
   ],
   "source": [
    "m = RandomForestRegressor(n_estimators=40, min_samples_leaf=3, max_features=0.5,\n",
    "                          n_jobs=-1, oob_score=True)\n",
    "m.fit(X_train, y_train)\n",
    "print_score(m)\n",
    "results.append(['RedundantFeat: ', m.oob_score_]) "
   ]
  },
  {
   "cell_type": "code",
   "execution_count": 126,
   "metadata": {},
   "outputs": [
    {
     "data": {
      "text/plain": [
       "[['Baseline: ', 0.9099025433645491],\n",
       " ['keep: ', 0.9088517567607705],\n",
       " ['YearMade/age: ', 0.908984398991586],\n",
       " ['hydraulics_flow_oh: ', 0.9090436255139654],\n",
       " ['ProductSize: ', 0.909250561420541],\n",
       " ['fiProductClassDesc: ', 0.9093094610941479],\n",
       " ['Enclosure: ', 0.9083028030401114],\n",
       " ['SalesID: ', 0.9081431869325278],\n",
       " ['RedundantFeat: ', 0.9079890006721351]]"
      ]
     },
     "execution_count": 126,
     "metadata": {},
     "output_type": "execute_result"
    }
   ],
   "source": [
    "results"
   ]
  },
  {
   "cell_type": "markdown",
   "metadata": {},
   "source": [
    "## Extrapolation"
   ]
  },
  {
   "cell_type": "code",
   "execution_count": 143,
   "metadata": {},
   "outputs": [],
   "source": [
    "df_ext = df_keep.copy()\n",
    "df_ext['is_valid'] = 1\n",
    "df_ext.is_valid[:trn_size] = 0"
   ]
  },
  {
   "cell_type": "code",
   "execution_count": 176,
   "metadata": {},
   "outputs": [],
   "source": [
    "??proc_df"
   ]
  },
  {
   "cell_type": "code",
   "execution_count": 144,
   "metadata": {},
   "outputs": [],
   "source": [
    "x , y= df_ext.drop(['is_valid'], axis=1), df_ext['is_valid']"
   ]
  },
  {
   "cell_type": "code",
   "execution_count": 145,
   "metadata": {},
   "outputs": [
    {
     "data": {
      "text/plain": [
       "0.9996849996849997"
      ]
     },
     "execution_count": 145,
     "metadata": {},
     "output_type": "execute_result"
    }
   ],
   "source": [
    "m = RandomForestClassifier(n_estimators=40, min_samples_leaf=3, max_features=0.5, n_jobs=-1, oob_score=True)\n",
    "m.fit(x, y);\n",
    "m.oob_score_"
   ]
  },
  {
   "cell_type": "code",
   "execution_count": 146,
   "metadata": {},
   "outputs": [
    {
     "data": {
      "text/html": [
       "<div>\n",
       "<style scoped>\n",
       "    .dataframe tbody tr th:only-of-type {\n",
       "        vertical-align: middle;\n",
       "    }\n",
       "\n",
       "    .dataframe tbody tr th {\n",
       "        vertical-align: top;\n",
       "    }\n",
       "\n",
       "    .dataframe thead th {\n",
       "        text-align: right;\n",
       "    }\n",
       "</style>\n",
       "<table border=\"1\" class=\"dataframe\">\n",
       "  <thead>\n",
       "    <tr style=\"text-align: right;\">\n",
       "      <th></th>\n",
       "      <th>cols</th>\n",
       "      <th>imp</th>\n",
       "    </tr>\n",
       "  </thead>\n",
       "  <tbody>\n",
       "    <tr>\n",
       "      <th>3</th>\n",
       "      <td>saleYear</td>\n",
       "      <td>0.852870</td>\n",
       "    </tr>\n",
       "    <tr>\n",
       "      <th>11</th>\n",
       "      <td>MachineID</td>\n",
       "      <td>0.071288</td>\n",
       "    </tr>\n",
       "    <tr>\n",
       "      <th>14</th>\n",
       "      <td>saleDayofyear</td>\n",
       "      <td>0.043586</td>\n",
       "    </tr>\n",
       "    <tr>\n",
       "      <th>18</th>\n",
       "      <td>age</td>\n",
       "      <td>0.007590</td>\n",
       "    </tr>\n",
       "    <tr>\n",
       "      <th>5</th>\n",
       "      <td>ModelID</td>\n",
       "      <td>0.005810</td>\n",
       "    </tr>\n",
       "    <tr>\n",
       "      <th>0</th>\n",
       "      <td>YearMade</td>\n",
       "      <td>0.004528</td>\n",
       "    </tr>\n",
       "    <tr>\n",
       "      <th>6</th>\n",
       "      <td>fiModelDesc</td>\n",
       "      <td>0.002543</td>\n",
       "    </tr>\n",
       "    <tr>\n",
       "      <th>16</th>\n",
       "      <td>saleDay</td>\n",
       "      <td>0.001953</td>\n",
       "    </tr>\n",
       "    <tr>\n",
       "      <th>7</th>\n",
       "      <td>fiBaseModel</td>\n",
       "      <td>0.001684</td>\n",
       "    </tr>\n",
       "    <tr>\n",
       "      <th>23</th>\n",
       "      <td>fiProductClassSpec_upper</td>\n",
       "      <td>0.001346</td>\n",
       "    </tr>\n",
       "  </tbody>\n",
       "</table>\n",
       "</div>"
      ],
      "text/plain": [
       "                        cols       imp\n",
       "3                   saleYear  0.852870\n",
       "11                 MachineID  0.071288\n",
       "14             saleDayofyear  0.043586\n",
       "18                       age  0.007590\n",
       "5                    ModelID  0.005810\n",
       "0                   YearMade  0.004528\n",
       "6                fiModelDesc  0.002543\n",
       "16                   saleDay  0.001953\n",
       "7                fiBaseModel  0.001684\n",
       "23  fiProductClassSpec_upper  0.001346"
      ]
     },
     "execution_count": 146,
     "metadata": {},
     "output_type": "execute_result"
    }
   ],
   "source": [
    "fi = rf_feat_importance(m, x); fi[:10]"
   ]
  },
  {
   "cell_type": "code",
   "execution_count": 147,
   "metadata": {},
   "outputs": [],
   "source": [
    "feats = ['saleYear', 'MachineID', 'saleDayofyear']"
   ]
  },
  {
   "cell_type": "code",
   "execution_count": 148,
   "metadata": {},
   "outputs": [
    {
     "data": {
      "text/html": [
       "<div>\n",
       "<style scoped>\n",
       "    .dataframe tbody tr th:only-of-type {\n",
       "        vertical-align: middle;\n",
       "    }\n",
       "\n",
       "    .dataframe tbody tr th {\n",
       "        vertical-align: top;\n",
       "    }\n",
       "\n",
       "    .dataframe thead th {\n",
       "        text-align: right;\n",
       "    }\n",
       "</style>\n",
       "<table border=\"1\" class=\"dataframe\">\n",
       "  <thead>\n",
       "    <tr style=\"text-align: right;\">\n",
       "      <th></th>\n",
       "      <th>saleYear</th>\n",
       "      <th>MachineID</th>\n",
       "      <th>saleDayofyear</th>\n",
       "    </tr>\n",
       "  </thead>\n",
       "  <tbody>\n",
       "    <tr>\n",
       "      <th>count</th>\n",
       "      <td>400698.000000</td>\n",
       "      <td>400698.000000</td>\n",
       "      <td>400698.000000</td>\n",
       "    </tr>\n",
       "    <tr>\n",
       "      <th>mean</th>\n",
       "      <td>2.004088</td>\n",
       "      <td>1217.289163</td>\n",
       "      <td>0.179870</td>\n",
       "    </tr>\n",
       "    <tr>\n",
       "      <th>std</th>\n",
       "      <td>0.005753</td>\n",
       "      <td>440.761263</td>\n",
       "      <td>0.103549</td>\n",
       "    </tr>\n",
       "    <tr>\n",
       "      <th>min</th>\n",
       "      <td>1.989000</td>\n",
       "      <td>0.000000</td>\n",
       "      <td>0.002000</td>\n",
       "    </tr>\n",
       "    <tr>\n",
       "      <th>25%</th>\n",
       "      <td>2.000000</td>\n",
       "      <td>1088.491250</td>\n",
       "      <td>0.084000</td>\n",
       "    </tr>\n",
       "    <tr>\n",
       "      <th>50%</th>\n",
       "      <td>2.006000</td>\n",
       "      <td>1279.127000</td>\n",
       "      <td>0.168000</td>\n",
       "    </tr>\n",
       "    <tr>\n",
       "      <th>75%</th>\n",
       "      <td>2.009000</td>\n",
       "      <td>1467.527000</td>\n",
       "      <td>0.271000</td>\n",
       "    </tr>\n",
       "    <tr>\n",
       "      <th>max</th>\n",
       "      <td>2.011000</td>\n",
       "      <td>2486.330000</td>\n",
       "      <td>0.365000</td>\n",
       "    </tr>\n",
       "  </tbody>\n",
       "</table>\n",
       "</div>"
      ],
      "text/plain": [
       "            saleYear      MachineID  saleDayofyear\n",
       "count  400698.000000  400698.000000  400698.000000\n",
       "mean        2.004088    1217.289163       0.179870\n",
       "std         0.005753     440.761263       0.103549\n",
       "min         1.989000       0.000000       0.002000\n",
       "25%         2.000000    1088.491250       0.084000\n",
       "50%         2.006000    1279.127000       0.168000\n",
       "75%         2.009000    1467.527000       0.271000\n",
       "max         2.011000    2486.330000       0.365000"
      ]
     },
     "execution_count": 148,
     "metadata": {},
     "output_type": "execute_result"
    }
   ],
   "source": [
    "(X_train[feats]/1000).describe()"
   ]
  },
  {
   "cell_type": "code",
   "execution_count": 149,
   "metadata": {},
   "outputs": [
    {
     "data": {
      "text/html": [
       "<div>\n",
       "<style scoped>\n",
       "    .dataframe tbody tr th:only-of-type {\n",
       "        vertical-align: middle;\n",
       "    }\n",
       "\n",
       "    .dataframe tbody tr th {\n",
       "        vertical-align: top;\n",
       "    }\n",
       "\n",
       "    .dataframe thead th {\n",
       "        text-align: right;\n",
       "    }\n",
       "</style>\n",
       "<table border=\"1\" class=\"dataframe\">\n",
       "  <thead>\n",
       "    <tr style=\"text-align: right;\">\n",
       "      <th></th>\n",
       "      <th>saleYear</th>\n",
       "      <th>MachineID</th>\n",
       "      <th>saleDayofyear</th>\n",
       "    </tr>\n",
       "  </thead>\n",
       "  <tbody>\n",
       "    <tr>\n",
       "      <th>count</th>\n",
       "      <td>12000.000000</td>\n",
       "      <td>12000.000000</td>\n",
       "      <td>12000.000000</td>\n",
       "    </tr>\n",
       "    <tr>\n",
       "      <th>mean</th>\n",
       "      <td>2.011964</td>\n",
       "      <td>1656.546814</td>\n",
       "      <td>0.073744</td>\n",
       "    </tr>\n",
       "    <tr>\n",
       "      <th>std</th>\n",
       "      <td>0.000185</td>\n",
       "      <td>642.566886</td>\n",
       "      <td>0.048687</td>\n",
       "    </tr>\n",
       "    <tr>\n",
       "      <th>min</th>\n",
       "      <td>2.011000</td>\n",
       "      <td>0.150000</td>\n",
       "      <td>0.001000</td>\n",
       "    </tr>\n",
       "    <tr>\n",
       "      <th>25%</th>\n",
       "      <td>2.012000</td>\n",
       "      <td>1142.787750</td>\n",
       "      <td>0.044000</td>\n",
       "    </tr>\n",
       "    <tr>\n",
       "      <th>50%</th>\n",
       "      <td>2.012000</td>\n",
       "      <td>1861.335500</td>\n",
       "      <td>0.068000</td>\n",
       "    </tr>\n",
       "    <tr>\n",
       "      <th>75%</th>\n",
       "      <td>2.012000</td>\n",
       "      <td>2268.800000</td>\n",
       "      <td>0.089000</td>\n",
       "    </tr>\n",
       "    <tr>\n",
       "      <th>max</th>\n",
       "      <td>2.012000</td>\n",
       "      <td>2485.252000</td>\n",
       "      <td>0.364000</td>\n",
       "    </tr>\n",
       "  </tbody>\n",
       "</table>\n",
       "</div>"
      ],
      "text/plain": [
       "           saleYear     MachineID  saleDayofyear\n",
       "count  12000.000000  12000.000000   12000.000000\n",
       "mean       2.011964   1656.546814       0.073744\n",
       "std        0.000185    642.566886       0.048687\n",
       "min        2.011000      0.150000       0.001000\n",
       "25%        2.012000   1142.787750       0.044000\n",
       "50%        2.012000   1861.335500       0.068000\n",
       "75%        2.012000   2268.800000       0.089000\n",
       "max        2.012000   2485.252000       0.364000"
      ]
     },
     "execution_count": 149,
     "metadata": {},
     "output_type": "execute_result"
    }
   ],
   "source": [
    "(X_valid[feats]/1000).describe()"
   ]
  },
  {
   "cell_type": "code",
   "execution_count": 150,
   "metadata": {},
   "outputs": [],
   "source": [
    "x.drop(feats, axis=1, inplace=True)"
   ]
  },
  {
   "cell_type": "code",
   "execution_count": 151,
   "metadata": {},
   "outputs": [
    {
     "data": {
      "text/plain": [
       "0.9931063392601854"
      ]
     },
     "execution_count": 151,
     "metadata": {},
     "output_type": "execute_result"
    }
   ],
   "source": [
    "m = RandomForestClassifier(n_estimators=40, min_samples_leaf=3, max_features=0.3, n_jobs=-1, oob_score=True)\n",
    "m.fit(x, y);\n",
    "m.oob_score_"
   ]
  },
  {
   "cell_type": "code",
   "execution_count": 152,
   "metadata": {},
   "outputs": [
    {
     "data": {
      "text/html": [
       "<div>\n",
       "<style scoped>\n",
       "    .dataframe tbody tr th:only-of-type {\n",
       "        vertical-align: middle;\n",
       "    }\n",
       "\n",
       "    .dataframe tbody tr th {\n",
       "        vertical-align: top;\n",
       "    }\n",
       "\n",
       "    .dataframe thead th {\n",
       "        text-align: right;\n",
       "    }\n",
       "</style>\n",
       "<table border=\"1\" class=\"dataframe\">\n",
       "  <thead>\n",
       "    <tr style=\"text-align: right;\">\n",
       "      <th></th>\n",
       "      <th>cols</th>\n",
       "      <th>imp</th>\n",
       "    </tr>\n",
       "  </thead>\n",
       "  <tbody>\n",
       "    <tr>\n",
       "      <th>0</th>\n",
       "      <td>YearMade</td>\n",
       "      <td>0.350241</td>\n",
       "    </tr>\n",
       "    <tr>\n",
       "      <th>15</th>\n",
       "      <td>age</td>\n",
       "      <td>0.346612</td>\n",
       "    </tr>\n",
       "    <tr>\n",
       "      <th>13</th>\n",
       "      <td>saleDay</td>\n",
       "      <td>0.066159</td>\n",
       "    </tr>\n",
       "    <tr>\n",
       "      <th>12</th>\n",
       "      <td>state</td>\n",
       "      <td>0.050132</td>\n",
       "    </tr>\n",
       "    <tr>\n",
       "      <th>4</th>\n",
       "      <td>ModelID</td>\n",
       "      <td>0.032579</td>\n",
       "    </tr>\n",
       "    <tr>\n",
       "      <th>14</th>\n",
       "      <td>YearMade_na</td>\n",
       "      <td>0.028002</td>\n",
       "    </tr>\n",
       "    <tr>\n",
       "      <th>5</th>\n",
       "      <td>fiModelDesc</td>\n",
       "      <td>0.024186</td>\n",
       "    </tr>\n",
       "    <tr>\n",
       "      <th>6</th>\n",
       "      <td>fiBaseModel</td>\n",
       "      <td>0.020413</td>\n",
       "    </tr>\n",
       "    <tr>\n",
       "      <th>19</th>\n",
       "      <td>fiProductClassSpec_lower</td>\n",
       "      <td>0.014171</td>\n",
       "    </tr>\n",
       "    <tr>\n",
       "      <th>20</th>\n",
       "      <td>fiProductClassSpec_upper</td>\n",
       "      <td>0.013516</td>\n",
       "    </tr>\n",
       "  </tbody>\n",
       "</table>\n",
       "</div>"
      ],
      "text/plain": [
       "                        cols       imp\n",
       "0                   YearMade  0.350241\n",
       "15                       age  0.346612\n",
       "13                   saleDay  0.066159\n",
       "12                     state  0.050132\n",
       "4                    ModelID  0.032579\n",
       "14               YearMade_na  0.028002\n",
       "5                fiModelDesc  0.024186\n",
       "6                fiBaseModel  0.020413\n",
       "19  fiProductClassSpec_lower  0.014171\n",
       "20  fiProductClassSpec_upper  0.013516"
      ]
     },
     "execution_count": 152,
     "metadata": {},
     "output_type": "execute_result"
    }
   ],
   "source": [
    "fi = rf_feat_importance(m, x); fi[:10]"
   ]
  },
  {
   "cell_type": "code",
   "execution_count": 153,
   "metadata": {},
   "outputs": [],
   "source": [
    "feats = ['saleYear', 'MachineID', 'saleDayofyear', 'YearMade', 'age', 'saleDay']"
   ]
  },
  {
   "cell_type": "code",
   "execution_count": 155,
   "metadata": {},
   "outputs": [
    {
     "name": "stdout",
     "output_type": "stream",
     "text": [
      "['Train_RMSE:', 0.13032542680661435, 'Test_RMSE:', 0.2511609827208795, 'R²_Train:', 0.9646834607908463, 'R²_Test:', 0.8843622493113401, ['OOB: ', 0.908289382633092]]\n"
     ]
    }
   ],
   "source": [
    "X_train, X_valid = split_vals(df_keep, trn_size)\n",
    "m = RandomForestRegressor(n_estimators=40, min_samples_leaf=3, max_features=0.5, n_jobs=-1, oob_score=True)\n",
    "m.fit(X_train, y_train)\n",
    "print_score(m)"
   ]
  },
  {
   "cell_type": "code",
   "execution_count": 158,
   "metadata": {},
   "outputs": [
    {
     "name": "stdout",
     "output_type": "stream",
     "text": [
      "saleYear\n",
      "['Train_RMSE:', 0.1348263772840733, 'Test_RMSE:', 0.25529967446200835, 'R²_Train:', 0.9622019358290405, 'R²_Test:', 0.8805198359595933, ['OOB: ', 0.9036776200935974]]\n",
      "MachineID\n",
      "['Train_RMSE:', 0.13609187184535437, 'Test_RMSE:', 0.25121790329542937, 'R²_Train:', 0.9614890526449553, 'R²_Test:', 0.8843098294410616, ['OOB: ', 0.9096218383373215]]\n",
      "saleDayofyear\n",
      "['Train_RMSE:', 0.13840841220649797, 'Test_RMSE:', 0.25191950017499093, 'R²_Train:', 0.9601668363755116, 'R²_Test:', 0.8836627322105425, ['OOB: ', 0.905077866793266]]\n",
      "YearMade\n",
      "['Train_RMSE:', 0.13280452259037012, 'Test_RMSE:', 0.2614831329548174, 'R²_Train:', 0.9633270744235615, 'R²_Test:', 0.8746620325169295, ['OOB: ', 0.9069430134645907]]\n",
      "age\n",
      "['Train_RMSE:', 0.1322351589644761, 'Test_RMSE:', 0.24157093444028221, 'R²_Train:', 0.9636408509469916, 'R²_Test:', 0.8930244207874839, ['OOB: ', 0.9083163905159154]]\n",
      "saleDay\n",
      "['Train_RMSE:', 0.13495517974267612, 'Test_RMSE:', 0.2508361168966583, 'R²_Train:', 0.962129682770316, 'R²_Test:', 0.8846612006635757, ['OOB: ', 0.9079645530396546]]\n"
     ]
    }
   ],
   "source": [
    "for f in feats:\n",
    "    df_subs = df_keep.drop(f, axis=1)\n",
    "    X_train, X_valid = split_vals(df_subs, trn_size)\n",
    "    m = RandomForestRegressor(n_estimators=40, min_samples_leaf=3, max_features=0.5, n_jobs=-1, oob_score=True)\n",
    "    m.fit(X_train, y_train)\n",
    "    print(f)\n",
    "    print_score(m)"
   ]
  },
  {
   "cell_type": "code",
   "execution_count": 177,
   "metadata": {},
   "outputs": [
    {
     "name": "stdout",
     "output_type": "stream",
     "text": [
      "['Train_RMSE:', 0.1433127077725396, 'Test_RMSE:', 0.23999740234946632, 'R²_Train:', 0.9572939670697196, 'R²_Test:', 0.8944135057720163, ['OOB: ', 0.9105390193222292]]\n"
     ]
    }
   ],
   "source": [
    "df_subs = df_keep.drop(['MachineID', 'age', 'saleDay'], axis=1)\n",
    "X_train, X_valid = split_vals(df_subs, trn_size)\n",
    "m = RandomForestRegressor(n_estimators=40, min_samples_leaf=3, max_features=0.5, n_jobs=-1, oob_score=True)\n",
    "m.fit(X_train, y_train)\n",
    "print_score(m)"
   ]
  },
  {
   "cell_type": "code",
   "execution_count": null,
   "metadata": {},
   "outputs": [],
   "source": []
  },
  {
   "cell_type": "code",
   "execution_count": null,
   "metadata": {},
   "outputs": [],
   "source": []
  },
  {
   "cell_type": "code",
   "execution_count": null,
   "metadata": {},
   "outputs": [],
   "source": []
  },
  {
   "cell_type": "code",
   "execution_count": null,
   "metadata": {},
   "outputs": [],
   "source": []
  },
  {
   "cell_type": "code",
   "execution_count": null,
   "metadata": {},
   "outputs": [],
   "source": []
  },
  {
   "cell_type": "code",
   "execution_count": null,
   "metadata": {},
   "outputs": [],
   "source": []
  },
  {
   "cell_type": "code",
   "execution_count": null,
   "metadata": {},
   "outputs": [],
   "source": []
  },
  {
   "cell_type": "code",
   "execution_count": null,
   "metadata": {},
   "outputs": [],
   "source": []
  },
  {
   "cell_type": "code",
   "execution_count": null,
   "metadata": {},
   "outputs": [],
   "source": []
  },
  {
   "cell_type": "code",
   "execution_count": null,
   "metadata": {},
   "outputs": [],
   "source": []
  },
  {
   "cell_type": "code",
   "execution_count": null,
   "metadata": {},
   "outputs": [],
   "source": []
  },
  {
   "cell_type": "code",
   "execution_count": 237,
   "metadata": {},
   "outputs": [],
   "source": [
    "def preprocess_df(df):\n",
    "    \n",
    "\n",
    "    def string_norm(df):\n",
    "        for col in df.columns:\n",
    "            if is_string_dtype(df[col]) or is_object_dtype(df[col]):\n",
    "                df[col] = df[col].str.lower()\n",
    "                df[col] = df[col].fillna(np.nan) \n",
    "                df[col] = df[col].replace('none or unspecified', np.nan)\n",
    "                df[col] = df[col].replace('none', np.nan)\n",
    "                df[col] = df[col].replace('', np.nan)\n",
    "            \n",
    "    string_norm(df)\n",
    "    \n",
    "    def fix_na_num (df, col):\n",
    "        df[col+'_na'] = pd.isnull(df[col]) \n",
    "        df[col].fillna(df[col].median(), inplace=True)\n",
    "        \n",
    "    df.loc[df.YearMade<1950, 'YearMade'] = np.nan\n",
    "    fix_na_num(df, 'YearMade')\n",
    "    \n",
    "    def prep_date(df, date_col):\n",
    "        df[\"saleYear\"] = df[date_col].dt.year\n",
    "        df[\"saleMonth\"] = df[date_col].dt.month\n",
    "        df[\"saleDay\"] = df[date_col].dt.day\n",
    "        df[\"saleDayofweek\"] = df[date_col].dt.dayofweek\n",
    "        df[\"saleWeekofyear\"] = df[date_col].dt.weekofyear\n",
    "        df[\"saleDayofyear\"] = df[date_col].dt.dayofyear\n",
    "        df[\"saleQuarter\"] = df[date_col].dt.quarter\n",
    "        df[\"saleIsWeekend\"] = np.where((df[date_col].dt.day_name == ['Sunday', 'Saturday']),1,0)\n",
    "        df[\"saleIsQuarterStart\"] = np.where(df[date_col].dt.month.isin([1, 4, 7, 10]),1 ,0)\n",
    "        df[\"saleIsQuarterEnd\"] = np.where(df[date_col].dt.month.isin([3, 6, 9, 12]),1 ,0)\n",
    "        df.loc[df.eval(\"saleYear < YearMade\"), 'YearMade'] = df['saleYear']\n",
    "        df['age'] = df.saleYear - df.YearMade\n",
    "        df.drop(date_col, axis=1, inplace=True)\n",
    "    \n",
    "        return df\n",
    "\n",
    "    \n",
    "    df= prep_date(df, 'saledate')\n",
    "    \n",
    "    \n",
    "    df['auctioneerID'] = df['auctioneerID'].astype(str)\n",
    "     \n",
    "    \n",
    "    fix_na_num(df, 'MachineHoursCurrentMeter')\n",
    "    \n",
    "\n",
    "    print('lol')\n",
    "    def remove_inch(df, colname):\n",
    "        df[colname] = df[colname].str.extract(r'([0-9.]*)', expand=True)\n",
    "        df[colname] = pd.to_numeric(df[colname])\n",
    "\n",
    "    remove_inch(df, 'Tire_Size')\n",
    "    remove_inch(df, 'Undercarriage_Pad_Width')\n",
    "    fix_na_num(df, 'Tire_Size')\n",
    "    fix_na_num(df, 'Undercarriage_Pad_Width')\n",
    "    \n",
    "    def to_cat(df):\n",
    "        for col in df.columns:\n",
    "            if is_string_dtype(df[col]):\n",
    "                df[col] = df[col].astype('category').cat.as_ordered()\n",
    "\n",
    "    def to_catcode(df):\n",
    "        for col in df.columns:\n",
    "            if is_categorical_dtype(df[col]):\n",
    "                df[col] = df[col].cat.codes + 1\n",
    "                \n",
    "    to_cat(df)\n",
    "    #to_catcode(df)\n",
    "    \n",
    "    # One Hot Encode\n",
    "    \n",
    "    def onehot(df, colname):\n",
    "    ascat = df[colname].astype('category').cat.as_ordered()\n",
    "    onehot = pd.get_dummies(df[colname], prefix=colname, dtype=bool)\n",
    "    del df[colname]\n",
    "    df = pd.concat([df, onehot], axis=1)\n",
    "    # return altered dataframe and column training categories\n",
    "    return df, ascat.cat.categories\n",
    "\n",
    "    oh = pd.get_dummies(df['Hydraulics_Flow'], prefix='Hydraulics_Flow',dtype=bool)\n",
    "    df = pd.concat([df, oh], axis=1)\n",
    "    del df['Hydraulics_Flow']\n",
    "    \n",
    "    df['SalePrice'] = np.log(df['SalePrice'])\n",
    "    \n",
    "    return df"
   ]
  },
  {
   "cell_type": "code",
   "execution_count": null,
   "metadata": {},
   "outputs": [],
   "source": [
    "def feat_eng (df):\n",
    "    \n",
    "    df= df[to_keep].copy()\n",
    "    \n",
    "    df.loc[df.YearMade<1950, 'YearMade'] = np.nan\n",
    "    fix_na_num(df, 'YearMade')\n",
    "    df['age'] = df.saleYear - df.YearMade"
   ]
  },
  {
   "cell_type": "code",
   "execution_count": null,
   "metadata": {},
   "outputs": [],
   "source": [
    "#def one_hot(df, fld):\n",
    " #   oh = pd.get_dummies(df[fld], prefix=fld, dtype=bool)\n",
    "  #  df = pd.concat([df, oh], axis=1)\n",
    "\n",
    "#one_hot(df = df_keep,fld='Hydraulics_Flow')\n",
    "#one_hot(df_tmp, 'Hydraulics_Flow')"
   ]
  },
  {
   "cell_type": "code",
   "execution_count": null,
   "metadata": {},
   "outputs": [],
   "source": []
  },
  {
   "cell_type": "code",
   "execution_count": null,
   "metadata": {},
   "outputs": [],
   "source": []
  },
  {
   "cell_type": "code",
   "execution_count": null,
   "metadata": {},
   "outputs": [],
   "source": []
  }
 ],
 "metadata": {
  "kernelspec": {
   "display_name": "Python 3",
   "language": "python",
   "name": "python3"
  },
  "language_info": {
   "codemirror_mode": {
    "name": "ipython",
    "version": 3
   },
   "file_extension": ".py",
   "mimetype": "text/x-python",
   "name": "python",
   "nbconvert_exporter": "python",
   "pygments_lexer": "ipython3",
   "version": "3.6.10"
  }
 },
 "nbformat": 4,
 "nbformat_minor": 4
}
